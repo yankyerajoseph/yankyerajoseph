{
  "cells": [
    {
      "cell_type": "markdown",
      "metadata": {
        "id": "view-in-github",
        "colab_type": "text"
      },
      "source": [
        "<a href=\"https://colab.research.google.com/github/yankyerajoseph/yankyerajoseph/blob/main/Appendix_B_Kinetic_Modelling_of_the_AD_of_Pretreated_Fibrous_Waste_Mixture.ipynb\" target=\"_parent\"><img src=\"https://colab.research.google.com/assets/colab-badge.svg\" alt=\"Open In Colab\"/></a>"
      ]
    },
    {
      "cell_type": "code",
      "execution_count": 1,
      "metadata": {
        "colab": {
          "base_uri": "https://localhost:8080/"
        },
        "id": "6QsChO69zSFk",
        "outputId": "2f465b64-69f5-4cab-fa82-6de8f1e424cc"
      },
      "outputs": [
        {
          "output_type": "stream",
          "name": "stdout",
          "text": [
            "Python codes to generally describe or analyse biogas trial data\n"
          ]
        }
      ],
      "source": [
        "print (\"Python codes to generally describe or analyse biogas trial data\")"
      ]
    },
    {
      "cell_type": "code",
      "execution_count": 2,
      "metadata": {
        "colab": {
          "base_uri": "https://localhost:8080/"
        },
        "id": "gvuVCrBT69Ii",
        "outputId": "2d43370a-2174-4bb7-906b-66d1614681c5"
      },
      "outputs": [
        {
          "output_type": "stream",
          "name": "stdout",
          "text": [
            "Introduction\n"
          ]
        }
      ],
      "source": [
        "print (\"Introduction\")"
      ]
    },
    {
      "cell_type": "code",
      "execution_count": 3,
      "metadata": {
        "colab": {
          "base_uri": "https://localhost:8080/"
        },
        "id": "EQDacztVzYZ-",
        "outputId": "4aa9d4aa-57df-4c73-dafd-4add2eb60dfd"
      },
      "outputs": [
        {
          "output_type": "stream",
          "name": "stdout",
          "text": [
            "Joseph Yankyera Kusi\n"
          ]
        }
      ],
      "source": [
        "Researcher= \"Joseph Yankyera Kusi\"\n",
        "print (Researcher)"
      ]
    },
    {
      "cell_type": "code",
      "execution_count": 4,
      "metadata": {
        "colab": {
          "base_uri": "https://localhost:8080/"
        },
        "id": "jBGW1-e5zn7v",
        "outputId": "082ab511-4925-46a9-a77b-cc80e0644cb3"
      },
      "outputs": [
        {
          "output_type": "stream",
          "name": "stdout",
          "text": [
            "PhD Sustainable Energy Management\n",
            "Dep't of Renewable Energy Engineering, School of Energy, University of Energy and Natural Resources, Sunyani, Ghana\n"
          ]
        }
      ],
      "source": [
        "Program = \"PhD Sustainable Energy Management\"\n",
        "GrantingInstitution = \"Dep't of Renewable Energy Engineering, School of Energy, University of Energy and Natural Resources, Sunyani, Ghana\"\n",
        "print (Program)\n",
        "print (GrantingInstitution)"
      ]
    },
    {
      "cell_type": "code",
      "execution_count": 5,
      "metadata": {
        "colab": {
          "base_uri": "https://localhost:8080/"
        },
        "id": "2Q7xYyja2ivx",
        "outputId": "be406eee-1b4d-41fd-a4d7-75bce53ff8ee"
      },
      "outputs": [
        {
          "output_type": "stream",
          "name": "stdout",
          "text": [
            "('Prof. Dr. Nana Sarfo Agyemang Derkyi', 'Prof. Dr. Stefan Pelz', 'Prof. Dr. Francis Attiogbe')\n"
          ]
        }
      ],
      "source": [
        "Supervisors = \"Prof. Dr. Nana Sarfo Agyemang Derkyi\", \"Prof. Dr. Stefan Pelz\", \"Prof. Dr. Francis Attiogbe\"\n",
        "print (Supervisors)"
      ]
    },
    {
      "cell_type": "code",
      "execution_count": 6,
      "metadata": {
        "id": "ksqlN4vo4B8M"
      },
      "outputs": [],
      "source": [
        "#These lines of codes are attempting to import all the data sets that will be analysed"
      ]
    },
    {
      "cell_type": "code",
      "execution_count": 7,
      "metadata": {
        "id": "LB8Dw-8x4MVl"
      },
      "outputs": [],
      "source": [
        "#Prepare the necessary foundations\n",
        "import os\n",
        "import numpy as np\n",
        "import pandas as pd\n",
        "import matplotlib.pyplot as plt\n",
        "import seaborn as sns\n"
      ]
    },
    {
      "cell_type": "code",
      "execution_count": 8,
      "metadata": {
        "id": "0j3zwZvdDgYf"
      },
      "outputs": [],
      "source": [
        "#Codes to enable easily manipulation of data\n",
        "from google.colab import data_table\n",
        "data_table.enable_dataframe_formatter()"
      ]
    },
    {
      "cell_type": "code",
      "execution_count": 9,
      "metadata": {
        "colab": {
          "base_uri": "https://localhost:8080/"
        },
        "id": "CLtF4cBivE1i",
        "outputId": "c4f2271f-5ba3-40fa-e114-585520602dff"
      },
      "outputs": [
        {
          "output_type": "stream",
          "name": "stdout",
          "text": [
            "Mounted at /content/drive\n"
          ]
        }
      ],
      "source": [
        "from google.colab import drive\n",
        "drive.mount('/content/drive')"
      ]
    },
    {
      "cell_type": "code",
      "execution_count": 10,
      "metadata": {
        "id": "Ic6dF5SCcWjf"
      },
      "outputs": [],
      "source": [
        "#extra libraries\n",
        "import statsmodels.api as sm\n",
        "from sklearn.linear_model import LinearRegression"
      ]
    },
    {
      "cell_type": "code",
      "execution_count": 11,
      "metadata": {
        "colab": {
          "base_uri": "https://localhost:8080/"
        },
        "id": "ho5FHz-6ZVbj",
        "outputId": "a8a6584b-e081-40dd-ca10-4a9a38695db7"
      },
      "outputs": [
        {
          "output_type": "stream",
          "name": "stdout",
          "text": [
            "Drive already mounted at /content/drive; to attempt to forcibly remount, call drive.mount(\"/content/drive\", force_remount=True).\n",
            "Hydrolysed Materials\n",
            "    HRT (d)   YPCM (ml/g oTS)   HM (ml/g oTS)   NHMM (ml/g oTS)   \\\n",
            "0       0.00              0.00            0.00              0.00   \n",
            "1       1.00             11.35           25.36             12.21   \n",
            "2       2.08             96.45          184.58            168.56   \n",
            "3       3.09            197.16          249.39            251.62   \n",
            "4       4.02            266.67          312.79            315.84   \n",
            "5       4.93            307.80          370.56            362.60   \n",
            "6       6.84            363.83          466.37            438.68   \n",
            "7       8.07            381.56          508.64            457.53   \n",
            "8       9.05            392.91          519.91            467.30   \n",
            "9      10.74            410.64          532.59            480.56   \n",
            "10     11.09            412.77          534.71            482.65   \n",
            "11     13.86            434.75          549.50            491.73   \n",
            "12     15.04            441.13          553.73            496.61   \n",
            "13     16.00            447.52          556.55            501.50   \n",
            "14     17.10            453.19          560.77            505.69   \n",
            "15     18.00            458.16          563.59            508.48   \n",
            "16     20.88            467.38          565.70            516.16   \n",
            "17     24.04            475.89          561.48            521.04   \n",
            "18     28.00            480.85          556.55            525.93   \n",
            "19     30.04            483.69          554.43            528.02   \n",
            "\n",
            "    HPC (ml/g oTS)   \n",
            "0              0.00  \n",
            "1              7.43  \n",
            "2            134.43  \n",
            "3            235.76  \n",
            "4            302.64  \n",
            "5            356.68  \n",
            "6            422.21  \n",
            "7            439.10  \n",
            "8            448.55  \n",
            "9            462.74  \n",
            "10           464.09  \n",
            "11           481.65  \n",
            "12           485.03  \n",
            "13           489.08  \n",
            "14           492.46  \n",
            "15           495.16  \n",
            "16           502.60  \n",
            "17           508.00  \n",
            "18           506.65  \n",
            "19           505.30  \n"
          ]
        }
      ],
      "source": [
        "import pandas as pd\n",
        "from google.colab import drive\n",
        "drive.mount('/content/drive')\n",
        "file_path = '/content/drive/MyDrive/SummaryofBY/HMNHMMetal.csv'\n",
        "data = pd.read_csv(file_path)\n",
        "cleaned_data = data.dropna()\n",
        "print (\"Hydrolysed Materials\")\n",
        "print (data)"
      ]
    },
    {
      "cell_type": "code",
      "execution_count": 12,
      "metadata": {
        "colab": {
          "base_uri": "https://localhost:8080/",
          "height": 399
        },
        "id": "ssTlXrUCeQS6",
        "outputId": "7708f5aa-6914-4a48-fdb9-64c9a7a7b5ed"
      },
      "outputs": [
        {
          "output_type": "stream",
          "name": "stdout",
          "text": [
            "      Column   HRT (d)    YPCM (ml/g oTS)    HM (ml/g oTS)   \\\n",
            "count  count  20.000000          20.000000        20.000000   \n",
            "mean    mean  12.193500         349.185000       436.360000   \n",
            "std      std   8.899641         154.945497       183.930345   \n",
            "min      min   0.000000           0.000000         0.000000   \n",
            "25%      25%   4.702500         297.517500       356.117500   \n",
            "50%      50%  10.915000         411.705000       533.650000   \n",
            "75%      75%  17.325000         454.432500       556.550000   \n",
            "max      max  30.040000         483.690000       565.700000   \n",
            "\n",
            "        NHMM (ml/g oTS)    HPC (ml/g oTS)   \n",
            "count           20.00000         20.000000  \n",
            "mean           401.63550        386.978000  \n",
            "std            166.76901        164.810897  \n",
            "min              0.00000          0.000000  \n",
            "25%            350.91000        343.170000  \n",
            "50%            481.60500        463.415000  \n",
            "75%            506.38750        493.135000  \n",
            "max            528.02000        508.000000  \n",
            "Index([' HRT (d) ', ' YPCM (ml/g oTS) ', ' HM (ml/g oTS) ',\n",
            "       ' NHMM (ml/g oTS) ', ' HPC (ml/g oTS) '],\n",
            "      dtype='object')\n"
          ]
        },
        {
          "output_type": "display_data",
          "data": {
            "text/plain": [
              "<IPython.core.display.Javascript object>"
            ],
            "application/javascript": [
              "\n",
              "    async function download(id, filename, size) {\n",
              "      if (!google.colab.kernel.accessAllowed) {\n",
              "        return;\n",
              "      }\n",
              "      const div = document.createElement('div');\n",
              "      const label = document.createElement('label');\n",
              "      label.textContent = `Downloading \"${filename}\": `;\n",
              "      div.appendChild(label);\n",
              "      const progress = document.createElement('progress');\n",
              "      progress.max = size;\n",
              "      div.appendChild(progress);\n",
              "      document.body.appendChild(div);\n",
              "\n",
              "      const buffers = [];\n",
              "      let downloaded = 0;\n",
              "\n",
              "      const channel = await google.colab.kernel.comms.open(id);\n",
              "      // Send a message to notify the kernel that we're ready.\n",
              "      channel.send({})\n",
              "\n",
              "      for await (const message of channel.messages) {\n",
              "        // Send a message to notify the kernel that we're ready.\n",
              "        channel.send({})\n",
              "        if (message.buffers) {\n",
              "          for (const buffer of message.buffers) {\n",
              "            buffers.push(buffer);\n",
              "            downloaded += buffer.byteLength;\n",
              "            progress.value = downloaded;\n",
              "          }\n",
              "        }\n",
              "      }\n",
              "      const blob = new Blob(buffers, {type: 'application/binary'});\n",
              "      const a = document.createElement('a');\n",
              "      a.href = window.URL.createObjectURL(blob);\n",
              "      a.download = filename;\n",
              "      div.appendChild(a);\n",
              "      a.click();\n",
              "      div.remove();\n",
              "    }\n",
              "  "
            ]
          },
          "metadata": {}
        },
        {
          "output_type": "display_data",
          "data": {
            "text/plain": [
              "<IPython.core.display.Javascript object>"
            ],
            "application/javascript": [
              "download(\"download_2d772d4c-4791-4619-8b16-6f704fc0f0b6\", \"descriptive_stats.xlsx\", 5409)"
            ]
          },
          "metadata": {}
        }
      ],
      "source": [
        "import pandas as pd\n",
        "from google.colab import files\n",
        "descriptive_stats = data.describe()\n",
        "# descriptive_stats = descriptive_stats.T\n",
        "descriptive_stats.insert(0,'Column', descriptive_stats.index)\n",
        "print (descriptive_stats)\n",
        "print (data.columns)\n",
        "data.describe(include='all')\n",
        "descriptive_stats.to_excel('descriptive_stats.xlsx', index=False)\n",
        "files.download('descriptive_stats.xlsx')"
      ]
    },
    {
      "cell_type": "code",
      "execution_count": 13,
      "metadata": {
        "id": "vMKdsxZquvm3"
      },
      "outputs": [],
      "source": [
        "# Modelling of biogas generation: Applying four different models and a hybrid"
      ]
    },
    {
      "cell_type": "code",
      "execution_count": 14,
      "metadata": {
        "id": "_t1ilxum275L"
      },
      "outputs": [],
      "source": [
        "# Importing useful libraries\n",
        "from scipy.optimize import curve_fit"
      ]
    },
    {
      "cell_type": "code",
      "execution_count": 15,
      "metadata": {
        "id": "5q7FDM0F0yeX"
      },
      "outputs": [],
      "source": [
        "# Function\n",
        "def gompertz_model(t, B0, Rm, lambda_):\n",
        "    return B0 * np.exp(-np.exp((Rm * np.e / B0) * (lambda_ - t) + 1))"
      ]
    },
    {
      "cell_type": "code",
      "execution_count": 16,
      "metadata": {
        "id": "pay1dvJwmoET"
      },
      "outputs": [],
      "source": [
        "# Composite graph"
      ]
    },
    {
      "cell_type": "code",
      "execution_count": 17,
      "metadata": {
        "id": "kIRlTBk8mmmp"
      },
      "outputs": [],
      "source": [
        "# Modelling Biogas Yield of HM using Hybrid'' Modelling"
      ]
    },
    {
      "cell_type": "code",
      "execution_count": 18,
      "metadata": {
        "id": "awqNmAYqfEXs"
      },
      "outputs": [],
      "source": [
        "# Recoding after response was sent back from reviewers"
      ]
    },
    {
      "cell_type": "code",
      "execution_count": 19,
      "metadata": {
        "colab": {
          "base_uri": "https://localhost:8080/",
          "height": 989
        },
        "id": "dd0bf686",
        "outputId": "5372d3c6-51d7-4f17-be75-99778f9db6fe"
      },
      "outputs": [
        {
          "output_type": "display_data",
          "data": {
            "text/plain": [
              "<Figure size 1000x600 with 1 Axes>"
            ],
            "image/png": "[encoded data removed]"
          },
          "metadata": {}
        },
        {
          "output_type": "display_data",
          "data": {
            "text/plain": [
              "<Figure size 640x480 with 0 Axes>"
            ]
          },
          "metadata": {}
        },
        {
          "output_type": "display_data",
          "data": {
            "text/plain": [
              "<IPython.core.display.Javascript object>"
            ],
            "application/javascript": [
              "\n",
              "    async function download(id, filename, size) {\n",
              "      if (!google.colab.kernel.accessAllowed) {\n",
              "        return;\n",
              "      }\n",
              "      const div = document.createElement('div');\n",
              "      const label = document.createElement('label');\n",
              "      label.textContent = `Downloading \"${filename}\": `;\n",
              "      div.appendChild(label);\n",
              "      const progress = document.createElement('progress');\n",
              "      progress.max = size;\n",
              "      div.appendChild(progress);\n",
              "      document.body.appendChild(div);\n",
              "\n",
              "      const buffers = [];\n",
              "      let downloaded = 0;\n",
              "\n",
              "      const channel = await google.colab.kernel.comms.open(id);\n",
              "      // Send a message to notify the kernel that we're ready.\n",
              "      channel.send({})\n",
              "\n",
              "      for await (const message of channel.messages) {\n",
              "        // Send a message to notify the kernel that we're ready.\n",
              "        channel.send({})\n",
              "        if (message.buffers) {\n",
              "          for (const buffer of message.buffers) {\n",
              "            buffers.push(buffer);\n",
              "            downloaded += buffer.byteLength;\n",
              "            progress.value = downloaded;\n",
              "          }\n",
              "        }\n",
              "      }\n",
              "      const blob = new Blob(buffers, {type: 'application/binary'});\n",
              "      const a = document.createElement('a');\n",
              "      a.href = window.URL.createObjectURL(blob);\n",
              "      a.download = filename;\n",
              "      div.appendChild(a);\n",
              "      a.click();\n",
              "      div.remove();\n",
              "    }\n",
              "  "
            ]
          },
          "metadata": {}
        },
        {
          "output_type": "display_data",
          "data": {
            "text/plain": [
              "<IPython.core.display.Javascript object>"
            ],
            "application/javascript": [
              "download(\"download_99f03baf-8732-41a1-ae7b-6e29d7827b02\", \"Kinetic model of AD of HM\", 44237006)"
            ]
          },
          "metadata": {}
        },
        {
          "output_type": "stream",
          "name": "stdout",
          "text": [
            "--- Model Equations and Evaluation Metrics (Filtered Data) ---\n",
            "\n",
            "First-Order Model:\n",
            "Equation: B(t) = 585.9137 * (1 - exp(-0.2025 * t))\n",
            "R-squared: 0.9810\n",
            "RMSE: 25.3769\n",
            "\n",
            "Gompertz Model:\n",
            "Equation: B(t) = 556.6454 * exp(-exp((90.7968 * e / 556.6454) * (0.4746 - t) + 1))\n",
            "R-squared: 0.9934\n",
            "RMSE: 15.0199\n",
            "\n",
            "Logistic Growth Model:\n",
            "Equation: B(t) = 550.2257 / (1 + exp((4 * 89.6961 / 550.2257) * (0.6146 - t) + 2))\n",
            "R-squared: 0.9842\n",
            "RMSE: 23.1433\n",
            "\n",
            "Hybrid Model:\n",
            "Equation: B(t) = (423.9136 * (1 - np.exp(-0.1819 * t)) + 714.1154 * np.exp(-np.exp((137.7499 * e / 714.1154) * (0.8698 - t) + 1))))/2\n",
            "R-squared: 0.9950\n",
            "RMSE: 13.0045\n"
          ]
        }
      ],
      "source": [
        "import numpy as np\n",
        "import matplotlib.pyplot as plt\n",
        "from scipy.optimize import curve_fit\n",
        "import pandas as pd\n",
        "from sklearn.metrics import r2_score, mean_squared_error\n",
        "\n",
        "# Assuming 'data' DataFrame is already loaded and contains ' HRT (d) ' and ' HM (ml/g oTS) '\n",
        "\n",
        "# Find the HRT corresponding to the maximum biogas yield and add 7 days for stabilization\n",
        "max_yield_hrt = data.loc[data[' HM (ml/g oTS) '].idxmax(), ' HRT (d) ']\n",
        "stabilization_hrt = max_yield_hrt + 7\n",
        "\n",
        "# Filter the data to include only up to the stabilization HRT\n",
        "filtered_data = data[data[' HRT (d) '] <= stabilization_hrt]\n",
        "\n",
        "# Calling filtered data\n",
        "t_data_filtered = filtered_data[' HRT (d) '].values\n",
        "B_data_filtered = filtered_data[' HM (ml/g oTS) '].values\n",
        "\n",
        "# Define t_data and B_data from the original DataFrame\n",
        "t_data = data[' HRT (d) '].values\n",
        "B_data = data[' HM (ml/g oTS) '].values\n",
        "\n",
        "# Define the model functions\n",
        "def first_order_model(t, B0, k):\n",
        "    return B0 * (1 - np.exp(-k * t))\n",
        "\n",
        "def gompertz_model(t, B0, Rm, lambda_):\n",
        "    return B0 * np.exp(-np.exp((Rm * np.e / B0) * (lambda_ - t) + 1))\n",
        "\n",
        "def logistic_growth_model(t, B0, Rm, lambda_):\n",
        "    return B0 / (1 + np.exp((4 * Rm / B0) * (lambda_ - t) + 2))\n",
        "\n",
        "def hybrid_model(t, B0_fo, k, B0_g, Rm, lambda_):\n",
        "    first_order = B0_fo * (1 - np.exp(-k * t))\n",
        "    gompertz = B0_g * np.exp(-np.exp((Rm * np.e / B0_g) * (lambda_ - t) + 1))\n",
        "    return (first_order + gompertz) / 2  # Averaging both models\n",
        "\n",
        "\n",
        "# Curve fitting for each model using filtered data\n",
        "# To achieve more consistent results across combinations, we will increase maxfev significantly.\n",
        "# Note: A more robust approach for exploring combinations would involve iterating through different initial guesses or bounds.\n",
        "# First-order\n",
        "popt_fo, pcov_fo = curve_fit(first_order_model, t_data_filtered, B_data_filtered, bounds=([0, 0], [np.inf, np.inf]), maxfev = 1000000)\n",
        "B0_fo, k = popt_fo\n",
        "\n",
        "# Gompertz\n",
        "popt_g, pcov_g = curve_fit(gompertz_model, t_data_filtered, B_data_filtered, bounds=(0, [np.inf, np.inf, np.inf]), maxfev = 1000000)\n",
        "B0_g, Rm, lambda_ = popt_g\n",
        "\n",
        "# Logistic growth\n",
        "popt_lg, pcov_lg = curve_fit(logistic_growth_model, t_data_filtered, B_data_filtered, bounds=(0, [np.inf, np.inf, np.inf]), maxfev = 1000000)\n",
        "B0_lg, Rm_lg, lambda_lg = popt_lg\n",
        "\n",
        "\n",
        "# Hybrid\n",
        "initial_guesses_hybrid = [B0_fo, k, B0_g, Rm, lambda_]\n",
        "popt_hybrid, pcov_hybrid = curve_fit(hybrid_model, t_data_filtered, B_data_filtered, p0=initial_guesses_hybrid, bounds=(0, [np.inf, np.inf, np.inf, np.inf, np.inf]), maxfev=1000000)\n",
        "B0_fo_h, k_h, B0_g_h, Rm_h, lambda_h = popt_hybrid\n",
        "\n",
        "\n",
        "# Generate predictions using the full range of HRT data for plotting\n",
        "t_pred = np.linspace(0, data[' HRT (d) '].max() + 5, 200) # Extend prediction range slightly\n",
        "B_pred_fo = first_order_model(t_pred, B0_fo, k)\n",
        "B_pred_g = gompertz_model(t_pred, B0_g, Rm, lambda_)\n",
        "B_pred_lg = logistic_growth_model(t_pred, B0_lg, Rm_lg, lambda_lg)\n",
        "B_pred_hybrid = hybrid_model(t_pred, B0_fo_h, k_h, B0_g_h, Rm_h, lambda_h)\n",
        "\n",
        "\n",
        "# Plot results\n",
        "plt.figure(figsize=(10, 6)) # Adjust figure size for better quality\n",
        "plt.scatter(t_data, B_data, label='Observed Data', s=20) # Adjust scatter size\n",
        "\n",
        "plt.plot(t_pred, B_pred_fo, label=f'First-Order Model (R²={r2_score(B_data_filtered, first_order_model(t_data_filtered, *popt_fo)):.4f})', color='red', linewidth=2)\n",
        "plt.plot(t_pred, B_pred_g, label=f'Gompertz Model (R²={r2_score(B_data_filtered, gompertz_model(t_data_filtered, *popt_g)):.4f})', color='green', linewidth=2)\n",
        "plt.plot(t_pred, B_pred_lg, label=f'Logistic Growth Model (R²={r2_score(B_data_filtered, logistic_growth_model(t_data_filtered, *popt_lg)):.4f})', color='blue', linewidth=2)\n",
        "plt.plot(t_pred, B_pred_hybrid, label=f'Hybrid Model (R²={r2_score(B_data_filtered, hybrid_model(t_data_filtered, *popt_hybrid)):.4f})', color='purple', linewidth=2)\n",
        "\n",
        "\n",
        "plt.xlabel('HRT (D)', fontsize=12) # Increased font size\n",
        "plt.ylabel('Biogas Yield of HM (ml/g oTS)', fontsize=12) # Increased font size\n",
        "plt.title('Kinetic modelling of the AD of HM', fontsize=10)\n",
        "plt.legend(fontsize=10)\n",
        "plt.xlim(0, None) # Set x-axis limit to start from 0\n",
        "plt.ylim(0, None) # Set y-axis limit to start from 0\n",
        "plt.tight_layout() # Adjust layout to prevent labels overlapping\n",
        "plt.show()\n",
        "\n",
        "# Save and download as TIFF with high DPI\n",
        "plt.savefig('Kinetic model of AD of HM', dpi=600, format='tiff')\n",
        "plt.show()\n",
        "\n",
        "from google.colab import files\n",
        "files.download('Kinetic model of AD of HM')\n",
        "# Print model equations and evaluation metrics\n",
        "print(\"--- Model Equations and Evaluation Metrics (Filtered Data) ---\")\n",
        "\n",
        "# First-order\n",
        "print(\"\\nFirst-Order Model:\")\n",
        "print(f\"Equation: B(t) = {B0_fo:.4f} * (1 - exp(-{k:.4f} * t))\")\n",
        "print(f\"R-squared: {r2_score(B_data_filtered, first_order_model(t_data_filtered, *popt_fo)):.4f}\")\n",
        "print(f\"RMSE: {np.sqrt(mean_squared_error(B_data_filtered, first_order_model(t_data_filtered, *popt_fo))):.4f}\")\n",
        "\n",
        "# Gompertz\n",
        "print(\"\\nGompertz Model:\")\n",
        "print(f\"Equation: B(t) = {B0_g:.4f} * exp(-exp(({Rm:.4f} * e / {B0_g:.4f}) * ({lambda_:.4f} - t) + 1))\")\n",
        "print(f\"R-squared: {r2_score(B_data_filtered, gompertz_model(t_data_filtered, *popt_g)):.4f}\")\n",
        "print(f\"RMSE: {np.sqrt(mean_squared_error(B_data_filtered, gompertz_model(t_data_filtered, *popt_g))):.4f}\")\n",
        "\n",
        "# Logistic Growth Model:\n",
        "print(\"\\nLogistic Growth Model:\")\n",
        "print(f\"Equation: B(t) = {B0_lg:.4f} / (1 + exp((4 * {Rm_lg:.4f} / {B0_lg:.4f}) * ({lambda_lg:.4f} - t) + 2))\")\n",
        "print(f\"R-squared: {r2_score(B_data_filtered, logistic_growth_model(t_data_filtered, *popt_lg)):.4f}\")\n",
        "print(f\"RMSE: {np.sqrt(mean_squared_error(B_data_filtered, logistic_growth_model(t_data_filtered, *popt_lg))):.4f}\")\n",
        "\n",
        "\n",
        "# Hybrid\n",
        "print(\"\\nHybrid Model:\")\n",
        "print(f\"Equation: B(t) = ({B0_fo_h:.4f} * (1 - np.exp(-{k_h:.4f} * t)) + {B0_g_h:.4f} * np.exp(-np.exp(({Rm_h:.4f} * e / {B0_g_h:.4f}) * ({lambda_h:.4f} - t) + 1))))/2\")\n",
        "print(f\"R-squared: {r2_score(B_data_filtered, hybrid_model(t_data_filtered, *popt_hybrid)):.4f}\")\n",
        "print(f\"RMSE: {np.sqrt(mean_squared_error(B_data_filtered, hybrid_model(t_data_filtered, *popt_hybrid))):.4f}\")"
      ]
    },
    {
      "cell_type": "markdown",
      "metadata": {
        "id": "d1e402ef"
      },
      "source": [
        "# Task\n",
        "Apply a million iterations to combine the first-order, modified Gompertz, and logistic growth models to create extremely good hybrid models for the 'HM' and 'NHMM' datasets. Select the best seven (7) hybrid models based on evaluation metrics and present their parameters, equations, and metrics. Ensure the simulation is robust enough to yield consistent results over a million iterations."
      ]
    },
    {
      "cell_type": "markdown",
      "metadata": {
        "id": "aa33200c"
      },
      "source": [
        "## Define the combined hybrid model function\n",
        "\n",
        "### Subtask:\n",
        "Create a Python function that represents the combined hybrid model, taking parameters from all three individual models (First-Order, Modified Gompertz, and Logistic Growth).\n"
      ]
    },
    {
      "cell_type": "markdown",
      "metadata": {
        "id": "ffc4d091"
      },
      "source": [
        "**Reasoning**:\n",
        "Define a Python function for the combined hybrid model as requested in the instructions.\n",
        "\n"
      ]
    },
    {
      "cell_type": "code",
      "execution_count": 46,
      "metadata": {
        "id": "2589bd81"
      },
      "outputs": [],
      "source": [
        "def combined_hybrid_model(t, B0_fo, k_fo, B0_g, Rm_g, lambda_g, B0_lg, Rm_lg, lambda_lg, w_fo, w_g):\n",
        "    \"\"\"\n",
        "    Combines the First-Order, Modified Gompertz, and Logistic Growth models with weightings.\n",
        "    The weight for the Logistic Growth model is calculated as 1 - w_fo - w_g.\n",
        "\n",
        "    Args:\n",
        "        t (numpy.ndarray): Time or HRT values.\n",
        "        B0_fo (float): Maximum biogas potential for the First-Order model.\n",
        "        k_fo (float): Rate constant for the First-Order model.\n",
        "        B0_g (float): Maximum biogas potential for the Gompertz model.\n",
        "        Rm_g (float): Maximum specific biogas production rate for the Gompertz model.\n",
        "        lambda_g (float): Lag phase duration for the Gompertz model.\n",
        "        B0_lg (float): Maximum biogas potential for the Logistic Growth model.\n",
        "        Rm_lg (float): Maximum specific biogas production rate for the Logistic Growth model.\n",
        "        lambda_lg (float): Lag phase duration for the Logistic Growth model.\n",
        "        w_fo (float): Weighting for the First-Order model.\n",
        "        w_g (float): Weighting for the Gompertz model.\n",
        "\n",
        "    Returns:\n",
        "        numpy.ndarray: Weighted combined biogas yield.\n",
        "    \"\"\"\n",
        "    # Ensure weights are positive and their sum is not greater than 1\n",
        "    w_fo = max(0, w_fo)\n",
        "    w_g = max(0, w_g)\n",
        "    w_lg = max(0, 1 - w_fo - w_g)\n",
        "    total_weight = w_fo + w_g + w_lg\n",
        "    if total_weight > 0:\n",
        "      scale = 1.0 / total_weight\n",
        "      w_fo *= scale\n",
        "      w_g *= scale\n",
        "      w_lg *= scale\n",
        "    else:\n",
        "      w_fo = w_g = w_lg = 1/3\n",
        "\n",
        "\n",
        "    first_order = B0_fo * (1 - np.exp(-k_fo * t))\n",
        "    gompertz = B0_g * np.exp(-np.exp((Rm_g * np.e / B0_g) * (lambda_g - t) + 1))\n",
        "    logistic_growth = B0_lg / (1 + np.exp((4 * Rm_lg / B0_lg) * (lambda_lg - t) + 2))\n",
        "\n",
        "    # Apply weightings\n",
        "    combined_yield = (w_fo * first_order + w_g * gompertz + w_lg * logistic_growth)\n",
        "\n",
        "    return combined_yield"
      ]
    },
    {
      "cell_type": "markdown",
      "metadata": {
        "id": "3722a584"
      },
      "source": [
        "## Fit the combined model to the data\n",
        "\n",
        "### Subtask:\n",
        "Use `scipy.optimize.curve_fit` to fit the combined model to the 'HM' and 'NHMM' datasets with a high `maxfev` value (one million as requested) and explore different initial guesses or bounds to find multiple good fits.\n"
      ]
    },
    {
      "cell_type": "markdown",
      "metadata": {
        "id": "3eaede5e"
      },
      "source": [
        "**Reasoning**:\n",
        "Load the data, define the combined hybrid model, set up bounds and initial guesses, and iterate through initial guesses to fit the model for both 'HM' and 'NHMM' datasets, handling potential errors.\n",
        "\n"
      ]
    },
    {
      "cell_type": "code",
      "execution_count": 47,
      "metadata": {
        "colab": {
          "base_uri": "https://localhost:8080/"
        },
        "id": "653b871b",
        "outputId": "c9c86deb-2108-4239-c1d0-7c7c5fd16186"
      },
      "outputs": [
        {
          "output_type": "stream",
          "name": "stdout",
          "text": [
            "Drive already mounted at /content/drive; to attempt to forcibly remount, call drive.mount(\"/content/drive\", force_remount=True).\n",
            "Fitting combined hybrid model for HM...\n",
            "  HM Fit 1: Successful\n",
            "  HM Fit 2: Successful\n",
            "  HM Fit 3: Successful\n",
            "  HM Fit 4: Successful\n",
            "  HM Fit 5: Successful\n",
            "  HM Fit 6: Failed - overflow encountered in exp\n",
            "  HM Fit 7: Failed - overflow encountered in exp\n",
            "  HM Fit 8: Successful\n",
            "  HM Fit 9: Failed - overflow encountered in exp\n",
            "  HM Fit 10: Successful\n",
            "  HM Fit 11: Successful\n",
            "  HM Fit 12: Failed - overflow encountered in exp\n",
            "  HM Fit 13: Successful\n",
            "  HM Fit 14: Successful\n",
            "  HM Fit 15: Failed - overflow encountered in exp\n",
            "  HM Fit 16: Successful\n",
            "  HM Fit 17: Successful\n",
            "  HM Fit 18: Successful\n",
            "  HM Fit 19: Successful\n",
            "  HM Fit 20: Successful\n",
            "\n",
            "Found 15 successful fits for HM.\n",
            "Found 18 successful fits for NHMM.\n"
          ]
        }
      ],
      "source": [
        "import numpy as np\n",
        "from scipy.optimize import curve_fit, OptimizeWarning\n",
        "import pandas as pd\n",
        "from google.colab import drive\n",
        "import warnings\n",
        "\n",
        "# Mount Google Drive\n",
        "drive.mount('/content/drive')\n",
        "\n",
        "# Define the file path\n",
        "file_path = '/content/drive/MyDrive/SummaryofBY/HMNHMMetal.csv'\n",
        "\n",
        "# Load the data from the CSV file\n",
        "data = pd.read_csv(file_path)\n",
        "\n",
        "# Extract data for HM and NHMM\n",
        "t_data = data[' HRT (d) '].values\n",
        "B_data_hm = data[' HM (ml/g oTS) '].values\n",
        "B_data_nhmm = data[' NHMM (ml/g oTS) '].values\n",
        "\n",
        "# Define the combined hybrid model function with weightings\n",
        "def combined_hybrid_model(t, B0_fo, k_fo, B0_g, Rm_g, lambda_g, B0_lg, Rm_lg, lambda_lg, w_fo, w_g):\n",
        "    \"\"\"\n",
        "    Combines the First-Order, Modified Gompertz, and Logistic Growth models with weightings.\n",
        "    The weight for the Logistic Growth model is calculated as 1 - w_fo - w_g.\n",
        "\n",
        "    Args:\n",
        "        t (numpy.ndarray): Time or HRT values.\n",
        "        B0_fo (float): Maximum biogas potential for the First-Order model.\n",
        "        k_fo (float): Rate constant for the First-Order model.\n",
        "        B0_g (float): Maximum biogas potential for the Gompertz model.\n",
        "        Rm_g (float): Maximum specific biogas production rate for the Gompertz model.\n",
        "        lambda_g (float): Lag phase duration for the Gompertz model.\n",
        "        B0_lg (float): Maximum biogas potential for the Logistic Growth model.\n",
        "        Rm_lg (float): Maximum specific biogas production rate for the Logistic Growth model.\n",
        "        lambda_lg (float): Lag phase duration for the Logistic Growth model.\n",
        "        w_fo (float): Weighting for the First-Order model.\n",
        "        w_g (float): Weighting for the Gompertz model.\n",
        "\n",
        "    Returns:\n",
        "        numpy.ndarray: Weighted combined biogas yield.\n",
        "    \"\"\"\n",
        "    # Ensure weights are positive and their sum is not greater than 1\n",
        "    w_fo = max(0, w_fo)\n",
        "    w_g = max(0, w_g)\n",
        "    w_lg = max(0, 1 - w_fo - w_g)\n",
        "    total_weight = w_fo + w_g + w_lg\n",
        "    if total_weight > 0:\n",
        "      scale = 1.0 / total_weight\n",
        "      w_fo *= scale\n",
        "      w_g *= scale\n",
        "      w_lg *= scale\n",
        "    else:\n",
        "      w_fo = w_g = w_lg = 1/3\n",
        "\n",
        "\n",
        "    first_order = B0_fo * (1 - np.exp(-k_fo * t))\n",
        "    gompertz = B0_g * np.exp(-np.exp((Rm_g * np.e / B0_g) * (lambda_g - t) + 1))\n",
        "    logistic_growth = B0_lg / (1 + np.exp((4 * Rm_lg / B0_lg) * (lambda_lg - t) + 2))\n",
        "\n",
        "    # Apply weightings\n",
        "    combined_yield = (w_fo * first_order + w_g * gompertz + w_lg * logistic_growth)\n",
        "\n",
        "    return combined_yield\n",
        "\n",
        "# Define bounds for the parameters (8 original parameters + 2 for weightings)\n",
        "lower_bounds = [0] * 10\n",
        "upper_bounds = [np.inf] * 8 + [1] * 2 # Upper bounds for weightings are 1\n",
        "\n",
        "# Generate diverse initial guesses (example: 20 different guesses)\n",
        "# These are just examples, you should refine them based on your data characteristics\n",
        "initial_guesses = []\n",
        "for _ in range(20):\n",
        "    guess = [\n",
        "        np.random.uniform(300, 700),  # B0_fo\n",
        "        np.random.uniform(0.05, 0.5), # k_fo\n",
        "        np.random.uniform(300, 700),  # B0_g\n",
        "        np.random.uniform(10, 150),   # Rm_g\n",
        "        np.random.uniform(0, 5),      # lambda_g\n",
        "        np.random.uniform(300, 700),  # B0_lg\n",
        "        np.random.uniform(10, 150),   # Rm_lg\n",
        "        np.random.uniform(0, 5),      # lambda_lg\n",
        "        np.random.uniform(0, 1),      # w_fo\n",
        "        np.random.uniform(0, 1)       # w_g\n",
        "    ]\n",
        "    initial_guesses.append(guess)\n",
        "\n",
        "# Store successful fits for HM and NHMM\n",
        "successful_fits_hm = []\n",
        "successful_fits_nhmm = []\n",
        "\n",
        "# Iterate through initial guesses and fit the model for HM\n",
        "print(\"Fitting combined hybrid model for HM...\")\n",
        "for i, guess in enumerate(initial_guesses):\n",
        "    try:\n",
        "        with warnings.catch_warnings():\n",
        "            warnings.filterwarnings('error', category=RuntimeWarning)\n",
        "            popt_hm, pcov_hm = curve_fit(combined_hybrid_model, t_data, B_data_hm, p0=guess, bounds=(lower_bounds, upper_bounds), maxfev=1000000)\n",
        "            if pcov_hm is not None:\n",
        "                successful_fits_hm.append({'popt': popt_hm, 'pcov': pcov_hm, 'initial_guess': guess})\n",
        "        print(f\"  HM Fit {i+1}: Successful\")\n",
        "    except (RuntimeError, OptimizeWarning) as e:\n",
        "        print(f\"  HM Fit {i+1}: Failed - {e}\")\n",
        "    except Exception as e:\n",
        "        print(f\"  HM Fit {i+1}: Failed - {e}\")\n",
        "\n",
        "\n",
        "# Iterate through initial guesses and fit the model for NHMM\n",
        "print(\"\\nFitting combined hybrid model for NHMM...\")\n",
        "for i, guess in enumerate(initial_guesses):\n",
        "    try:\n",
        "        with warnings.catch_warnings():\n",
        "            warnings.filterwarnings('error', category=RuntimeWarning)\n",
        "            popt_nhmm, pcov_nhmm = curve_fit(combined_hybrid_model, t_data, B_data_nhmm, p0=guess, bounds=(lower_bounds, upper_bounds), maxfev=1000000)\n",
        "            if pcov_nhmm is not None:\n",
        "                successful_fits_nhmm.append({'popt': popt_nhmm, 'pcov': pcov_nhmm, 'initial_guess': guess})\n",
        "        print(f\"  NHMM Fit {i+1}: Successful\")\n",
        "    except (RuntimeError, OptimizeWarning) as e:\n",
        "        print(f\"  NHMM Fit {i+1}: Failed - {e}\")\n",
        "    except Exception as e:\n",
        "        print(f\"  NHMM Fit {i+1}: Failed - {e}\")\n",
        "\n",
        "print(f\"\\nFound {len(successful_fits_hm)} successful fits for HM.\")\n",
        "print(f\"Found {len(successful_fits_nhmm)} successful fits for NHMM.\")"
      ]
    },
    {
      "cell_type": "markdown",
      "metadata": {
        "id": "211c2aca"
      },
      "source": [
        "**Reasoning**:\n",
        "The previous code failed because `OptimizeWarning` was not imported from `scipy.optimize`. I need to import it and rerun the code to continue fitting the models to the data.\n",
        "\n"
      ]
    },
    {
      "cell_type": "markdown",
      "metadata": {
        "id": "26f843e8"
      },
      "source": [
        "**Reasoning**:\n",
        "The model fitting was attempted for both datasets with different initial guesses. The next step is to evaluate the quality of the successful fits using R-squared and RMSE, and then select the best 7 fits for each dataset based on these metrics.\n",
        "\n"
      ]
    },
    {
      "cell_type": "code",
      "execution_count": 40,
      "metadata": {
        "colab": {
          "base_uri": "https://localhost:8080/"
        },
        "id": "6b256e64",
        "outputId": "b56c137f-1dde-4a09-9446-7e8dcfef06ba"
      },
      "outputs": [
        {
          "output_type": "stream",
          "name": "stdout",
          "text": [
            "\n",
            "Best 7 fits for HM:\n",
            "Fit 1: R-squared = 0.9996, RMSE = 3.6541\n",
            "  Parameters: [4.19630378e+02 1.97198277e-01 8.39167471e+02 1.71201130e+02\n",
            " 2.39819646e+00 4.26204376e+02 1.73053966e+03 1.82745650e+00]\n",
            "Fit 2: R-squared = 0.9996, RMSE = 3.6541\n",
            "  Parameters: [4.19630372e+02 1.97198266e-01 8.39167445e+02 1.71201128e+02\n",
            " 2.39819658e+00 4.26204411e+02 1.72558006e+03 1.82673061e+00]\n",
            "Fit 3: R-squared = 0.9996, RMSE = 3.6541\n",
            "  Parameters: [4.19630431e+02 1.97198257e-01 8.39167329e+02 1.71201125e+02\n",
            " 2.39819709e+00 4.26204470e+02 1.72285554e+03 1.82633053e+00]\n",
            "Fit 4: R-squared = 0.9993, RMSE = 4.8064\n",
            "  Parameters: [4.23606939e+02 1.54130443e-01 4.57408200e+02 5.21901305e+02\n",
            " 1.28742839e+00 8.14386944e+02 1.69416081e+02 2.45479719e+00]\n",
            "Fit 5: R-squared = 0.9993, RMSE = 4.8064\n",
            "  Parameters: [4.23611288e+02 1.54132546e-01 4.57407066e+02 5.21903236e+02\n",
            " 1.28743759e+00 8.14383004e+02 1.69415567e+02 2.45481050e+00]\n",
            "Fit 6: R-squared = 0.9993, RMSE = 4.8064\n",
            "  Parameters: [4.23609212e+02 1.54132040e-01 4.57408228e+02 5.21894848e+02\n",
            " 1.28742326e+00 8.14384048e+02 1.69415426e+02 2.45480653e+00]\n",
            "Fit 7: R-squared = 0.9993, RMSE = 4.8064\n",
            "  Parameters: [4.23616722e+02 1.54131630e-01 4.57406796e+02 5.21897033e+02\n",
            " 1.28742558e+00 8.14378745e+02 1.69415496e+02 2.45481696e+00]\n"
          ]
        }
      ],
      "source": [
        "from sklearn.metrics import r2_score, mean_squared_error\n",
        "\n",
        "# Evaluate successful fits for HM\n",
        "evaluated_fits_hm = []\n",
        "for fit in successful_fits_hm:\n",
        "    popt = fit['popt']\n",
        "    B_pred_hm = combined_hybrid_model(t_data, *popt)\n",
        "    r2 = r2_score(B_data_hm, B_pred_hm)\n",
        "    rmse = np.sqrt(mean_squared_error(B_data_hm, B_pred_hm))\n",
        "    evaluated_fits_hm.append({'popt': popt, 'r2': r2, 'rmse': rmse, 'initial_guess': fit['initial_guess']})\n",
        "\n",
        "# Sort successful fits for HM by R-squared (descending) and then RMSE (ascending)\n",
        "evaluated_fits_hm.sort(key=lambda x: (-x['r2'], x['rmse']))\n",
        "\n",
        "# Select the best 7 fits for HM\n",
        "best_fits_hm = evaluated_fits_hm[:7]\n",
        "\n",
        "\n",
        "print(\"\\nBest 7 fits for HM:\")\n",
        "for i, fit in enumerate(best_fits_hm):\n",
        "    print(f\"Fit {i+1}: R-squared = {fit['r2']:.4f}, RMSE = {fit['rmse']:.4f}\")\n",
        "    print(f\"  Parameters: {fit['popt']}\")"
      ]
    },
    {
      "cell_type": "markdown",
      "metadata": {
        "id": "b787d0bb"
      },
      "source": [
        "**Reasoning**:\n",
        "The subtask of fitting the combined hybrid model and identifying successful fits is complete. The next logical step is to present the parameters, equations, and metrics for the best 7 fits for each dataset as requested in the main task.\n",
        "\n"
      ]
    },
    {
      "cell_type": "code",
      "execution_count": 41,
      "metadata": {
        "colab": {
          "base_uri": "https://localhost:8080/"
        },
        "id": "ae27a215",
        "outputId": "a78cf322-9c01-4ce8-a133-7894f3b48407"
      },
      "outputs": [
        {
          "output_type": "stream",
          "name": "stdout",
          "text": [
            "--- Best 7 Combined Hybrid Model Fits for HM ---\n",
            "\n",
            "Fit 1:\n",
            "  Equation: B(t) = ((419.6304 * (1 - exp(-0.1972 * t))) + (839.1675 * exp(-exp((171.2011 * 2.7183 / 839.1675) * (2.3982 - t) + 1))) + (426.2044 / (1 + exp((4 * 1730.5397 / 426.2044) * (1.8275 - t) + 2)))) / 3\n",
            "\n",
            "Fit 2:\n",
            "  Equation: B(t) = ((419.6304 * (1 - exp(-0.1972 * t))) + (839.1674 * exp(-exp((171.2011 * 2.7183 / 839.1674) * (2.3982 - t) + 1))) + (426.2044 / (1 + exp((4 * 1725.5801 / 426.2044) * (1.8267 - t) + 2)))) / 3\n",
            "\n",
            "Fit 3:\n",
            "  Equation: B(t) = ((419.6304 * (1 - exp(-0.1972 * t))) + (839.1673 * exp(-exp((171.2011 * 2.7183 / 839.1673) * (2.3982 - t) + 1))) + (426.2045 / (1 + exp((4 * 1722.8555 / 426.2045) * (1.8263 - t) + 2)))) / 3\n",
            "\n",
            "Fit 4:\n",
            "  Equation: B(t) = ((423.6069 * (1 - exp(-0.1541 * t))) + (457.4082 * exp(-exp((521.9013 * 2.7183 / 457.4082) * (1.2874 - t) + 1))) + (814.3869 / (1 + exp((4 * 169.4161 / 814.3869) * (2.4548 - t) + 2)))) / 3\n",
            "\n",
            "Fit 5:\n",
            "  Equation: B(t) = ((423.6113 * (1 - exp(-0.1541 * t))) + (457.4071 * exp(-exp((521.9032 * 2.7183 / 457.4071) * (1.2874 - t) + 1))) + (814.3830 / (1 + exp((4 * 169.4156 / 814.3830) * (2.4548 - t) + 2)))) / 3\n",
            "\n",
            "Fit 6:\n",
            "  Equation: B(t) = ((423.6092 * (1 - exp(-0.1541 * t))) + (457.4082 * exp(-exp((521.8948 * 2.7183 / 457.4082) * (1.2874 - t) + 1))) + (814.3840 / (1 + exp((4 * 169.4154 / 814.3840) * (2.4548 - t) + 2)))) / 3\n",
            "\n",
            "Fit 7:\n",
            "  Equation: B(t) = ((423.6167 * (1 - exp(-0.1541 * t))) + (457.4068 * exp(-exp((521.8970 * 2.7183 / 457.4068) * (1.2874 - t) + 1))) + (814.3787 / (1 + exp((4 * 169.4155 / 814.3787) * (2.4548 - t) + 2)))) / 3\n"
          ]
        }
      ],
      "source": [
        "# Function to generate the equation string for the combined hybrid model\n",
        "def get_combined_hybrid_equation(params):\n",
        "    \"\"\"\n",
        "    Generates the equation string for the combined hybrid model.\n",
        "\n",
        "    Args:\n",
        "        params (list or np.ndarray): List or array of the 8 model parameters\n",
        "                                      (B0_fo, k_fo, B0_g, Rm_g, lambda_g, B0_lg, Rm_lg, lambda_lg).\n",
        "\n",
        "    Returns:\n",
        "        str: String representation of the combined hybrid model equation.\n",
        "    \"\"\"\n",
        "    B0_fo, k_fo, B0_g, Rm_g, lambda_g, B0_lg, Rm_lg, lambda_lg = params\n",
        "    equation = (\n",
        "        f\"B(t) = (({B0_fo:.4f} * (1 - exp(-{k_fo:.4f} * t))) + \"\n",
        "        f\"({B0_g:.4f} * exp(-exp(({Rm_g:.4f} * {np.e:.4f} / {B0_g:.4f}) * ({lambda_g:.4f} - t) + 1))) + \"\n",
        "        f\"({B0_lg:.4f} / (1 + exp((4 * {Rm_lg:.4f} / {B0_lg:.4f}) * ({lambda_lg:.4f} - t) + 2)))) / 3\"\n",
        "    )\n",
        "    return equation\n",
        "\n",
        "# Present the best 7 fits for HM\n",
        "print(\"--- Best 7 Combined Hybrid Model Fits for HM ---\")\n",
        "for i, fit in enumerate(best_fits_hm):\n",
        "    print(f\"\\nFit {i+1}:\")\n",
        "    print(f\"  Equation: {get_combined_hybrid_equation(fit['popt'])}\")"
      ]
    },
    {
      "cell_type": "markdown",
      "metadata": {
        "id": "68e037c5"
      },
      "source": [
        "## Visualize the best hybrid models\n",
        "\n",
        "### Subtask:\n",
        "Plot the observed data along with the curves generated by the top seven hybrid models for both 'HM' and 'NHMM' datasets to visually assess their fit.\n"
      ]
    },
    {
      "cell_type": "markdown",
      "metadata": {
        "id": "16b127df"
      },
      "source": [
        "**Reasoning**:\n",
        "Generate predictions for the top 7 hybrid models for both datasets across a suitable HRT range and plot them along with the observed data for visual comparison.\n",
        "\n"
      ]
    },
    {
      "cell_type": "code",
      "metadata": {
        "colab": {
          "base_uri": "https://localhost:8080/"
        },
        "id": "f4823ee5",
        "outputId": "a48ef014-6c33-446a-cbd9-96d0df27a358"
      },
      "source": [
        "\n",
        "print(\"--- Summary of Best 7 Combined Hybrid Model Fits for HM ---\")\n",
        "for i, fit in enumerate(best_fits_hm):\n",
        "    print(f\"\\nFit {i+1}:\")\n",
        "    print(f\"  R-squared: {fit['r2']:.4f}\")\n",
        "    print(f\"  RMSE: {fit['rmse']:.4f}\")\n",
        "\n",
        "print(\"\\n--- Summary of Best 7 Combined Hybrid Model Fits for NHMM ---\")\n",
        "for i, fit in enumerate(best_fits_nhmm):\n",
        "    print(f\"\\nFit {i+1}:\")\n",
        "    print(f\"  R-squared: {fit['r2']:.4f}\")\n",
        "    print(f\"  RMSE: {fit['rmse']:.4f}\")"
      ],
      "execution_count": 50,
      "outputs": [
        {
          "output_type": "stream",
          "name": "stdout",
          "text": [
            "--- Summary of Best 7 Combined Hybrid Model Fits for HM ---\n",
            "\n",
            "Fit 1:\n",
            "  R-squared: 0.9996\n",
            "  RMSE: 3.6541\n",
            "\n",
            "Fit 2:\n",
            "  R-squared: 0.9996\n",
            "  RMSE: 3.6541\n",
            "\n",
            "Fit 3:\n",
            "  R-squared: 0.9996\n",
            "  RMSE: 3.6541\n",
            "\n",
            "Fit 4:\n",
            "  R-squared: 0.9996\n",
            "  RMSE: 3.6541\n",
            "\n",
            "Fit 5:\n",
            "  R-squared: 0.9996\n",
            "  RMSE: 3.6541\n",
            "\n",
            "Fit 6:\n",
            "  R-squared: 0.9993\n",
            "  RMSE: 4.8064\n",
            "\n",
            "Fit 7:\n",
            "  R-squared: 0.9993\n",
            "  RMSE: 4.8064\n",
            "\n",
            "--- Summary of Best 7 Combined Hybrid Model Fits for NHMM ---\n",
            "\n",
            "Fit 1:\n",
            "  R-squared: 0.9999\n",
            "  RMSE: 1.6350\n",
            "\n",
            "Fit 2:\n",
            "  R-squared: 0.9999\n",
            "  RMSE: 1.6350\n",
            "\n",
            "Fit 3:\n",
            "  R-squared: 0.9999\n",
            "  RMSE: 1.6350\n",
            "\n",
            "Fit 4:\n",
            "  R-squared: 0.9999\n",
            "  RMSE: 1.6350\n",
            "\n",
            "Fit 5:\n",
            "  R-squared: 0.9999\n",
            "  RMSE: 1.6350\n",
            "\n",
            "Fit 6:\n",
            "  R-squared: 0.9999\n",
            "  RMSE: 1.6350\n",
            "\n",
            "Fit 7:\n",
            "  R-squared: 0.9998\n",
            "  RMSE: 2.5107\n"
          ]
        }
      ]
    },
    {
      "cell_type": "code",
      "source": [
        "print(\"print the weightings for each best model\")"
      ],
      "metadata": {
        "colab": {
          "base_uri": "https://localhost:8080/"
        },
        "id": "JVNl-alcQA2v",
        "outputId": "72ab3483-2198-4026-ad7b-677e50acd463"
      },
      "execution_count": 51,
      "outputs": [
        {
          "output_type": "stream",
          "name": "stdout",
          "text": [
            "print the weightings for each best model\n"
          ]
        }
      ]
    },
    {
      "cell_type": "code",
      "source": [],
      "metadata": {
        "id": "WOo_lGOkQUef"
      },
      "execution_count": null,
      "outputs": []
    },
    {
      "cell_type": "markdown",
      "metadata": {
        "id": "110f4343"
      },
      "source": [
        "**Reasoning**:\n",
        "Define the `weighted_combined_hybrid_model` function with three weighting parameters.\n",
        "\n"
      ]
    }
  ],
  "metadata": {
    "colab": {
      "provenance": [],
      "authorship_tag": "ABX9TyOuBPMclhNvpZTxIoW3nStH",
      "include_colab_link": true
    },
    "kernelspec": {
      "display_name": "Python 3",
      "name": "python3"
    },
    "language_info": {
      "name": "python"
    }
  },
  "nbformat": 4,
  "nbformat_minor": 0
}