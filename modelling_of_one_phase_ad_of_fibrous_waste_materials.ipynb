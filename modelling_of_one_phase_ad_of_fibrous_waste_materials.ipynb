{
  "cells": [
    {
      "cell_type": "markdown",
      "metadata": {
        "id": "view-in-github",
        "colab_type": "text"
      },
      "source": [
        "<a href=\"https://colab.research.google.com/github/yankyerajoseph/yankyerajoseph/blob/main/modelling_of_one_phase_ad_of_fibrous_waste_materials.ipynb\" target=\"_parent\"><img src=\"https://colab.research.google.com/assets/colab-badge.svg\" alt=\"Open In Colab\"/></a>"
      ]
    },
    {
      "cell_type": "code",
      "execution_count": null,
      "metadata": {
        "colab": {
          "base_uri": "https://localhost:8080/"
        },
        "id": "6QsChO69zSFk",
        "outputId": "2ef8888a-ebcf-493b-e228-af75d512295a"
      },
      "outputs": [
        {
          "output_type": "stream",
          "name": "stdout",
          "text": [
            "Python codes to generally describe or analyse biogas trial data\n"
          ]
        }
      ],
      "source": [
        "print (\"Python codes to generally describe or analyse biogas trial data\")"
      ]
    },
    {
      "cell_type": "code",
      "execution_count": null,
      "metadata": {
        "colab": {
          "base_uri": "https://localhost:8080/"
        },
        "id": "gvuVCrBT69Ii",
        "outputId": "ed96284c-1dbb-4479-90d9-55806370d946"
      },
      "outputs": [
        {
          "output_type": "stream",
          "name": "stdout",
          "text": [
            "Introduction\n"
          ]
        }
      ],
      "source": [
        "print (\"Introduction\")"
      ]
    },
    {
      "cell_type": "code",
      "execution_count": null,
      "metadata": {
        "id": "uIHgFkC87CGP"
      },
      "outputs": [],
      "source": [
        "# Python codes to generally describe or analyse biogas trial data: Introduction\n",
        "#This code is to also apply the Gompertz model to be able to actually\n",
        "#The code has two distinct goals\n",
        "#Goal one is to implement stastical analysis in python\n",
        "#Goal two is to implement Gompertz modelling in python\n",
        "#In later part of career, the goal will be to implement ADM1 in python\n",
        "#The statistical analysis will actually include:\n",
        "#Descriptive analysis\n",
        "#Regression analysis\n",
        "#General analyis that validates experimental data\n",
        "#Gompertz modelling will attemp first to see how the Gompertz modell fits to the given data sets\n",
        "#Later, the Gompertz model will be modified to fit or describe the experimental models better\n",
        "#Four different python packages will be used\n",
        "#Google colabs, Jupyter Notebook, Visual Basic Studio, PyCharm Community\n",
        "#Full data set in a trial will be treated separately, but for each sample, it will more or less represent a unique data set\n",
        "#The full data sets are:\n",
        "# a. Biogas yield data in ml/g oTS for HM, NHMM, YCPM, HPC\n",
        "# b. Biogas yield data in ml/ g oTS for fibrous materials (YCPM: MCP, MPP)\n",
        "# c. Biogas yield data in ml/g oTS and ml/g FM for HPW and NHPW; and their HW\n",
        "# d. Biogas yield data in ml/g oTS of RC-CGS-M, PW-CGS-W\n",
        "# a = 4 samples; b = 3 Samples C = 2 Samples  d = 2 Samples   (Total number of samples = 11 (+-1))\n",
        "# Two different trials likeyl to produce different samples\n",
        "# A repetition of a so that it gives an assessment based on a bigger or different digester: the drainage type.\n",
        "# The second is likely to cost more, in order that some complex trials could be done including measuring VFAs\n",
        "# The experts guiding me through this/in this are:\n",
        "#Mr. Ebenezer Nuamah\n",
        "#Mr. Paul Agbadi\n",
        "# All of this is to enrich my PhD\n",
        "# Assessment of feedstock and modelling of anaerobic digestion as a waste-to-energy pathway through in West-Africa\n"
      ]
    },
    {
      "cell_type": "code",
      "execution_count": null,
      "metadata": {
        "colab": {
          "base_uri": "https://localhost:8080/"
        },
        "id": "EQDacztVzYZ-",
        "outputId": "5c8d165d-47e1-4658-a1ba-d71cf4a450ed"
      },
      "outputs": [
        {
          "output_type": "stream",
          "name": "stdout",
          "text": [
            "Joseph Yankyera Kusi\n"
          ]
        }
      ],
      "source": [
        "Researcher= \"Joseph Yankyera Kusi\"\n",
        "print (Researcher)"
      ]
    },
    {
      "cell_type": "code",
      "execution_count": null,
      "metadata": {
        "colab": {
          "base_uri": "https://localhost:8080/"
        },
        "id": "jBGW1-e5zn7v",
        "outputId": "a632b323-d344-4f51-b9f0-623c0219c3d7"
      },
      "outputs": [
        {
          "output_type": "stream",
          "name": "stdout",
          "text": [
            "PhD Sustainable Energy Management\n",
            "Dep't of Renewable Energy Engineering, School of Energy, University of Energy and Natural Resources, Sunyani, Ghana\n"
          ]
        }
      ],
      "source": [
        "Program = \"PhD Sustainable Energy Management\"\n",
        "GrantingInstitution = \"Dep't of Renewable Energy Engineering, School of Energy, University of Energy and Natural Resources, Sunyani, Ghana\"\n",
        "print (Program)\n",
        "print (GrantingInstitution)"
      ]
    },
    {
      "cell_type": "code",
      "execution_count": null,
      "metadata": {
        "colab": {
          "base_uri": "https://localhost:8080/"
        },
        "id": "2Q7xYyja2ivx",
        "outputId": "a8a6e1e8-28dd-4af6-85d8-4d28e54aa31d"
      },
      "outputs": [
        {
          "output_type": "stream",
          "name": "stdout",
          "text": [
            "('Prof. Dr. Nana Sarfo Agyemang Derkyi', 'Prof. Dr. Stefan Pelz', 'Prof. Dr. Francis Attiogbe')\n"
          ]
        }
      ],
      "source": [
        "Supervisors = \"Prof. Dr. Nana Sarfo Agyemang Derkyi\", \"Prof. Dr. Stefan Pelz\", \"Prof. Dr. Francis Attiogbe\"\n",
        "print (Supervisors)"
      ]
    },
    {
      "cell_type": "code",
      "execution_count": null,
      "metadata": {
        "id": "ksqlN4vo4B8M"
      },
      "outputs": [],
      "source": [
        "#These lines of codes are attempting to import all the data sets that will be analysed"
      ]
    },
    {
      "cell_type": "code",
      "execution_count": null,
      "metadata": {
        "id": "LB8Dw-8x4MVl"
      },
      "outputs": [],
      "source": [
        "#Prepare the necessary foundations\n",
        "import os\n",
        "import numpy as np\n",
        "import pandas as pd\n",
        "import matplotlib.pyplot as plt\n",
        "import seaborn as sns\n"
      ]
    },
    {
      "cell_type": "code",
      "execution_count": null,
      "metadata": {
        "id": "0j3zwZvdDgYf"
      },
      "outputs": [],
      "source": [
        "#Codes to enable easily manipulation of data\n",
        "from google.colab import data_table\n",
        "data_table.enable_dataframe_formatter()"
      ]
    },
    {
      "cell_type": "code",
      "execution_count": null,
      "metadata": {
        "colab": {
          "base_uri": "https://localhost:8080/"
        },
        "id": "CLtF4cBivE1i",
        "outputId": "ec3f466d-35c2-4a13-93a0-e789406002c8"
      },
      "outputs": [
        {
          "output_type": "stream",
          "name": "stdout",
          "text": [
            "Mounted at /content/drive\n"
          ]
        }
      ],
      "source": [
        "from google.colab import drive\n",
        "drive.mount('/content/drive')"
      ]
    },
    {
      "cell_type": "code",
      "execution_count": null,
      "metadata": {
        "colab": {
          "base_uri": "https://localhost:8080/"
        },
        "id": "hpB-ohal43uB",
        "outputId": "eba6319b-8096-46b7-ceff-e08cb5833c57"
      },
      "outputs": [
        {
          "output_type": "stream",
          "name": "stdout",
          "text": [
            "Drive already mounted at /content/drive; to attempt to forcibly remount, call drive.mount(\"/content/drive\", force_remount=True).\n",
            "Biogas yield of three variants of fibrous waste in ml/g oTS: YCPM: Milled mixture of Yam, Cassava, Plantain Peels, MCP: Milled Cassava Peels, MPP: Milled Plantain Peels\n",
            "    HRT (d)  Biogas Yield for YCPM (ml/g oTS)  Biogas MPP (ml/g oTS)  \\\n",
            "0      0.00                              0.00                   0.00   \n",
            "1      0.79                             45.21                  25.61   \n",
            "2      0.95                             65.10                  31.14   \n",
            "3      1.08                             78.62                  37.56   \n",
            "4      1.65                             99.97                  81.73   \n",
            "5      1.88                            102.09                  93.52   \n",
            "6      2.70                            107.26                 116.97   \n",
            "7      3.69                            113.36                 130.05   \n",
            "8      3.89                            116.15                 131.72   \n",
            "9      4.83                            117.34                 137.20   \n",
            "10     5.75                            118.14                 142.24   \n",
            "11     6.78                            119.06                 146.53   \n",
            "12     8.05                            119.99                 151.61   \n",
            "13    10.04                            121.18                 169.92   \n",
            "14    11.94                            124.76                 211.53   \n",
            "15    12.99                            155.66                 246.96   \n",
            "16    13.88                            179.39                 273.02   \n",
            "17    15.08                            203.79                 296.61   \n",
            "18    17.79                            242.90                 336.64   \n",
            "19    19.04                            256.82                 352.58   \n",
            "20    20.03                            270.21                 369.26   \n",
            "21    21.03                            284.93                 385.55   \n",
            "22    24.90                            310.78                 414.07   \n",
            "23    26.06                            316.22                 420.64   \n",
            "24    27.99                            326.56                 431.49   \n",
            "25    28.08                            327.23                 432.13   \n",
            "26    29.03                            332.53                 437.46   \n",
            "27    30.15                            337.17                 441.91   \n",
            "28    38.90                            361.96                 467.97   \n",
            "\n",
            "    Biogas Yield of MCP (ml/g oTS)  \n",
            "0                             0.00  \n",
            "1                            43.71  \n",
            "2                            87.17  \n",
            "3                           112.05  \n",
            "4                           149.06  \n",
            "5                           152.54  \n",
            "6                           170.72  \n",
            "7                           191.61  \n",
            "8                           202.06  \n",
            "9                           206.05  \n",
            "10                          212.76  \n",
            "11                          217.01  \n",
            "12                          219.98  \n",
            "13                          222.43  \n",
            "14                          222.04  \n",
            "15                          221.66  \n",
            "16                          221.66  \n",
            "17                          221.27  \n",
            "18                          220.62  \n",
            "19                          219.72  \n",
            "20                          220.37  \n",
            "21                          220.37  \n",
            "22                          219.85  \n",
            "23                          219.46  \n",
            "24                          219.21  \n",
            "25                          219.08  \n",
            "26                          218.82  \n",
            "27                          218.30  \n",
            "28                          218.30  \n"
          ]
        }
      ],
      "source": [
        "#Read csv data relating to b. Biogas yield data in ml/ g oTS for fibrous materials (YCPM: MCP, MPP)\n",
        "import pandas as pd\n",
        "from google.colab import drive\n",
        "drive.mount('/content/drive')\n",
        "file_path = '/content/drive/MyDrive/SummaryofBY/DSFibrous.csv'\n",
        "data = pd.read_csv(file_path)\n",
        "cleaned_data = data.dropna()\n",
        "print (\"Biogas yield of three variants of fibrous waste in ml/g oTS: YCPM: Milled mixture of Yam, Cassava, Plantain Peels, MCP: Milled Cassava Peels, MPP: Milled Plantain Peels\")\n",
        "print (data)"
      ]
    },
    {
      "cell_type": "code",
      "execution_count": null,
      "metadata": {
        "id": "1OAoV3cRhZ49"
      },
      "outputs": [],
      "source": [
        "#Performing statistical analysis for comparison"
      ]
    },
    {
      "cell_type": "code",
      "execution_count": null,
      "metadata": {
        "colab": {
          "base_uri": "https://localhost:8080/"
        },
        "id": "mcN2mWY5cEP4",
        "outputId": "18eceef8-4580-4775-c3c2-113a91d49812"
      },
      "outputs": [
        {
          "output_type": "stream",
          "name": "stdout",
          "text": [
            "Descriptive analysis of Biogas Yields of Fibrous Waste Materials\n"
          ]
        }
      ],
      "source": [
        "#Descriptive analysis of Biogas Yields of Fibrous Waste Materials\n",
        "print (\"Descriptive analysis of Biogas Yields of Fibrous Waste Materials\")"
      ]
    },
    {
      "cell_type": "code",
      "execution_count": null,
      "metadata": {
        "id": "Ic6dF5SCcWjf"
      },
      "outputs": [],
      "source": [
        "#extra libraries\n",
        "import statsmodels.api as sm\n",
        "from sklearn.linear_model import LinearRegression"
      ]
    },
    {
      "cell_type": "code",
      "execution_count": null,
      "metadata": {
        "colab": {
          "base_uri": "https://localhost:8080/",
          "height": 347
        },
        "id": "ssTlXrUCeQS6",
        "outputId": "4f4e22c8-4cff-4038-b59e-e78483271903"
      },
      "outputs": [
        {
          "output_type": "stream",
          "name": "stdout",
          "text": [
            "      Column    HRT (d)  Biogas Yield for YCPM (ml/g oTS)  \\\n",
            "count  count  29.000000                         29.000000   \n",
            "mean    mean  13.412759                        184.633793   \n",
            "std      std  11.157407                        105.449027   \n",
            "min      min   0.000000                          0.000000   \n",
            "25%      25%   3.690000                        113.360000   \n",
            "50%      50%  11.940000                        124.760000   \n",
            "75%      75%  21.030000                        284.930000   \n",
            "max      max  38.900000                        361.960000   \n",
            "\n",
            "       Biogas MPP (ml/g oTS)  Biogas Yield of MCP (ml/g oTS)  \n",
            "count              29.000000                       29.000000  \n",
            "mean              238.400690                      189.237241  \n",
            "std               152.179055                       58.172661  \n",
            "min                 0.000000                        0.000000  \n",
            "25%               130.050000                      191.610000  \n",
            "50%               211.530000                      218.820000  \n",
            "75%               385.550000                      220.370000  \n",
            "max               467.970000                      222.430000  \n"
          ]
        },
        {
          "output_type": "display_data",
          "data": {
            "text/plain": [
              "<IPython.core.display.Javascript object>"
            ],
            "application/javascript": [
              "\n",
              "    async function download(id, filename, size) {\n",
              "      if (!google.colab.kernel.accessAllowed) {\n",
              "        return;\n",
              "      }\n",
              "      const div = document.createElement('div');\n",
              "      const label = document.createElement('label');\n",
              "      label.textContent = `Downloading \"${filename}\": `;\n",
              "      div.appendChild(label);\n",
              "      const progress = document.createElement('progress');\n",
              "      progress.max = size;\n",
              "      div.appendChild(progress);\n",
              "      document.body.appendChild(div);\n",
              "\n",
              "      const buffers = [];\n",
              "      let downloaded = 0;\n",
              "\n",
              "      const channel = await google.colab.kernel.comms.open(id);\n",
              "      // Send a message to notify the kernel that we're ready.\n",
              "      channel.send({})\n",
              "\n",
              "      for await (const message of channel.messages) {\n",
              "        // Send a message to notify the kernel that we're ready.\n",
              "        channel.send({})\n",
              "        if (message.buffers) {\n",
              "          for (const buffer of message.buffers) {\n",
              "            buffers.push(buffer);\n",
              "            downloaded += buffer.byteLength;\n",
              "            progress.value = downloaded;\n",
              "          }\n",
              "        }\n",
              "      }\n",
              "      const blob = new Blob(buffers, {type: 'application/binary'});\n",
              "      const a = document.createElement('a');\n",
              "      a.href = window.URL.createObjectURL(blob);\n",
              "      a.download = filename;\n",
              "      div.appendChild(a);\n",
              "      a.click();\n",
              "      div.remove();\n",
              "    }\n",
              "  "
            ]
          },
          "metadata": {}
        },
        {
          "output_type": "display_data",
          "data": {
            "text/plain": [
              "<IPython.core.display.Javascript object>"
            ],
            "application/javascript": [
              "download(\"download_9fbddfef-f6e8-4b16-adc0-7a2ae79cbfab\", \"descriptive_stats.xlsx\", 5347)"
            ]
          },
          "metadata": {}
        }
      ],
      "source": [
        "import pandas as pd\n",
        "from google.colab import files\n",
        "descriptive_stats = data.describe()\n",
        "# descriptive_stats = descriptive_stats.T\n",
        "descriptive_stats.insert(0,'Column', descriptive_stats.index)\n",
        "print (descriptive_stats)\n",
        "data.describe(include='all')\n",
        "descriptive_stats.to_excel('descriptive_stats.xlsx', index=False)\n",
        "files.download('descriptive_stats.xlsx')"
      ]
    },
    {
      "cell_type": "code",
      "execution_count": null,
      "metadata": {
        "colab": {
          "base_uri": "https://localhost:8080/",
          "height": 451
        },
        "id": "7u1IHTx_lFmW",
        "outputId": "ae43d406-0304-468f-851a-f7f9419fd80f"
      },
      "outputs": [
        {
          "output_type": "stream",
          "name": "stdout",
          "text": [
            "                                   OLS Regression Results                                   \n",
            "============================================================================================\n",
            "Dep. Variable:     Biogas Yield for YCPM (ml/g oTS)   R-squared:                       0.944\n",
            "Model:                                          OLS   Adj. R-squared:                  0.942\n",
            "Method:                               Least Squares   F-statistic:                     459.3\n",
            "Date:                              Mon, 24 Mar 2025   Prob (F-statistic):           1.75e-18\n",
            "Time:                                      20:41:17   Log-Likelihood:                -133.81\n",
            "No. Observations:                                29   AIC:                             271.6\n",
            "Df Residuals:                                    27   BIC:                             274.4\n",
            "Df Model:                                         1                                         \n",
            "Covariance Type:                          nonrobust                                         \n",
            "==============================================================================\n",
            "                 coef    std err          t      P>|t|      [0.025      0.975]\n",
            "------------------------------------------------------------------------------\n",
            "const         61.4386      7.424      8.275      0.000      46.205      76.672\n",
            "HRT (d)        9.1849      0.429     21.432      0.000       8.306      10.064\n",
            "==============================================================================\n",
            "Omnibus:                        7.059   Durbin-Watson:                   0.430\n",
            "Prob(Omnibus):                  0.029   Jarque-Bera (JB):                5.881\n",
            "Skew:                          -1.093   Prob(JB):                       0.0528\n",
            "Kurtosis:                       3.293   Cond. No.                         27.4\n",
            "==============================================================================\n",
            "\n",
            "Notes:\n",
            "[1] Standard Errors assume that the covariance matrix of the errors is correctly specified.\n"
          ]
        },
        {
          "output_type": "display_data",
          "data": {
            "text/plain": [
              "<IPython.core.display.Javascript object>"
            ],
            "application/javascript": [
              "\n",
              "    async function download(id, filename, size) {\n",
              "      if (!google.colab.kernel.accessAllowed) {\n",
              "        return;\n",
              "      }\n",
              "      const div = document.createElement('div');\n",
              "      const label = document.createElement('label');\n",
              "      label.textContent = `Downloading \"${filename}\": `;\n",
              "      div.appendChild(label);\n",
              "      const progress = document.createElement('progress');\n",
              "      progress.max = size;\n",
              "      div.appendChild(progress);\n",
              "      document.body.appendChild(div);\n",
              "\n",
              "      const buffers = [];\n",
              "      let downloaded = 0;\n",
              "\n",
              "      const channel = await google.colab.kernel.comms.open(id);\n",
              "      // Send a message to notify the kernel that we're ready.\n",
              "      channel.send({})\n",
              "\n",
              "      for await (const message of channel.messages) {\n",
              "        // Send a message to notify the kernel that we're ready.\n",
              "        channel.send({})\n",
              "        if (message.buffers) {\n",
              "          for (const buffer of message.buffers) {\n",
              "            buffers.push(buffer);\n",
              "            downloaded += buffer.byteLength;\n",
              "            progress.value = downloaded;\n",
              "          }\n",
              "        }\n",
              "      }\n",
              "      const blob = new Blob(buffers, {type: 'application/binary'});\n",
              "      const a = document.createElement('a');\n",
              "      a.href = window.URL.createObjectURL(blob);\n",
              "      a.download = filename;\n",
              "      div.appendChild(a);\n",
              "      a.click();\n",
              "      div.remove();\n",
              "    }\n",
              "  "
            ]
          },
          "metadata": {}
        },
        {
          "output_type": "display_data",
          "data": {
            "text/plain": [
              "<IPython.core.display.Javascript object>"
            ],
            "application/javascript": [
              "download(\"download_aa3e7976-3ecf-4355-b209-4a357f6950f2\", \"model_summary.xlsx\", 1991)"
            ]
          },
          "metadata": {}
        }
      ],
      "source": [
        " #Regression analysis for Biogas Yield of YCPM\n",
        "X = data['HRT (d)']\n",
        "y = data['Biogas Yield for YCPM (ml/g oTS)']\n",
        "\n",
        "# Fit the regression model\n",
        "X = sm.add_constant(X)\n",
        "model = sm.OLS(y, X).fit()\n",
        "summary_output = str(model.summary())\n",
        "# Print and download the summary of regression results\n",
        "print(model.summary())\n",
        "with open('model_summary.xlsx', 'w') as file:\n",
        "  file.write(summary_output)\n",
        "files.download('model_summary.xlsx')\n",
        "\n"
      ]
    },
    {
      "cell_type": "code",
      "execution_count": null,
      "metadata": {
        "colab": {
          "base_uri": "https://localhost:8080/",
          "height": 451
        },
        "id": "DoHAzFKHukQn",
        "outputId": "f41a38fe-cdfe-45ae-f2e1-9197fbb5d4f5"
      },
      "outputs": [
        {
          "output_type": "stream",
          "name": "stdout",
          "text": [
            "                              OLS Regression Results                             \n",
            "=================================================================================\n",
            "Dep. Variable:     Biogas MPP (ml/g oTS)   R-squared:                       0.948\n",
            "Model:                               OLS   Adj. R-squared:                  0.946\n",
            "Method:                    Least Squares   F-statistic:                     493.5\n",
            "Date:                   Mon, 24 Mar 2025   Prob (F-statistic):           7.00e-19\n",
            "Time:                           20:41:23   Log-Likelihood:                -143.46\n",
            "No. Observations:                     29   AIC:                             290.9\n",
            "Df Residuals:                         27   BIC:                             293.7\n",
            "Df Model:                              1                                         \n",
            "Covariance Type:               nonrobust                                         \n",
            "==============================================================================\n",
            "                 coef    std err          t      P>|t|      [0.025      0.975]\n",
            "------------------------------------------------------------------------------\n",
            "const         60.2687     10.357      5.819      0.000      39.018      81.519\n",
            "HRT (d)       13.2808      0.598     22.214      0.000      12.054      14.507\n",
            "==============================================================================\n",
            "Omnibus:                       10.867   Durbin-Watson:                   0.368\n",
            "Prob(Omnibus):                  0.004   Jarque-Bera (JB):                9.650\n",
            "Skew:                          -1.163   Prob(JB):                      0.00803\n",
            "Kurtosis:                       4.605   Cond. No.                         27.4\n",
            "==============================================================================\n",
            "\n",
            "Notes:\n",
            "[1] Standard Errors assume that the covariance matrix of the errors is correctly specified.\n"
          ]
        },
        {
          "output_type": "display_data",
          "data": {
            "text/plain": [
              "<IPython.core.display.Javascript object>"
            ],
            "application/javascript": [
              "\n",
              "    async function download(id, filename, size) {\n",
              "      if (!google.colab.kernel.accessAllowed) {\n",
              "        return;\n",
              "      }\n",
              "      const div = document.createElement('div');\n",
              "      const label = document.createElement('label');\n",
              "      label.textContent = `Downloading \"${filename}\": `;\n",
              "      div.appendChild(label);\n",
              "      const progress = document.createElement('progress');\n",
              "      progress.max = size;\n",
              "      div.appendChild(progress);\n",
              "      document.body.appendChild(div);\n",
              "\n",
              "      const buffers = [];\n",
              "      let downloaded = 0;\n",
              "\n",
              "      const channel = await google.colab.kernel.comms.open(id);\n",
              "      // Send a message to notify the kernel that we're ready.\n",
              "      channel.send({})\n",
              "\n",
              "      for await (const message of channel.messages) {\n",
              "        // Send a message to notify the kernel that we're ready.\n",
              "        channel.send({})\n",
              "        if (message.buffers) {\n",
              "          for (const buffer of message.buffers) {\n",
              "            buffers.push(buffer);\n",
              "            downloaded += buffer.byteLength;\n",
              "            progress.value = downloaded;\n",
              "          }\n",
              "        }\n",
              "      }\n",
              "      const blob = new Blob(buffers, {type: 'application/binary'});\n",
              "      const a = document.createElement('a');\n",
              "      a.href = window.URL.createObjectURL(blob);\n",
              "      a.download = filename;\n",
              "      div.appendChild(a);\n",
              "      a.click();\n",
              "      div.remove();\n",
              "    }\n",
              "  "
            ]
          },
          "metadata": {}
        },
        {
          "output_type": "display_data",
          "data": {
            "text/plain": [
              "<IPython.core.display.Javascript object>"
            ],
            "application/javascript": [
              "download(\"download_b6aa203a-4467-4e81-b6a2-e0ef401bf608\", \"model_summary.xlsx\", 1991)"
            ]
          },
          "metadata": {}
        }
      ],
      "source": [
        " #Regression analysis for Biogas Yield of MPP\n",
        "X = data['HRT (d)']\n",
        "y = data['Biogas MPP (ml/g oTS)']\n",
        "# Fit the regression model\n",
        "X = sm.add_constant(X)  # Adds a constant term to the predictor\n",
        "model = sm.OLS(y, X).fit()\n",
        "\n",
        "# Print the summary of regression results\n",
        "print(model.summary())\n",
        "with open('model_summary.xlsx', 'w') as file:\n",
        "  file.write(summary_output)\n",
        "files.download('model_summary.xlsx')\n",
        "\n",
        "\n"
      ]
    },
    {
      "cell_type": "code",
      "execution_count": null,
      "metadata": {
        "colab": {
          "base_uri": "https://localhost:8080/",
          "height": 451
        },
        "id": "GdifK2NmYasw",
        "outputId": "547de618-dbb6-4a8f-da14-41c35c82eada"
      },
      "outputs": [
        {
          "output_type": "stream",
          "name": "stdout",
          "text": [
            "                                  OLS Regression Results                                  \n",
            "==========================================================================================\n",
            "Dep. Variable:     Biogas Yield of MCP (ml/g oTS)   R-squared:                       0.354\n",
            "Model:                                        OLS   Adj. R-squared:                  0.330\n",
            "Method:                             Least Squares   F-statistic:                     14.82\n",
            "Date:                            Mon, 24 Mar 2025   Prob (F-statistic):           0.000658\n",
            "Time:                                    20:41:29   Log-Likelihood:                -152.13\n",
            "No. Observations:                              29   AIC:                             308.3\n",
            "Df Residuals:                                  27   BIC:                             311.0\n",
            "Df Model:                                       1                                         \n",
            "Covariance Type:                        nonrobust                                         \n",
            "==============================================================================\n",
            "                 coef    std err          t      P>|t|      [0.025      0.975]\n",
            "------------------------------------------------------------------------------\n",
            "const        147.6065     13.967     10.569      0.000     118.949     176.264\n",
            "HRT (d)        3.1038      0.806      3.850      0.001       1.450       4.758\n",
            "==============================================================================\n",
            "Omnibus:                       15.115   Durbin-Watson:                   0.119\n",
            "Prob(Omnibus):                  0.001   Jarque-Bera (JB):               15.844\n",
            "Skew:                          -1.470   Prob(JB):                     0.000363\n",
            "Kurtosis:                       5.113   Cond. No.                         27.4\n",
            "==============================================================================\n",
            "\n",
            "Notes:\n",
            "[1] Standard Errors assume that the covariance matrix of the errors is correctly specified.\n"
          ]
        },
        {
          "output_type": "display_data",
          "data": {
            "text/plain": [
              "<IPython.core.display.Javascript object>"
            ],
            "application/javascript": [
              "\n",
              "    async function download(id, filename, size) {\n",
              "      if (!google.colab.kernel.accessAllowed) {\n",
              "        return;\n",
              "      }\n",
              "      const div = document.createElement('div');\n",
              "      const label = document.createElement('label');\n",
              "      label.textContent = `Downloading \"${filename}\": `;\n",
              "      div.appendChild(label);\n",
              "      const progress = document.createElement('progress');\n",
              "      progress.max = size;\n",
              "      div.appendChild(progress);\n",
              "      document.body.appendChild(div);\n",
              "\n",
              "      const buffers = [];\n",
              "      let downloaded = 0;\n",
              "\n",
              "      const channel = await google.colab.kernel.comms.open(id);\n",
              "      // Send a message to notify the kernel that we're ready.\n",
              "      channel.send({})\n",
              "\n",
              "      for await (const message of channel.messages) {\n",
              "        // Send a message to notify the kernel that we're ready.\n",
              "        channel.send({})\n",
              "        if (message.buffers) {\n",
              "          for (const buffer of message.buffers) {\n",
              "            buffers.push(buffer);\n",
              "            downloaded += buffer.byteLength;\n",
              "            progress.value = downloaded;\n",
              "          }\n",
              "        }\n",
              "      }\n",
              "      const blob = new Blob(buffers, {type: 'application/binary'});\n",
              "      const a = document.createElement('a');\n",
              "      a.href = window.URL.createObjectURL(blob);\n",
              "      a.download = filename;\n",
              "      div.appendChild(a);\n",
              "      a.click();\n",
              "      div.remove();\n",
              "    }\n",
              "  "
            ]
          },
          "metadata": {}
        },
        {
          "output_type": "display_data",
          "data": {
            "text/plain": [
              "<IPython.core.display.Javascript object>"
            ],
            "application/javascript": [
              "download(\"download_ea06d8a5-26ee-4979-b0d6-8b200d7a1ef5\", \"model_summary.xlsx\", 1991)"
            ]
          },
          "metadata": {}
        }
      ],
      "source": [
        "#Regression analysis for Biogas Yield of YCPM\n",
        "X = data['HRT (d)']\n",
        "y = data['Biogas Yield of MCP (ml/g oTS)']\n",
        "\n",
        "# Fit the regression model\n",
        "X = sm.add_constant(X)\n",
        "model = sm.OLS(y, X).fit()\n",
        "\n",
        "# Print and download the summary of regression results\n",
        "print(model.summary())\n",
        "with open('model_summary.xlsx', 'w') as file:\n",
        "    file.write(summary_output)\n",
        "files.download('model_summary.xlsx')\n",
        "\n"
      ]
    },
    {
      "cell_type": "code",
      "execution_count": null,
      "metadata": {
        "id": "TVB-HXVS2TE9"
      },
      "outputs": [],
      "source": [
        "# Regression analysis for Biogas Yield of MCP\n",
        "# X = data[['HRT (d)']]\n",
        "# y = data['Biogas Yield of MCP (ml/g oTS)']       # Replace with your dependent variable name\n",
        "\n",
        "# Fit the regression model\n",
        "# X = sm.add_constant(X)  # Adds a constant term to the predictor\n",
        "# model = sm.OLS(y, X).fit()\n",
        "\n",
        "# Print the summary of regression results\n",
        "# print(model.summary())"
      ]
    },
    {
      "cell_type": "code",
      "execution_count": null,
      "metadata": {
        "id": "748MDVwTkJY2"
      },
      "outputs": [],
      "source": [
        "#Correlation analysis"
      ]
    },
    {
      "cell_type": "code",
      "execution_count": null,
      "metadata": {
        "colab": {
          "base_uri": "https://localhost:8080/",
          "height": 959
        },
        "id": "3uQoP6ZhkPB4",
        "outputId": "643da684-e52c-4bca-8f83-f4d8ee0c2eb4"
      },
      "outputs": [
        {
          "output_type": "stream",
          "name": "stdout",
          "text": [
            "                                   HRT (d)  Biogas Yield for YCPM (ml/g oTS)  \\\n",
            "HRT (d)                           1.000000                          0.971844   \n",
            "Biogas Yield for YCPM (ml/g oTS)  0.971844                          1.000000   \n",
            "Biogas MPP (ml/g oTS)             0.973716                          0.986295   \n",
            "Biogas Yield of MCP (ml/g oTS)    0.595306                          0.649076   \n",
            "\n",
            "                                  Biogas MPP (ml/g oTS)  \\\n",
            "HRT (d)                                        0.973716   \n",
            "Biogas Yield for YCPM (ml/g oTS)               0.986295   \n",
            "Biogas MPP (ml/g oTS)                          1.000000   \n",
            "Biogas Yield of MCP (ml/g oTS)                 0.694093   \n",
            "\n",
            "                                  Biogas Yield of MCP (ml/g oTS)  \n",
            "HRT (d)                                                 0.595306  \n",
            "Biogas Yield for YCPM (ml/g oTS)                        0.649076  \n",
            "Biogas MPP (ml/g oTS)                                   0.694093  \n",
            "Biogas Yield of MCP (ml/g oTS)                          1.000000  \n"
          ]
        },
        {
          "output_type": "display_data",
          "data": {
            "text/plain": [
              "<Figure size 640x480 with 2 Axes>"
            ],
            "image/png": "[encoded data removed]"
          },
          "metadata": {}
        },
        {
          "output_type": "display_data",
          "data": {
            "text/plain": [
              "<IPython.core.display.Javascript object>"
            ],
            "application/javascript": [
              "\n",
              "    async function download(id, filename, size) {\n",
              "      if (!google.colab.kernel.accessAllowed) {\n",
              "        return;\n",
              "      }\n",
              "      const div = document.createElement('div');\n",
              "      const label = document.createElement('label');\n",
              "      label.textContent = `Downloading \"${filename}\": `;\n",
              "      div.appendChild(label);\n",
              "      const progress = document.createElement('progress');\n",
              "      progress.max = size;\n",
              "      div.appendChild(progress);\n",
              "      document.body.appendChild(div);\n",
              "\n",
              "      const buffers = [];\n",
              "      let downloaded = 0;\n",
              "\n",
              "      const channel = await google.colab.kernel.comms.open(id);\n",
              "      // Send a message to notify the kernel that we're ready.\n",
              "      channel.send({})\n",
              "\n",
              "      for await (const message of channel.messages) {\n",
              "        // Send a message to notify the kernel that we're ready.\n",
              "        channel.send({})\n",
              "        if (message.buffers) {\n",
              "          for (const buffer of message.buffers) {\n",
              "            buffers.push(buffer);\n",
              "            downloaded += buffer.byteLength;\n",
              "            progress.value = downloaded;\n",
              "          }\n",
              "        }\n",
              "      }\n",
              "      const blob = new Blob(buffers, {type: 'application/binary'});\n",
              "      const a = document.createElement('a');\n",
              "      a.href = window.URL.createObjectURL(blob);\n",
              "      a.download = filename;\n",
              "      div.appendChild(a);\n",
              "      a.click();\n",
              "      div.remove();\n",
              "    }\n",
              "  "
            ]
          },
          "metadata": {}
        },
        {
          "output_type": "display_data",
          "data": {
            "text/plain": [
              "<IPython.core.display.Javascript object>"
            ],
            "application/javascript": [
              "download(\"download_8b42adec-69a8-4bfc-92ef-6f0f45ebae94\", \"correlation_matrix.png\", 2397)"
            ]
          },
          "metadata": {}
        },
        {
          "output_type": "display_data",
          "data": {
            "text/plain": [
              "<Figure size 640x480 with 0 Axes>"
            ]
          },
          "metadata": {}
        }
      ],
      "source": [
        "import statsmodels.api as sm\n",
        "from sklearn.linear_model import LinearRegression\n",
        "import seaborn as sns\n",
        "import matplotlib.pyplot as plt\n",
        "correlation_matrix = data.corr()\n",
        "print(correlation_matrix)\n",
        "sns.heatmap(correlation_matrix, annot=True, cmap='plasma')\n",
        "plt.show()\n",
        "plt.savefig('correlation_matrix.png')\n",
        "files.download('correlation_matrix.png')"
      ]
    },
    {
      "cell_type": "code",
      "execution_count": null,
      "metadata": {
        "colab": {
          "base_uri": "https://localhost:8080/"
        },
        "id": "jcVv1BBAj-Xl",
        "outputId": "d7f0a5b7-8513-40cd-eba3-6008f97a4e56"
      },
      "outputs": [
        {
          "output_type": "stream",
          "name": "stdout",
          "text": [
            "LinearRegression()\n"
          ]
        }
      ],
      "source": [
        "# Trying a polynomial model if that works\n",
        "from sklearn.preprocessing import PolynomialFeatures\n",
        "from sklearn.linear_model import LinearRegression\n",
        "\n",
        "poly = PolynomialFeatures(degree=2)\n",
        "X_poly = poly.fit_transform(X)\n",
        "poly_reg = LinearRegression()\n",
        "print (poly_reg.fit(X_poly, y))"
      ]
    },
    {
      "cell_type": "code",
      "execution_count": null,
      "metadata": {
        "id": "CP_DoVSak115"
      },
      "outputs": [],
      "source": [
        "import numpy as np\n",
        "import matplotlib.pyplot as plt\n",
        "from sklearn.linear_model import LinearRegression\n",
        "from sklearn.preprocessing import PolynomialFeatures\n",
        "from sklearn.model_selection import train_test_split\n",
        "# Indicating the type of polynomial using degree\n",
        "degree = 4\n",
        "# Creating the actual function\n",
        "poly = PolynomialFeatures(degree=degree)\n",
        "X_poly = poly.fit_transform(X)\n",
        "\n"
      ]
    },
    {
      "cell_type": "code",
      "execution_count": null,
      "metadata": {
        "colab": {
          "base_uri": "https://localhost:8080/",
          "height": 80
        },
        "id": "jiyR33HTlcBp",
        "outputId": "06f619f7-9241-400f-d28d-a3d7eff2bcc3"
      },
      "outputs": [
        {
          "output_type": "execute_result",
          "data": {
            "text/plain": [
              "LinearRegression()"
            ],
            "text/html": [
              "<style>#sk-container-id-2 {\n",
              "  /* Definition of color scheme common for light and dark mode */\n",
              "  --sklearn-color-text: #000;\n",
              "  --sklearn-color-text-muted: #666;\n",
              "  --sklearn-color-line: gray;\n",
              "  /* Definition of color scheme for unfitted estimators */\n",
              "  --sklearn-color-unfitted-level-0: #fff5e6;\n",
              "  --sklearn-color-unfitted-level-1: #f6e4d2;\n",
              "  --sklearn-color-unfitted-level-2: #ffe0b3;\n",
              "  --sklearn-color-unfitted-level-3: chocolate;\n",
              "  /* Definition of color scheme for fitted estimators */\n",
              "  --sklearn-color-fitted-level-0: #f0f8ff;\n",
              "  --sklearn-color-fitted-level-1: #d4ebff;\n",
              "  --sklearn-color-fitted-level-2: #b3dbfd;\n",
              "  --sklearn-color-fitted-level-3: cornflowerblue;\n",
              "\n",
              "  /* Specific color for light theme */\n",
              "  --sklearn-color-text-on-default-background: var(--sg-text-color, var(--theme-code-foreground, var(--jp-content-font-color1, black)));\n",
              "  --sklearn-color-background: var(--sg-background-color, var(--theme-background, var(--jp-layout-color0, white)));\n",
              "  --sklearn-color-border-box: var(--sg-text-color, var(--theme-code-foreground, var(--jp-content-font-color1, black)));\n",
              "  --sklearn-color-icon: #696969;\n",
              "\n",
              "  @media (prefers-color-scheme: dark) {\n",
              "    /* Redefinition of color scheme for dark theme */\n",
              "    --sklearn-color-text-on-default-background: var(--sg-text-color, var(--theme-code-foreground, var(--jp-content-font-color1, white)));\n",
              "    --sklearn-color-background: var(--sg-background-color, var(--theme-background, var(--jp-layout-color0, #111)));\n",
              "    --sklearn-color-border-box: var(--sg-text-color, var(--theme-code-foreground, var(--jp-content-font-color1, white)));\n",
              "    --sklearn-color-icon: #878787;\n",
              "  }\n",
              "}\n",
              "\n",
              "#sk-container-id-2 {\n",
              "  color: var(--sklearn-color-text);\n",
              "}\n",
              "\n",
              "#sk-container-id-2 pre {\n",
              "  padding: 0;\n",
              "}\n",
              "\n",
              "#sk-container-id-2 input.sk-hidden--visually {\n",
              "  border: 0;\n",
              "  clip: rect(1px 1px 1px 1px);\n",
              "  clip: rect(1px, 1px, 1px, 1px);\n",
              "  height: 1px;\n",
              "  margin: -1px;\n",
              "  overflow: hidden;\n",
              "  padding: 0;\n",
              "  position: absolute;\n",
              "  width: 1px;\n",
              "}\n",
              "\n",
              "#sk-container-id-2 div.sk-dashed-wrapped {\n",
              "  border: 1px dashed var(--sklearn-color-line);\n",
              "  margin: 0 0.4em 0.5em 0.4em;\n",
              "  box-sizing: border-box;\n",
              "  padding-bottom: 0.4em;\n",
              "  background-color: var(--sklearn-color-background);\n",
              "}\n",
              "\n",
              "#sk-container-id-2 div.sk-container {\n",
              "  /* jupyter's `normalize.less` sets `[hidden] { display: none; }`\n",
              "     but bootstrap.min.css set `[hidden] { display: none !important; }`\n",
              "     so we also need the `!important` here to be able to override the\n",
              "     default hidden behavior on the sphinx rendered scikit-learn.org.\n",
              "     See: https://github.com/scikit-learn/scikit-learn/issues/21755 */\n",
              "  display: inline-block !important;\n",
              "  position: relative;\n",
              "}\n",
              "\n",
              "#sk-container-id-2 div.sk-text-repr-fallback {\n",
              "  display: none;\n",
              "}\n",
              "\n",
              "div.sk-parallel-item,\n",
              "div.sk-serial,\n",
              "div.sk-item {\n",
              "  /* draw centered vertical line to link estimators */\n",
              "  background-image: linear-gradient(var(--sklearn-color-text-on-default-background), var(--sklearn-color-text-on-default-background));\n",
              "  background-size: 2px 100%;\n",
              "  background-repeat: no-repeat;\n",
              "  background-position: center center;\n",
              "}\n",
              "\n",
              "/* Parallel-specific style estimator block */\n",
              "\n",
              "#sk-container-id-2 div.sk-parallel-item::after {\n",
              "  content: \"\";\n",
              "  width: 100%;\n",
              "  border-bottom: 2px solid var(--sklearn-color-text-on-default-background);\n",
              "  flex-grow: 1;\n",
              "}\n",
              "\n",
              "#sk-container-id-2 div.sk-parallel {\n",
              "  display: flex;\n",
              "  align-items: stretch;\n",
              "  justify-content: center;\n",
              "  background-color: var(--sklearn-color-background);\n",
              "  position: relative;\n",
              "}\n",
              "\n",
              "#sk-container-id-2 div.sk-parallel-item {\n",
              "  display: flex;\n",
              "  flex-direction: column;\n",
              "}\n",
              "\n",
              "#sk-container-id-2 div.sk-parallel-item:first-child::after {\n",
              "  align-self: flex-end;\n",
              "  width: 50%;\n",
              "}\n",
              "\n",
              "#sk-container-id-2 div.sk-parallel-item:last-child::after {\n",
              "  align-self: flex-start;\n",
              "  width: 50%;\n",
              "}\n",
              "\n",
              "#sk-container-id-2 div.sk-parallel-item:only-child::after {\n",
              "  width: 0;\n",
              "}\n",
              "\n",
              "/* Serial-specific style estimator block */\n",
              "\n",
              "#sk-container-id-2 div.sk-serial {\n",
              "  display: flex;\n",
              "  flex-direction: column;\n",
              "  align-items: center;\n",
              "  background-color: var(--sklearn-color-background);\n",
              "  padding-right: 1em;\n",
              "  padding-left: 1em;\n",
              "}\n",
              "\n",
              "\n",
              "/* Toggleable style: style used for estimator/Pipeline/ColumnTransformer box that is\n",
              "clickable and can be expanded/collapsed.\n",
              "- Pipeline and ColumnTransformer use this feature and define the default style\n",
              "- Estimators will overwrite some part of the style using the `sk-estimator` class\n",
              "*/\n",
              "\n",
              "/* Pipeline and ColumnTransformer style (default) */\n",
              "\n",
              "#sk-container-id-2 div.sk-toggleable {\n",
              "  /* Default theme specific background. It is overwritten whether we have a\n",
              "  specific estimator or a Pipeline/ColumnTransformer */\n",
              "  background-color: var(--sklearn-color-background);\n",
              "}\n",
              "\n",
              "/* Toggleable label */\n",
              "#sk-container-id-2 label.sk-toggleable__label {\n",
              "  cursor: pointer;\n",
              "  display: flex;\n",
              "  width: 100%;\n",
              "  margin-bottom: 0;\n",
              "  padding: 0.5em;\n",
              "  box-sizing: border-box;\n",
              "  text-align: center;\n",
              "  align-items: start;\n",
              "  justify-content: space-between;\n",
              "  gap: 0.5em;\n",
              "}\n",
              "\n",
              "#sk-container-id-2 label.sk-toggleable__label .caption {\n",
              "  font-size: 0.6rem;\n",
              "  font-weight: lighter;\n",
              "  color: var(--sklearn-color-text-muted);\n",
              "}\n",
              "\n",
              "#sk-container-id-2 label.sk-toggleable__label-arrow:before {\n",
              "  /* Arrow on the left of the label */\n",
              "  content: \"▸\";\n",
              "  float: left;\n",
              "  margin-right: 0.25em;\n",
              "  color: var(--sklearn-color-icon);\n",
              "}\n",
              "\n",
              "#sk-container-id-2 label.sk-toggleable__label-arrow:hover:before {\n",
              "  color: var(--sklearn-color-text);\n",
              "}\n",
              "\n",
              "/* Toggleable content - dropdown */\n",
              "\n",
              "#sk-container-id-2 div.sk-toggleable__content {\n",
              "  max-height: 0;\n",
              "  max-width: 0;\n",
              "  overflow: hidden;\n",
              "  text-align: left;\n",
              "  /* unfitted */\n",
              "  background-color: var(--sklearn-color-unfitted-level-0);\n",
              "}\n",
              "\n",
              "#sk-container-id-2 div.sk-toggleable__content.fitted {\n",
              "  /* fitted */\n",
              "  background-color: var(--sklearn-color-fitted-level-0);\n",
              "}\n",
              "\n",
              "#sk-container-id-2 div.sk-toggleable__content pre {\n",
              "  margin: 0.2em;\n",
              "  border-radius: 0.25em;\n",
              "  color: var(--sklearn-color-text);\n",
              "  /* unfitted */\n",
              "  background-color: var(--sklearn-color-unfitted-level-0);\n",
              "}\n",
              "\n",
              "#sk-container-id-2 div.sk-toggleable__content.fitted pre {\n",
              "  /* unfitted */\n",
              "  background-color: var(--sklearn-color-fitted-level-0);\n",
              "}\n",
              "\n",
              "#sk-container-id-2 input.sk-toggleable__control:checked~div.sk-toggleable__content {\n",
              "  /* Expand drop-down */\n",
              "  max-height: 200px;\n",
              "  max-width: 100%;\n",
              "  overflow: auto;\n",
              "}\n",
              "\n",
              "#sk-container-id-2 input.sk-toggleable__control:checked~label.sk-toggleable__label-arrow:before {\n",
              "  content: \"▾\";\n",
              "}\n",
              "\n",
              "/* Pipeline/ColumnTransformer-specific style */\n",
              "\n",
              "#sk-container-id-2 div.sk-label input.sk-toggleable__control:checked~label.sk-toggleable__label {\n",
              "  color: var(--sklearn-color-text);\n",
              "  background-color: var(--sklearn-color-unfitted-level-2);\n",
              "}\n",
              "\n",
              "#sk-container-id-2 div.sk-label.fitted input.sk-toggleable__control:checked~label.sk-toggleable__label {\n",
              "  background-color: var(--sklearn-color-fitted-level-2);\n",
              "}\n",
              "\n",
              "/* Estimator-specific style */\n",
              "\n",
              "/* Colorize estimator box */\n",
              "#sk-container-id-2 div.sk-estimator input.sk-toggleable__control:checked~label.sk-toggleable__label {\n",
              "  /* unfitted */\n",
              "  background-color: var(--sklearn-color-unfitted-level-2);\n",
              "}\n",
              "\n",
              "#sk-container-id-2 div.sk-estimator.fitted input.sk-toggleable__control:checked~label.sk-toggleable__label {\n",
              "  /* fitted */\n",
              "  background-color: var(--sklearn-color-fitted-level-2);\n",
              "}\n",
              "\n",
              "#sk-container-id-2 div.sk-label label.sk-toggleable__label,\n",
              "#sk-container-id-2 div.sk-label label {\n",
              "  /* The background is the default theme color */\n",
              "  color: var(--sklearn-color-text-on-default-background);\n",
              "}\n",
              "\n",
              "/* On hover, darken the color of the background */\n",
              "#sk-container-id-2 div.sk-label:hover label.sk-toggleable__label {\n",
              "  color: var(--sklearn-color-text);\n",
              "  background-color: var(--sklearn-color-unfitted-level-2);\n",
              "}\n",
              "\n",
              "/* Label box, darken color on hover, fitted */\n",
              "#sk-container-id-2 div.sk-label.fitted:hover label.sk-toggleable__label.fitted {\n",
              "  color: var(--sklearn-color-text);\n",
              "  background-color: var(--sklearn-color-fitted-level-2);\n",
              "}\n",
              "\n",
              "/* Estimator label */\n",
              "\n",
              "#sk-container-id-2 div.sk-label label {\n",
              "  font-family: monospace;\n",
              "  font-weight: bold;\n",
              "  display: inline-block;\n",
              "  line-height: 1.2em;\n",
              "}\n",
              "\n",
              "#sk-container-id-2 div.sk-label-container {\n",
              "  text-align: center;\n",
              "}\n",
              "\n",
              "/* Estimator-specific */\n",
              "#sk-container-id-2 div.sk-estimator {\n",
              "  font-family: monospace;\n",
              "  border: 1px dotted var(--sklearn-color-border-box);\n",
              "  border-radius: 0.25em;\n",
              "  box-sizing: border-box;\n",
              "  margin-bottom: 0.5em;\n",
              "  /* unfitted */\n",
              "  background-color: var(--sklearn-color-unfitted-level-0);\n",
              "}\n",
              "\n",
              "#sk-container-id-2 div.sk-estimator.fitted {\n",
              "  /* fitted */\n",
              "  background-color: var(--sklearn-color-fitted-level-0);\n",
              "}\n",
              "\n",
              "/* on hover */\n",
              "#sk-container-id-2 div.sk-estimator:hover {\n",
              "  /* unfitted */\n",
              "  background-color: var(--sklearn-color-unfitted-level-2);\n",
              "}\n",
              "\n",
              "#sk-container-id-2 div.sk-estimator.fitted:hover {\n",
              "  /* fitted */\n",
              "  background-color: var(--sklearn-color-fitted-level-2);\n",
              "}\n",
              "\n",
              "/* Specification for estimator info (e.g. \"i\" and \"?\") */\n",
              "\n",
              "/* Common style for \"i\" and \"?\" */\n",
              "\n",
              ".sk-estimator-doc-link,\n",
              "a:link.sk-estimator-doc-link,\n",
              "a:visited.sk-estimator-doc-link {\n",
              "  float: right;\n",
              "  font-size: smaller;\n",
              "  line-height: 1em;\n",
              "  font-family: monospace;\n",
              "  background-color: var(--sklearn-color-background);\n",
              "  border-radius: 1em;\n",
              "  height: 1em;\n",
              "  width: 1em;\n",
              "  text-decoration: none !important;\n",
              "  margin-left: 0.5em;\n",
              "  text-align: center;\n",
              "  /* unfitted */\n",
              "  border: var(--sklearn-color-unfitted-level-1) 1pt solid;\n",
              "  color: var(--sklearn-color-unfitted-level-1);\n",
              "}\n",
              "\n",
              ".sk-estimator-doc-link.fitted,\n",
              "a:link.sk-estimator-doc-link.fitted,\n",
              "a:visited.sk-estimator-doc-link.fitted {\n",
              "  /* fitted */\n",
              "  border: var(--sklearn-color-fitted-level-1) 1pt solid;\n",
              "  color: var(--sklearn-color-fitted-level-1);\n",
              "}\n",
              "\n",
              "/* On hover */\n",
              "div.sk-estimator:hover .sk-estimator-doc-link:hover,\n",
              ".sk-estimator-doc-link:hover,\n",
              "div.sk-label-container:hover .sk-estimator-doc-link:hover,\n",
              ".sk-estimator-doc-link:hover {\n",
              "  /* unfitted */\n",
              "  background-color: var(--sklearn-color-unfitted-level-3);\n",
              "  color: var(--sklearn-color-background);\n",
              "  text-decoration: none;\n",
              "}\n",
              "\n",
              "div.sk-estimator.fitted:hover .sk-estimator-doc-link.fitted:hover,\n",
              ".sk-estimator-doc-link.fitted:hover,\n",
              "div.sk-label-container:hover .sk-estimator-doc-link.fitted:hover,\n",
              ".sk-estimator-doc-link.fitted:hover {\n",
              "  /* fitted */\n",
              "  background-color: var(--sklearn-color-fitted-level-3);\n",
              "  color: var(--sklearn-color-background);\n",
              "  text-decoration: none;\n",
              "}\n",
              "\n",
              "/* Span, style for the box shown on hovering the info icon */\n",
              ".sk-estimator-doc-link span {\n",
              "  display: none;\n",
              "  z-index: 9999;\n",
              "  position: relative;\n",
              "  font-weight: normal;\n",
              "  right: .2ex;\n",
              "  padding: .5ex;\n",
              "  margin: .5ex;\n",
              "  width: min-content;\n",
              "  min-width: 20ex;\n",
              "  max-width: 50ex;\n",
              "  color: var(--sklearn-color-text);\n",
              "  box-shadow: 2pt 2pt 4pt #999;\n",
              "  /* unfitted */\n",
              "  background: var(--sklearn-color-unfitted-level-0);\n",
              "  border: .5pt solid var(--sklearn-color-unfitted-level-3);\n",
              "}\n",
              "\n",
              ".sk-estimator-doc-link.fitted span {\n",
              "  /* fitted */\n",
              "  background: var(--sklearn-color-fitted-level-0);\n",
              "  border: var(--sklearn-color-fitted-level-3);\n",
              "}\n",
              "\n",
              ".sk-estimator-doc-link:hover span {\n",
              "  display: block;\n",
              "}\n",
              "\n",
              "/* \"?\"-specific style due to the `<a>` HTML tag */\n",
              "\n",
              "#sk-container-id-2 a.estimator_doc_link {\n",
              "  float: right;\n",
              "  font-size: 1rem;\n",
              "  line-height: 1em;\n",
              "  font-family: monospace;\n",
              "  background-color: var(--sklearn-color-background);\n",
              "  border-radius: 1rem;\n",
              "  height: 1rem;\n",
              "  width: 1rem;\n",
              "  text-decoration: none;\n",
              "  /* unfitted */\n",
              "  color: var(--sklearn-color-unfitted-level-1);\n",
              "  border: var(--sklearn-color-unfitted-level-1) 1pt solid;\n",
              "}\n",
              "\n",
              "#sk-container-id-2 a.estimator_doc_link.fitted {\n",
              "  /* fitted */\n",
              "  border: var(--sklearn-color-fitted-level-1) 1pt solid;\n",
              "  color: var(--sklearn-color-fitted-level-1);\n",
              "}\n",
              "\n",
              "/* On hover */\n",
              "#sk-container-id-2 a.estimator_doc_link:hover {\n",
              "  /* unfitted */\n",
              "  background-color: var(--sklearn-color-unfitted-level-3);\n",
              "  color: var(--sklearn-color-background);\n",
              "  text-decoration: none;\n",
              "}\n",
              "\n",
              "#sk-container-id-2 a.estimator_doc_link.fitted:hover {\n",
              "  /* fitted */\n",
              "  background-color: var(--sklearn-color-fitted-level-3);\n",
              "}\n",
              "</style><div id=\"sk-container-id-2\" class=\"sk-top-container\"><div class=\"sk-text-repr-fallback\"><pre>LinearRegression()</pre><b>In a Jupyter environment, please rerun this cell to show the HTML representation or trust the notebook. <br />On GitHub, the HTML representation is unable to render, please try loading this page with nbviewer.org.</b></div><div class=\"sk-container\" hidden><div class=\"sk-item\"><div class=\"sk-estimator fitted sk-toggleable\"><input class=\"sk-toggleable__control sk-hidden--visually\" id=\"sk-estimator-id-2\" type=\"checkbox\" checked><label for=\"sk-estimator-id-2\" class=\"sk-toggleable__label fitted sk-toggleable__label-arrow\"><div><div>LinearRegression</div></div><div><a class=\"sk-estimator-doc-link fitted\" rel=\"noreferrer\" target=\"_blank\" href=\"https://scikit-learn.org/1.6/modules/generated/sklearn.linear_model.LinearRegression.html\">?<span>Documentation for LinearRegression</span></a><span class=\"sk-estimator-doc-link fitted\">i<span>Fitted</span></span></div></label><div class=\"sk-toggleable__content fitted\"><pre>LinearRegression()</pre></div> </div></div></div></div>"
            ]
          },
          "metadata": {},
          "execution_count": 30
        }
      ],
      "source": [
        "# Fitting polynomial model\n",
        "model = LinearRegression()\n",
        "model.fit(X_poly, y)"
      ]
    },
    {
      "cell_type": "code",
      "execution_count": null,
      "metadata": {
        "colab": {
          "base_uri": "https://localhost:8080/",
          "height": 524
        },
        "id": "8m4-wQSvlwrb",
        "outputId": "78173dde-f0bf-40b5-c983-5f3599af7e6a"
      },
      "outputs": [
        {
          "output_type": "display_data",
          "data": {
            "text/plain": [
              "<Figure size 640x480 with 1 Axes>"
            ],
            "image/png": "[encoded data removed]"
          },
          "metadata": {}
        },
        {
          "output_type": "stream",
          "name": "stdout",
          "text": [
            "R-squared: 0.9096089541581651\n",
            "RMSE: 17.185479416059\n",
            "y = 43.41 + -0.00x + 12.86x^2 + -0.00x^3 + 12.86x^4\n"
          ]
        }
      ],
      "source": [
        "# Visualisation\n",
        "# Extracting Independent variable (HRT (d))\n",
        "X_hrt = data['HRT (d)']\n",
        "# Extracting Dependent variable (Biogas Yield of MCP (ml/g oTS))\n",
        "# y_biogas_yield = X['Biogas Yield of MCP (ml/g oTS)']\n",
        "# Creating visualised polynomial model\n",
        "y_pred = model.predict(X_poly)\n",
        "plt.scatter(X_hrt, y, color='blue', label='Experimental data')\n",
        "plt.plot(X_hrt, y_pred, color='red', label='Polynomial fit')\n",
        "plt.xlabel('X')\n",
        "plt.ylabel('y')\n",
        "plt.title(f'Polynomial Regression (Degree={degree})')\n",
        "plt.legend()\n",
        "plt.show()\n",
        "from sklearn.metrics import r2_score\n",
        "r_squared = r2_score(y, y_pred)\n",
        "from sklearn.metrics import mean_squared_error\n",
        "rmse = np.sqrt(mean_squared_error(y, y_pred))\n",
        "model_equation = f\"y = {model.intercept_:.2f} + {model.coef_[1]:.2f}x + {model.coef_[2]:.2f}x^2 + {model.coef_[3]:.2f}x^3 + {model.coef_[4]:.2f}x^4\"\n",
        "print (f\"R-squared: {r_squared}\")\n",
        "print (f\"RMSE: {rmse}\")\n",
        "print (model_equation)"
      ]
    },
    {
      "cell_type": "code",
      "execution_count": null,
      "metadata": {
        "id": "fn9C9AfPlkpW"
      },
      "outputs": [],
      "source": [
        "# Step 3: Predict using the model\n",
        "y_pred = model.predict(X_poly)\n"
      ]
    },
    {
      "cell_type": "code",
      "execution_count": null,
      "metadata": {
        "colab": {
          "base_uri": "https://localhost:8080/"
        },
        "id": "i4W2hD3ullix",
        "outputId": "aaeabd8b-7b28-42a0-9438-c7e9eeb26805"
      },
      "outputs": [
        {
          "output_type": "stream",
          "name": "stdout",
          "text": [
            "Coefficients: [ 0.00000000e+00 -1.50398458e-10  1.28636501e+01 -2.79776202e-14\n",
            "  1.28636501e+01 -1.51126362e+00  7.46163406e-41  1.28636501e+01\n",
            " -1.51126362e+00  7.66683005e-02  0.00000000e+00  1.28636501e+01\n",
            " -1.51126362e+00  7.66683005e-02 -1.74556389e-03]\n",
            "Intercept: 43.412382689165526\n"
          ]
        }
      ],
      "source": [
        "# Display model coefficients and intercept\n",
        "print(f\"Coefficients: {model.coef_}\")\n",
        "print(f\"Intercept: {model.intercept_}\")"
      ]
    },
    {
      "cell_type": "code",
      "execution_count": null,
      "metadata": {
        "id": "1PGMp7kz4GN7"
      },
      "outputs": [],
      "source": [
        "#ANOVA test"
      ]
    },
    {
      "cell_type": "code",
      "execution_count": null,
      "metadata": {
        "colab": {
          "base_uri": "https://localhost:8080/"
        },
        "id": "l9jZNDGhlVNe",
        "outputId": "3bf2c3d0-05a4-43f2-900b-0e7ebcafc6a1"
      },
      "outputs": [
        {
          "output_type": "stream",
          "name": "stdout",
          "text": [
            "Modelling of biogas generation: Applying four different models and a hybrid\n"
          ]
        }
      ],
      "source": [
        "print (\"Modelling of biogas generation: Applying four different models and a hybrid\")"
      ]
    },
    {
      "cell_type": "code",
      "execution_count": null,
      "metadata": {
        "id": "vMKdsxZquvm3"
      },
      "outputs": [],
      "source": [
        "# Modelling of biogas generation: Applying four different models and a hybrid"
      ]
    },
    {
      "cell_type": "code",
      "execution_count": null,
      "metadata": {
        "colab": {
          "base_uri": "https://localhost:8080/"
        },
        "id": "tW5mvzGvvJGD",
        "outputId": "4facf283-0066-4e37-86a6-63841b2b47da"
      },
      "outputs": [
        {
          "output_type": "stream",
          "name": "stdout",
          "text": [
            "Problem definition\n"
          ]
        }
      ],
      "source": [
        "print (\"Problem definition\")"
      ]
    },
    {
      "cell_type": "code",
      "execution_count": null,
      "metadata": {
        "id": "6b2PnMd8vPsk"
      },
      "outputs": [],
      "source": [
        "# The regression analysis provides a fit which does not accurately describe biogas generation or the cumulative yields dependent on HRT. The polynomial models as well do not provide a very confident comparison or fit for biogas generation as seen in these experiments. The challenge is now to explore other models that could solve the limitations reached from the earlier models: regression and polynomial. The First Order Kinetic Model, The Modified Gompertz Model, The Logistic Growth Model. The TWo Phase-Experimental Model. The key models relevant to describe the experiments are the first order kinetic models and the modified Gompertz model. The Two-Phase Experimental model is necessary as some of the experiments produced results which suggest fast and slow digestion in different instances of substrate and HRT. The lag phase model is at play to"
      ]
    },
    {
      "cell_type": "code",
      "execution_count": null,
      "metadata": {
        "id": "sKlwxTZX0jnK"
      },
      "outputs": [],
      "source": [
        "# Applying the modified Gompertz Level"
      ]
    },
    {
      "cell_type": "code",
      "execution_count": null,
      "metadata": {
        "colab": {
          "base_uri": "https://localhost:8080/"
        },
        "id": "AkFQPFwh0qm4",
        "outputId": "4bdd2106-3333-4e75-d4e2-c4480ac37f52"
      },
      "outputs": [
        {
          "output_type": "stream",
          "name": "stdout",
          "text": [
            "Modified Gompert Model Codes\n"
          ]
        }
      ],
      "source": [
        "print (\"Modified Gompert Model Codes\")"
      ]
    },
    {
      "cell_type": "code",
      "execution_count": null,
      "metadata": {
        "id": "_t1ilxum275L"
      },
      "outputs": [],
      "source": [
        "# Importing useful libraries\n",
        "from scipy.optimize import curve_fit"
      ]
    },
    {
      "cell_type": "code",
      "execution_count": null,
      "metadata": {
        "id": "5q7FDM0F0yeX"
      },
      "outputs": [],
      "source": [
        "# Function\n",
        "def gompertz_model(t, B0, Rm, lambda_):\n",
        "    return B0 * np.exp(-np.exp((Rm * np.e / B0) * (lambda_ - t) + 1))"
      ]
    },
    {
      "cell_type": "code",
      "execution_count": null,
      "metadata": {
        "id": "SQUPixnU13xc"
      },
      "outputs": [],
      "source": [
        "# Data Description\n",
        "# HRT as Independent Variable\n",
        "import pandas as pd\n",
        "import numpy as np\n",
        "from scipy.optimize import curve_fit\n",
        "import matplotlib.pyplot as plt\n",
        "data = data\n",
        "cleaned_data = data.dropna()\n",
        "t_data = data['HRT (d)'].values\n"
      ]
    },
    {
      "cell_type": "code",
      "execution_count": null,
      "metadata": {
        "id": "Qo6MDP0U7gNM"
      },
      "outputs": [],
      "source": [
        "# Biogas Yield as Depedent Variable: Biogas Yield of MCP (ml/g oTS)\n",
        "B_data = data['Biogas Yield of MCP (ml/g oTS)'].values"
      ]
    },
    {
      "cell_type": "code",
      "execution_count": null,
      "metadata": {
        "id": "Lm--wQqy16KD"
      },
      "outputs": [],
      "source": [
        "# Applying the fit\n",
        "popt, pcov = curve_fit(gompertz_model, t_data, B_data, bounds=(0, [250, 40, 40]))\n",
        "B0, Rm, lambda_ = popt"
      ]
    },
    {
      "cell_type": "code",
      "execution_count": null,
      "metadata": {
        "id": "VHXb8DpW1_31"
      },
      "outputs": [],
      "source": [
        "# Generate predictions\n",
        "t_pred = np.linspace(0, 40, 250)\n",
        "B_pred = gompertz_model(t_pred, B0, Rm, lambda_)"
      ]
    },
    {
      "cell_type": "code",
      "execution_count": null,
      "metadata": {
        "colab": {
          "base_uri": "https://localhost:8080/",
          "height": 466
        },
        "id": "Ki8z74aA2D5T",
        "outputId": "c3bfa742-3819-4813-ba76-29be14e69b26"
      },
      "outputs": [
        {
          "output_type": "display_data",
          "data": {
            "text/plain": [
              "<Figure size 640x480 with 1 Axes>"
            ],
            "image/png": "[encoded data removed]"
          },
          "metadata": {}
        },
        {
          "output_type": "stream",
          "name": "stdout",
          "text": [
            "B(t) = 224.11 * exp(-exp((40.00 * e / 224.11) * (0.00 - t) + 1))\n"
          ]
        }
      ],
      "source": [
        "# Plot results\n",
        "plt.scatter(t_data, B_data, label='Observed Data')\n",
        "plt.plot(t_pred, B_pred, label=f'Gompertz Model (B0={B0:.2f}, Rm={Rm:.2f}, λ={lambda_:.2f})', color='green')\n",
        "plt.xlabel('HRT (D)')\n",
        "plt.ylabel('Biogas Yield of MCP (ml/g oTS)')\n",
        "plt.legend()\n",
        "plt.show()\n",
        "def model_equation():\n",
        "    return f'B(t) = {B0:.2f} * exp(-exp(({Rm:.2f} * e / {B0:.2f}) * ({lambda_:.2f} - t) + 1))'\n",
        "print(model_equation())"
      ]
    },
    {
      "cell_type": "code",
      "execution_count": null,
      "metadata": {
        "colab": {
          "base_uri": "https://localhost:8080/"
        },
        "id": "4Opjd1ncmQQS",
        "outputId": "c8c755c2-6b3b-4785-ed1d-83417ada0828"
      },
      "outputs": [
        {
          "output_type": "stream",
          "name": "stdout",
          "text": [
            "R-squared: 0.6693922585101085\n",
            "RMSE: 32.86665118948445\n"
          ]
        }
      ],
      "source": [
        "# Statistical Evaluaton of the model\n",
        "# R-squared\n",
        "from sklearn.metrics import r2_score\n",
        "r_squared = r2_score(B_data, gompertz_model(t_data, *popt))\n",
        "print(f\"R-squared: {r_squared}\")\n",
        "# Root Mean Squared Error (RMSE)\n",
        "from sklearn.metrics import mean_squared_error\n",
        "rmse = np.sqrt(mean_squared_error(B_data, gompertz_model(t_data, *popt)))\n",
        "print(f\"RMSE: {rmse}\")\n"
      ]
    },
    {
      "cell_type": "code",
      "execution_count": null,
      "metadata": {
        "id": "bDusxIBSJgeg"
      },
      "outputs": [],
      "source": [
        "# First Order Kinetic Model"
      ]
    },
    {
      "cell_type": "code",
      "execution_count": null,
      "metadata": {
        "colab": {
          "base_uri": "https://localhost:8080/"
        },
        "id": "9YaqgvQaJniN",
        "outputId": "fa48cd9e-e2b7-424a-bb23-9049e53489e3"
      },
      "outputs": [
        {
          "output_type": "stream",
          "name": "stdout",
          "text": [
            "First Order Kinetic Model\n"
          ]
        }
      ],
      "source": [
        "print (\"First Order Kinetic Model\")"
      ]
    },
    {
      "cell_type": "markdown",
      "metadata": {
        "id": "evOFCSDJqtgn"
      },
      "source": []
    },
    {
      "cell_type": "code",
      "execution_count": null,
      "metadata": {
        "colab": {
          "base_uri": "https://localhost:8080/",
          "height": 484
        },
        "id": "WUumme3sL8nh",
        "outputId": "01c3a535-fa8f-4277-bcb0-5dc7e0c61855"
      },
      "outputs": [
        {
          "output_type": "stream",
          "name": "stdout",
          "text": [
            "B(t) = (426.31 * (1 - np.exp(-0.58 * t)) + 426.31 * np.exp(-np.exp((1.64 * e / 426.31) * (40.00 + 1))))/2\n"
          ]
        },
        {
          "output_type": "display_data",
          "data": {
            "text/plain": [
              "<Figure size 640x480 with 1 Axes>"
            ],
            "image/png": "[encoded data removed]"
          },
          "metadata": {}
        },
        {
          "output_type": "stream",
          "name": "stdout",
          "text": [
            "\n"
          ]
        }
      ],
      "source": [
        "# Hybrid model function (blending First-Order and Gompertz)\n",
        "def hybrid_model(t, B0, k, Rm, lambda_):\n",
        "    first_order = B0 * (1 - np.exp(-k * t))\n",
        "    gompertz = B0 * np.exp(-np.exp((Rm * np.e / B0) * (lambda_ - t) + 1))\n",
        "    return (first_order + gompertz) / 2  # Averaging both models\n",
        "def hybrid_model_equation():\n",
        "    return f'B(t) = 0.5 * ({B0:.2f} * (1 - exp(-{k:.2f} * t)) + {B0:.2f} * exp(-exp(({Rm:.2f} * e / {B0:.2f}) * ({lambda_:.2f} - t) + 1))))'\n",
        "# Calling data\n",
        "t_data = data['HRT (d)'].values\n",
        "B_data = data['Biogas Yield of MCP (ml/g oTS)'].values\n",
        "\n",
        "# Curve fitting for hybrid model\n",
        "popt, pcov = curve_fit(hybrid_model, t_data, B_data, bounds=(0, [450, 100, 40, 40]))\n",
        "B0, k, Rm, lambda_ = popt\n",
        "\n",
        "# Generate predictions\n",
        "t_pred = np.linspace(0,40, 300)\n",
        "B_pred = hybrid_model(t_pred, B0, k, Rm, lambda_)\n",
        "\n",
        "# Plot results\n",
        "plt.scatter(t_data, B_data, label='Observed Data')\n",
        "plt.plot(t_pred, B_pred, label=f'Hybrid Model', color='purple')\n",
        "plt.xlabel('HRT (D)')\n",
        "plt.ylabel('Biogas Yield of MCP (ml/g oTS)')\n",
        "model_equation = f'B(t) = ({B0:.2f} * (1 - np.exp(-{k:.2f} * t)) + {B0:.2f} * np.exp(-np.exp(({Rm:.2f} * e / {B0:.2f}) * ({lambda_:.2f} + 1))))/2'\n",
        "print(model_equation)\n",
        "plt.legend()\n",
        "plt.show()\n",
        "print ()\n"
      ]
    },
    {
      "cell_type": "code",
      "execution_count": null,
      "metadata": {
        "colab": {
          "base_uri": "https://localhost:8080/"
        },
        "id": "iRodCCKfZQAg",
        "outputId": "72b3da9b-b6dc-40e5-d437-ec4c8d41e9f8"
      },
      "outputs": [
        {
          "output_type": "stream",
          "name": "stdout",
          "text": [
            "R-squared: 0.9771790960048344\n",
            "RMSE: 8.635060173553827\n"
          ]
        }
      ],
      "source": [
        "# Statistical Evaluaton of the model\n",
        "# R-squared\n",
        "from sklearn.metrics import r2_score\n",
        "r_squared = r2_score(B_data, hybrid_model(t_data, B0, k, Rm, lambda_))\n",
        "print(f\"R-squared: {r_squared}\")\n",
        "# Root Mean Squared Error (RMSE)\n",
        "from sklearn.metrics import mean_squared_error\n",
        "rmse = np.sqrt(mean_squared_error(B_data, hybrid_model(t_data, B0, k, Rm, lambda_)))\n",
        "print(f\"RMSE: {rmse}\")"
      ]
    },
    {
      "cell_type": "code",
      "execution_count": null,
      "metadata": {
        "colab": {
          "base_uri": "https://localhost:8080/",
          "height": 466
        },
        "id": "sKpQ0LcQLb9e",
        "outputId": "d232db47-0055-4343-c475-259a8d80cf00"
      },
      "outputs": [
        {
          "output_type": "stream",
          "name": "stdout",
          "text": [
            "B(t) = 218.41 / (1 + np.exp((4 * 70.00 / 218.41) * (0.00 - t) + 2))\n"
          ]
        },
        {
          "output_type": "display_data",
          "data": {
            "text/plain": [
              "<Figure size 640x480 with 1 Axes>"
            ],
            "image/png": "[encoded data removed]"
          },
          "metadata": {}
        }
      ],
      "source": [
        "# Logistic growth model function\n",
        "def logistic_growth_model(t, B0, Rm, lambda_):\n",
        "    return B0 / (1 + np.exp((4 * Rm / B0) * (lambda_ - t) + 2))\n",
        "def logistic_growth_model_equation():\n",
        "    return f'B(t) = {B0:.2f} / (1 + np.exp((4 * {Rm:.2f} / {B0:.2f}) * ({lambda_:.2f} - t) + 2))'\n",
        "\n",
        "# Calling data\n",
        "t_data = data['HRT (d)'].values\n",
        "B_data = data['Biogas Yield of MCP (ml/g oTS)'].values\n",
        "\n",
        "# Curve fitting to find B0, Rm, and lambda_\n",
        "popt, pcov = curve_fit(logistic_growth_model, t_data, B_data, bounds=(0, [230, 70, 7]))\n",
        "B0, Rm, lambda_ = popt\n",
        "\n",
        "# Generate predictions\n",
        "t_pred = np.linspace(0, 40, 220)\n",
        "B_pred = logistic_growth_model(t_pred, B0, Rm, lambda_)\n",
        "\n",
        "# Plot results\n",
        "plt.scatter(t_data, B_data, label='Observed Data')\n",
        "plt.plot(t_pred, B_pred, label=f'Logistic Growth Model (B0={B0:.2f}, Rm={Rm:.2f}, λ={lambda_:.2f})', color='green')\n",
        "plt.xlabel('HRT (D)')\n",
        "plt.ylabel('Biogas Yield of MCP (ml/ g oTS)')\n",
        "print (logistic_growth_model_equation())\n",
        "plt.legend()\n",
        "plt.show()\n"
      ]
    },
    {
      "cell_type": "code",
      "execution_count": null,
      "metadata": {
        "colab": {
          "base_uri": "https://localhost:8080/"
        },
        "id": "33AnPBDTj72B",
        "outputId": "c16db519-12c3-404f-b331-3a5798c682c8"
      },
      "outputs": [
        {
          "output_type": "stream",
          "name": "stdout",
          "text": [
            "R-squared: 0.9520392435259349\n",
            "RMSE: 12.518202095460518\n"
          ]
        }
      ],
      "source": [
        "# Statistical Evaluaton of the model\n",
        "# R-squared\n",
        "from sklearn.metrics import r2_score\n",
        "r_squared = r2_score(B_data, logistic_growth_model(t_data, B0, Rm, lambda_))\n",
        "print(f\"R-squared: {r_squared}\")\n",
        "# Root Mean Squared Error (RMSE)\n",
        "from sklearn.metrics import mean_squared_error\n",
        "rmse = np.sqrt(mean_squared_error(B_data,  logistic_growth_model(t_data, B0, Rm, lambda_)))\n",
        "print(f\"RMSE: {rmse}\")"
      ]
    },
    {
      "cell_type": "code",
      "execution_count": null,
      "metadata": {
        "colab": {
          "base_uri": "https://localhost:8080/"
        },
        "id": "ho5FHz-6ZVbj",
        "outputId": "c051b887-e85e-4f95-8cee-fa1294ddbc49"
      },
      "outputs": [
        {
          "output_type": "stream",
          "name": "stdout",
          "text": [
            "Drive already mounted at /content/drive; to attempt to forcibly remount, call drive.mount(\"/content/drive\", force_remount=True).\n",
            "Hydrolysed Materials\n",
            "    HRT (d)   YPCM (ml/g oTS)   HM (ml/g oTS)   NHMM (ml/g oTS)   \\\n",
            "0       0.00              0.00            0.00              0.00   \n",
            "1       1.00             11.35           25.36             12.21   \n",
            "2       2.08             96.45          184.58            168.56   \n",
            "3       3.09            197.16          249.39            251.62   \n",
            "4       4.02            266.67          312.79            315.84   \n",
            "5       4.93            307.80          370.56            362.60   \n",
            "6       6.84            363.83          466.37            438.68   \n",
            "7       8.07            381.56          508.64            457.53   \n",
            "8       9.05            392.91          519.91            467.30   \n",
            "9      10.74            410.64          532.59            480.56   \n",
            "10     11.09            412.77          534.71            482.65   \n",
            "11     13.86            434.75          549.50            491.73   \n",
            "12     15.04            441.13          553.73            496.61   \n",
            "13     16.00            447.52          556.55            501.50   \n",
            "14     17.10            453.19          560.77            505.69   \n",
            "15     18.00            458.16          563.59            508.48   \n",
            "16     20.88            467.38          565.70            516.16   \n",
            "17     24.04            475.89          561.48            521.04   \n",
            "18     28.00            480.85          556.55            525.93   \n",
            "19     30.04            483.69          554.43            528.02   \n",
            "\n",
            "    HPC (ml/g oTS)   \n",
            "0              0.00  \n",
            "1              7.43  \n",
            "2            134.43  \n",
            "3            235.76  \n",
            "4            302.64  \n",
            "5            356.68  \n",
            "6            422.21  \n",
            "7            439.10  \n",
            "8            448.55  \n",
            "9            462.74  \n",
            "10           464.09  \n",
            "11           481.65  \n",
            "12           485.03  \n",
            "13           489.08  \n",
            "14           492.46  \n",
            "15           495.16  \n",
            "16           502.60  \n",
            "17           508.00  \n",
            "18           506.65  \n",
            "19           505.30  \n"
          ]
        }
      ],
      "source": [
        "import pandas as pd\n",
        "from google.colab import drive\n",
        "drive.mount('/content/drive')\n",
        "file_path = '/content/drive/MyDrive/SummaryofBY/HMNHMMetal.csv'\n",
        "data = pd.read_csv(file_path)\n",
        "cleaned_data = data.dropna()\n",
        "print (\"Hydrolysed Materials\")\n",
        "print (data)"
      ]
    },
    {
      "cell_type": "code",
      "execution_count": null,
      "metadata": {
        "colab": {
          "base_uri": "https://localhost:8080/"
        },
        "id": "_fCD5h2n6yVQ",
        "outputId": "ea0e086a-a3de-4f9e-8bbd-80b5aaf759ac"
      },
      "outputs": [
        {
          "output_type": "stream",
          "name": "stdout",
          "text": [
            "Index([' HRT (d) ', ' YPCM (ml/g oTS) ', ' HM (ml/g oTS) ',\n",
            "       ' NHMM (ml/g oTS) ', ' HPC (ml/g oTS) '],\n",
            "      dtype='object')\n"
          ]
        }
      ],
      "source": [
        "print (data.columns)"
      ]
    },
    {
      "cell_type": "code",
      "execution_count": null,
      "metadata": {
        "colab": {
          "base_uri": "https://localhost:8080/",
          "height": 501
        },
        "id": "YC22ekDRDKx_",
        "outputId": "be46c3fa-0f01-4447-a224-9488c629b0df"
      },
      "outputs": [
        {
          "output_type": "display_data",
          "data": {
            "text/plain": [
              "<Figure size 640x480 with 1 Axes>"
            ],
            "image/png": "[encoded data removed]"
          },
          "metadata": {}
        },
        {
          "output_type": "stream",
          "name": "stdout",
          "text": [
            "B(t) = 497.63 * exp(-exp((70.00 * e / 497.63) * (0.25 - t) + 1))\n",
            "R-squared: 0.9807864471254755\n",
            "RMSE: 22.26647988818393\n"
          ]
        }
      ],
      "source": [
        "# Importing useful libraries\n",
        "from scipy.optimize import curve_fit\n",
        "# Function\n",
        "def gompertz_model(t, B0, Rm, lambda_):\n",
        "    return B0 * np.exp(-np.exp((Rm * np.e / B0) * (lambda_ - t) + 1))\n",
        "# Data Description\n",
        "# HRT as Independent Variable\n",
        "import pandas as pd\n",
        "import numpy as np\n",
        "from scipy.optimize import curve_fit\n",
        "import matplotlib.pyplot as plt\n",
        "t_data = data[' HRT (d) '].values\n",
        "B_data = data[' HPC (ml/g oTS) '].values\n",
        "# Applying the fit\n",
        "popt, pcov = curve_fit(gompertz_model, t_data, B_data, bounds=(0.25, [600, 70, 40]))\n",
        "B0, Rm, lambda_ = popt\n",
        "# Generate predictions\n",
        "t_pred = np.linspace(0, 40, 600)\n",
        "B_pred = gompertz_model(t_pred, B0, Rm, lambda_)\n",
        "# Plot results\n",
        "plt.scatter(t_data, B_data, label='Observed Data')\n",
        "plt.plot(t_pred, B_pred, label=f'Gompertz Model (B0={B0:.2f}, Rm={Rm:.2f}, λ={lambda_:.2f})', color='green')\n",
        "plt.xlabel('HRT (D)')\n",
        "plt.ylabel('Biogas Yield of HPC (ml/g oTS)')\n",
        "plt.legend()\n",
        "plt.show()\n",
        "def model_equation():\n",
        "    return f'B(t) = {B0:.2f} * exp(-exp(({Rm:.2f} * e / {B0:.2f}) * ({lambda_:.2f} - t) + 1))'\n",
        "print(model_equation())\n",
        "# Statistical Evaluaton of the model\n",
        "# R-squared\n",
        "from sklearn.metrics import r2_score\n",
        "r_squared = r2_score(B_data, gompertz_model(t_data, *popt))\n",
        "print(f\"R-squared: {r_squared}\")\n",
        "# Root Mean Squared Error (RMSE)\n",
        "from sklearn.metrics import mean_squared_error\n",
        "rmse = np.sqrt(mean_squared_error(B_data, gompertz_model(t_data, *popt)))\n",
        "print(f\"RMSE: {rmse}\")\n"
      ]
    },
    {
      "cell_type": "code",
      "execution_count": null,
      "metadata": {
        "id": "JVukPgBdJRCn"
      },
      "outputs": [],
      "source": [
        "# Fibrous materials"
      ]
    }
  ],
  "metadata": {
    "colab": {
      "provenance": [],
      "authorship_tag": "ABX9TyPf5ygsS6ELrhVCEN/dnvu7",
      "include_colab_link": true
    },
    "kernelspec": {
      "display_name": "Python 3",
      "name": "python3"
    },
    "language_info": {
      "name": "python"
    }
  },
  "nbformat": 4,
  "nbformat_minor": 0
}