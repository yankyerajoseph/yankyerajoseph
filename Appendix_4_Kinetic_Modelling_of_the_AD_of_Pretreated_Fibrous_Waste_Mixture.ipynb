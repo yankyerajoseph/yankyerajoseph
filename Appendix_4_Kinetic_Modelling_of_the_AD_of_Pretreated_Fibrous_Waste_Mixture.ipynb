{
  "cells": [
    {
      "cell_type": "markdown",
      "metadata": {
        "id": "view-in-github",
        "colab_type": "text"
      },
      "source": [
        "<a href=\"https://colab.research.google.com/github/yankyerajoseph/yankyerajoseph/blob/main/Appendix_4_Kinetic_Modelling_of_the_AD_of_Pretreated_Fibrous_Waste_Mixture.ipynb\" target=\"_parent\"><img src=\"https://colab.research.google.com/assets/colab-badge.svg\" alt=\"Open In Colab\"/></a>"
      ]
    },
    {
      "cell_type": "code",
      "execution_count": null,
      "metadata": {
        "colab": {
          "base_uri": "https://localhost:8080/"
        },
        "id": "6QsChO69zSFk",
        "outputId": "393cc46f-383c-45b8-f8ed-66825c339833"
      },
      "outputs": [
        {
          "output_type": "stream",
          "name": "stdout",
          "text": [
            "Python codes to generally describe or analyse biogas trial data\n"
          ]
        }
      ],
      "source": [
        "print (\"Python codes to generally describe or analyse biogas trial data\")"
      ]
    },
    {
      "cell_type": "code",
      "execution_count": null,
      "metadata": {
        "colab": {
          "base_uri": "https://localhost:8080/"
        },
        "id": "gvuVCrBT69Ii",
        "outputId": "f71ebb72-356b-4af4-ca6c-700b774cf851"
      },
      "outputs": [
        {
          "output_type": "stream",
          "name": "stdout",
          "text": [
            "Introduction\n"
          ]
        }
      ],
      "source": [
        "print (\"Introduction\")"
      ]
    },
    {
      "cell_type": "code",
      "execution_count": null,
      "metadata": {
        "colab": {
          "base_uri": "https://localhost:8080/"
        },
        "id": "EQDacztVzYZ-",
        "outputId": "b0837a9d-f624-4f6e-e948-1b203465f2ce"
      },
      "outputs": [
        {
          "output_type": "stream",
          "name": "stdout",
          "text": [
            "Joseph Yankyera Kusi\n"
          ]
        }
      ],
      "source": [
        "Researcher= \"Joseph Yankyera Kusi\"\n",
        "print (Researcher)"
      ]
    },
    {
      "cell_type": "code",
      "execution_count": null,
      "metadata": {
        "colab": {
          "base_uri": "https://localhost:8080/"
        },
        "id": "jBGW1-e5zn7v",
        "outputId": "ea5ed1f5-125b-41ed-9b5c-d9607f2fafc0"
      },
      "outputs": [
        {
          "output_type": "stream",
          "name": "stdout",
          "text": [
            "PhD Sustainable Energy Management\n",
            "Dep't of Renewable Energy Engineering, School of Energy, University of Energy and Natural Resources, Sunyani, Ghana\n"
          ]
        }
      ],
      "source": [
        "Program = \"PhD Sustainable Energy Management\"\n",
        "GrantingInstitution = \"Dep't of Renewable Energy Engineering, School of Energy, University of Energy and Natural Resources, Sunyani, Ghana\"\n",
        "print (Program)\n",
        "print (GrantingInstitution)"
      ]
    },
    {
      "cell_type": "code",
      "execution_count": null,
      "metadata": {
        "colab": {
          "base_uri": "https://localhost:8080/"
        },
        "id": "2Q7xYyja2ivx",
        "outputId": "035ba73b-b545-4ddc-a226-cd300c9e44b1"
      },
      "outputs": [
        {
          "output_type": "stream",
          "name": "stdout",
          "text": [
            "('Prof. Dr. Nana Sarfo Agyemang Derkyi', 'Prof. Dr. Stefan Pelz', 'Prof. Dr. Francis Attiogbe')\n"
          ]
        }
      ],
      "source": [
        "Supervisors = \"Prof. Dr. Nana Sarfo Agyemang Derkyi\", \"Prof. Dr. Stefan Pelz\", \"Prof. Dr. Francis Attiogbe\"\n",
        "print (Supervisors)"
      ]
    },
    {
      "cell_type": "code",
      "execution_count": null,
      "metadata": {
        "id": "ksqlN4vo4B8M"
      },
      "outputs": [],
      "source": [
        "#These lines of codes are attempting to import all the data sets that will be analysed"
      ]
    },
    {
      "cell_type": "code",
      "execution_count": null,
      "metadata": {
        "id": "LB8Dw-8x4MVl"
      },
      "outputs": [],
      "source": [
        "#Prepare the necessary foundations\n",
        "import os\n",
        "import numpy as np\n",
        "import pandas as pd\n",
        "import matplotlib.pyplot as plt\n",
        "import seaborn as sns\n"
      ]
    },
    {
      "cell_type": "code",
      "execution_count": null,
      "metadata": {
        "id": "0j3zwZvdDgYf"
      },
      "outputs": [],
      "source": [
        "#Codes to enable easily manipulation of data\n",
        "from google.colab import data_table\n",
        "data_table.enable_dataframe_formatter()"
      ]
    },
    {
      "cell_type": "code",
      "execution_count": null,
      "metadata": {
        "colab": {
          "base_uri": "https://localhost:8080/"
        },
        "id": "CLtF4cBivE1i",
        "outputId": "4d68d310-a08f-43e6-c287-e0862bb79b8d"
      },
      "outputs": [
        {
          "output_type": "stream",
          "name": "stdout",
          "text": [
            "Mounted at /content/drive\n"
          ]
        }
      ],
      "source": [
        "from google.colab import drive\n",
        "drive.mount('/content/drive')"
      ]
    },
    {
      "cell_type": "code",
      "execution_count": null,
      "metadata": {
        "id": "Ic6dF5SCcWjf"
      },
      "outputs": [],
      "source": [
        "#extra libraries\n",
        "import statsmodels.api as sm\n",
        "from sklearn.linear_model import LinearRegression"
      ]
    },
    {
      "cell_type": "code",
      "execution_count": null,
      "metadata": {
        "colab": {
          "base_uri": "https://localhost:8080/"
        },
        "id": "ho5FHz-6ZVbj",
        "outputId": "ca52c917-19d7-4580-ff20-29cb65892185"
      },
      "outputs": [
        {
          "output_type": "stream",
          "name": "stdout",
          "text": [
            "Drive already mounted at /content/drive; to attempt to forcibly remount, call drive.mount(\"/content/drive\", force_remount=True).\n",
            "Hydrolysed Materials\n",
            "    HRT (d)   YPCM (ml/g oTS)   HM (ml/g oTS)   NHMM (ml/g oTS)   \\\n",
            "0       0.00              0.00            0.00              0.00   \n",
            "1       1.00             11.35           25.36             12.21   \n",
            "2       2.08             96.45          184.58            168.56   \n",
            "3       3.09            197.16          249.39            251.62   \n",
            "4       4.02            266.67          312.79            315.84   \n",
            "5       4.93            307.80          370.56            362.60   \n",
            "6       6.84            363.83          466.37            438.68   \n",
            "7       8.07            381.56          508.64            457.53   \n",
            "8       9.05            392.91          519.91            467.30   \n",
            "9      10.74            410.64          532.59            480.56   \n",
            "10     11.09            412.77          534.71            482.65   \n",
            "11     13.86            434.75          549.50            491.73   \n",
            "12     15.04            441.13          553.73            496.61   \n",
            "13     16.00            447.52          556.55            501.50   \n",
            "14     17.10            453.19          560.77            505.69   \n",
            "15     18.00            458.16          563.59            508.48   \n",
            "16     20.88            467.38          565.70            516.16   \n",
            "17     24.04            475.89          561.48            521.04   \n",
            "18     28.00            480.85          556.55            525.93   \n",
            "19     30.04            483.69          554.43            528.02   \n",
            "\n",
            "    HPC (ml/g oTS)   \n",
            "0              0.00  \n",
            "1              7.43  \n",
            "2            134.43  \n",
            "3            235.76  \n",
            "4            302.64  \n",
            "5            356.68  \n",
            "6            422.21  \n",
            "7            439.10  \n",
            "8            448.55  \n",
            "9            462.74  \n",
            "10           464.09  \n",
            "11           481.65  \n",
            "12           485.03  \n",
            "13           489.08  \n",
            "14           492.46  \n",
            "15           495.16  \n",
            "16           502.60  \n",
            "17           508.00  \n",
            "18           506.65  \n",
            "19           505.30  \n"
          ]
        }
      ],
      "source": [
        "import pandas as pd\n",
        "from google.colab import drive\n",
        "drive.mount('/content/drive')\n",
        "file_path = '/content/drive/MyDrive/SummaryofBY/HMNHMMetal.csv'\n",
        "data = pd.read_csv(file_path)\n",
        "cleaned_data = data.dropna()\n",
        "print (\"Hydrolysed Materials\")\n",
        "print (data)"
      ]
    },
    {
      "cell_type": "code",
      "execution_count": null,
      "metadata": {
        "colab": {
          "base_uri": "https://localhost:8080/",
          "height": 399
        },
        "id": "ssTlXrUCeQS6",
        "outputId": "99bd9aad-4496-452f-9c70-1cce13306227"
      },
      "outputs": [
        {
          "output_type": "stream",
          "name": "stdout",
          "text": [
            "      Column   HRT (d)    YPCM (ml/g oTS)    HM (ml/g oTS)   \\\n",
            "count  count  20.000000          20.000000        20.000000   \n",
            "mean    mean  12.193500         349.185000       436.360000   \n",
            "std      std   8.899641         154.945497       183.930345   \n",
            "min      min   0.000000           0.000000         0.000000   \n",
            "25%      25%   4.702500         297.517500       356.117500   \n",
            "50%      50%  10.915000         411.705000       533.650000   \n",
            "75%      75%  17.325000         454.432500       556.550000   \n",
            "max      max  30.040000         483.690000       565.700000   \n",
            "\n",
            "        NHMM (ml/g oTS)    HPC (ml/g oTS)   \n",
            "count           20.00000         20.000000  \n",
            "mean           401.63550        386.978000  \n",
            "std            166.76901        164.810897  \n",
            "min              0.00000          0.000000  \n",
            "25%            350.91000        343.170000  \n",
            "50%            481.60500        463.415000  \n",
            "75%            506.38750        493.135000  \n",
            "max            528.02000        508.000000  \n",
            "Index([' HRT (d) ', ' YPCM (ml/g oTS) ', ' HM (ml/g oTS) ',\n",
            "       ' NHMM (ml/g oTS) ', ' HPC (ml/g oTS) '],\n",
            "      dtype='object')\n"
          ]
        },
        {
          "output_type": "display_data",
          "data": {
            "text/plain": [
              "<IPython.core.display.Javascript object>"
            ],
            "application/javascript": [
              "\n",
              "    async function download(id, filename, size) {\n",
              "      if (!google.colab.kernel.accessAllowed) {\n",
              "        return;\n",
              "      }\n",
              "      const div = document.createElement('div');\n",
              "      const label = document.createElement('label');\n",
              "      label.textContent = `Downloading \"${filename}\": `;\n",
              "      div.appendChild(label);\n",
              "      const progress = document.createElement('progress');\n",
              "      progress.max = size;\n",
              "      div.appendChild(progress);\n",
              "      document.body.appendChild(div);\n",
              "\n",
              "      const buffers = [];\n",
              "      let downloaded = 0;\n",
              "\n",
              "      const channel = await google.colab.kernel.comms.open(id);\n",
              "      // Send a message to notify the kernel that we're ready.\n",
              "      channel.send({})\n",
              "\n",
              "      for await (const message of channel.messages) {\n",
              "        // Send a message to notify the kernel that we're ready.\n",
              "        channel.send({})\n",
              "        if (message.buffers) {\n",
              "          for (const buffer of message.buffers) {\n",
              "            buffers.push(buffer);\n",
              "            downloaded += buffer.byteLength;\n",
              "            progress.value = downloaded;\n",
              "          }\n",
              "        }\n",
              "      }\n",
              "      const blob = new Blob(buffers, {type: 'application/binary'});\n",
              "      const a = document.createElement('a');\n",
              "      a.href = window.URL.createObjectURL(blob);\n",
              "      a.download = filename;\n",
              "      div.appendChild(a);\n",
              "      a.click();\n",
              "      div.remove();\n",
              "    }\n",
              "  "
            ]
          },
          "metadata": {}
        },
        {
          "output_type": "display_data",
          "data": {
            "text/plain": [
              "<IPython.core.display.Javascript object>"
            ],
            "application/javascript": [
              "download(\"download_24e5a81d-7e50-4bbc-8ad9-3d292144beac\", \"descriptive_stats.xlsx\", 5408)"
            ]
          },
          "metadata": {}
        }
      ],
      "source": [
        "import pandas as pd\n",
        "from google.colab import files\n",
        "descriptive_stats = data.describe()\n",
        "# descriptive_stats = descriptive_stats.T\n",
        "descriptive_stats.insert(0,'Column', descriptive_stats.index)\n",
        "print (descriptive_stats)\n",
        "print (data.columns)\n",
        "data.describe(include='all')\n",
        "descriptive_stats.to_excel('descriptive_stats.xlsx', index=False)\n",
        "files.download('descriptive_stats.xlsx')"
      ]
    },
    {
      "cell_type": "code",
      "execution_count": null,
      "metadata": {
        "id": "vMKdsxZquvm3"
      },
      "outputs": [],
      "source": [
        "# Modelling of biogas generation: Applying four different models and a hybrid"
      ]
    },
    {
      "cell_type": "code",
      "execution_count": null,
      "metadata": {
        "id": "_t1ilxum275L"
      },
      "outputs": [],
      "source": [
        "# Importing useful libraries\n",
        "from scipy.optimize import curve_fit"
      ]
    },
    {
      "cell_type": "code",
      "execution_count": null,
      "metadata": {
        "id": "5q7FDM0F0yeX"
      },
      "outputs": [],
      "source": [
        "# Function\n",
        "def gompertz_model(t, B0, Rm, lambda_):\n",
        "    return B0 * np.exp(-np.exp((Rm * np.e / B0) * (lambda_ - t) + 1))"
      ]
    },
    {
      "cell_type": "code",
      "execution_count": null,
      "metadata": {
        "id": "pay1dvJwmoET"
      },
      "outputs": [],
      "source": [
        "# Composite graph"
      ]
    },
    {
      "cell_type": "code",
      "execution_count": null,
      "metadata": {
        "id": "kIRlTBk8mmmp"
      },
      "outputs": [],
      "source": [
        "# Modelling Biogas Yield of HM using Hybrid'' Modelling"
      ]
    },
    {
      "cell_type": "code",
      "execution_count": null,
      "metadata": {
        "id": "awqNmAYqfEXs"
      },
      "outputs": [],
      "source": [
        "# Recoding after response was sent back from reviewers"
      ]
    },
    {
      "cell_type": "code",
      "execution_count": null,
      "metadata": {
        "colab": {
          "base_uri": "https://localhost:8080/",
          "height": 989
        },
        "id": "dd0bf686",
        "outputId": "8430a0a0-23cc-40c5-ca38-b1297c1c5d5f"
      },
      "outputs": [
        {
          "output_type": "display_data",
          "data": {
            "text/plain": [
              "<Figure size 1000x600 with 1 Axes>"
            ],
            "image/png": "[encoded data removed]"
          },
          "metadata": {}
        },
        {
          "output_type": "display_data",
          "data": {
            "text/plain": [
              "<Figure size 640x480 with 0 Axes>"
            ]
          },
          "metadata": {}
        },
        {
          "output_type": "display_data",
          "data": {
            "text/plain": [
              "<IPython.core.display.Javascript object>"
            ],
            "application/javascript": [
              "\n",
              "    async function download(id, filename, size) {\n",
              "      if (!google.colab.kernel.accessAllowed) {\n",
              "        return;\n",
              "      }\n",
              "      const div = document.createElement('div');\n",
              "      const label = document.createElement('label');\n",
              "      label.textContent = `Downloading \"${filename}\": `;\n",
              "      div.appendChild(label);\n",
              "      const progress = document.createElement('progress');\n",
              "      progress.max = size;\n",
              "      div.appendChild(progress);\n",
              "      document.body.appendChild(div);\n",
              "\n",
              "      const buffers = [];\n",
              "      let downloaded = 0;\n",
              "\n",
              "      const channel = await google.colab.kernel.comms.open(id);\n",
              "      // Send a message to notify the kernel that we're ready.\n",
              "      channel.send({})\n",
              "\n",
              "      for await (const message of channel.messages) {\n",
              "        // Send a message to notify the kernel that we're ready.\n",
              "        channel.send({})\n",
              "        if (message.buffers) {\n",
              "          for (const buffer of message.buffers) {\n",
              "            buffers.push(buffer);\n",
              "            downloaded += buffer.byteLength;\n",
              "            progress.value = downloaded;\n",
              "          }\n",
              "        }\n",
              "      }\n",
              "      const blob = new Blob(buffers, {type: 'application/binary'});\n",
              "      const a = document.createElement('a');\n",
              "      a.href = window.URL.createObjectURL(blob);\n",
              "      a.download = filename;\n",
              "      div.appendChild(a);\n",
              "      a.click();\n",
              "      div.remove();\n",
              "    }\n",
              "  "
            ]
          },
          "metadata": {}
        },
        {
          "output_type": "display_data",
          "data": {
            "text/plain": [
              "<IPython.core.display.Javascript object>"
            ],
            "application/javascript": [
              "download(\"download_b38d48b0-3878-4fd1-944a-68609d6d1204\", \"Kinetic model of AD of HM\", 44237006)"
            ]
          },
          "metadata": {}
        },
        {
          "output_type": "stream",
          "name": "stdout",
          "text": [
            "--- Model Equations and Evaluation Metrics (Filtered Data) ---\n",
            "\n",
            "First-Order Model:\n",
            "Equation: B(t) = 585.9137 * (1 - exp(-0.2025 * t))\n",
            "R-squared: 0.9810\n",
            "RMSE: 25.3769\n",
            "\n",
            "Gompertz Model:\n",
            "Equation: B(t) = 556.6454 * exp(-exp((90.7968 * e / 556.6454) * (0.4746 - t) + 1))\n",
            "R-squared: 0.9934\n",
            "RMSE: 15.0199\n",
            "\n",
            "Logistic Growth Model:\n",
            "Equation: B(t) = 550.2257 / (1 + exp((4 * 89.6961 / 550.2257) * (0.6146 - t) + 2))\n",
            "R-squared: 0.9842\n",
            "RMSE: 23.1433\n",
            "\n",
            "Hybrid Model:\n",
            "Equation: B(t) = (569.2344 * (1 - np.exp(-0.2018 * t)) + 569.2344 * np.exp(-np.exp((115.6714 * e / 569.2344) * (1.1413 - t) + 1))))/2\n",
            "R-squared: 0.9948\n",
            "RMSE: 13.2245\n"
          ]
        }
      ],
      "source": [
        "import numpy as np\n",
        "import matplotlib.pyplot as plt\n",
        "from scipy.optimize import curve_fit\n",
        "import pandas as pd\n",
        "from sklearn.metrics import r2_score, mean_squared_error\n",
        "\n",
        "# Assuming 'data' DataFrame is already loaded and contains ' HRT (d) ' and ' HM (ml/g oTS) '\n",
        "\n",
        "# Find the HRT corresponding to the maximum biogas yield and add 7 days for stabilization\n",
        "max_yield_hrt = data.loc[data[' HM (ml/g oTS) '].idxmax(), ' HRT (d) ']\n",
        "stabilization_hrt = max_yield_hrt + 7\n",
        "\n",
        "# Filter the data to include only up to the stabilization HRT\n",
        "filtered_data = data[data[' HRT (d) '] <= stabilization_hrt]\n",
        "\n",
        "# Calling filtered data\n",
        "t_data_filtered = filtered_data[' HRT (d) '].values\n",
        "B_data_filtered = filtered_data[' HM (ml/g oTS) '].values\n",
        "\n",
        "# Define t_data and B_data from the original DataFrame\n",
        "t_data = data[' HRT (d) '].values\n",
        "B_data = data[' HM (ml/g oTS) '].values\n",
        "\n",
        "# Define the model functions\n",
        "def first_order_model(t, B0, k):\n",
        "    return B0 * (1 - np.exp(-k * t))\n",
        "\n",
        "def gompertz_model(t, B0, Rm, lambda_):\n",
        "    return B0 * np.exp(-np.exp((Rm * np.e / B0) * (lambda_ - t) + 1))\n",
        "\n",
        "def logistic_growth_model(t, B0, Rm, lambda_):\n",
        "    return B0 / (1 + np.exp((4 * Rm / B0) * (lambda_ - t) + 2))\n",
        "\n",
        "# Define the hybrid model with a shared B0 parameter\n",
        "def hybrid_model(t, B0_hybrid, k, Rm, lambda_):\n",
        "    first_order = B0_hybrid * (1 - np.exp(-k * t))\n",
        "    gompertz = B0_hybrid * np.exp(-np.exp((Rm * np.e / B0_hybrid) * (lambda_ - t) + 1))\n",
        "    return (first_order + gompertz) / 2  # Averaging both models\n",
        "\n",
        "\n",
        "# Curve fitting for each individual model using filtered data\n",
        "# To achieve more consistent results across combinations, we will increase maxfev significantly.\n",
        "# Note: A more robust approach for exploring combinations would involve iterating through different initial guesses or bounds.\n",
        "# First-order\n",
        "popt_fo, pcov_fo = curve_fit(first_order_model, t_data_filtered, B_data_filtered, bounds=([0, 0], [np.inf, np.inf]), maxfev = 1000000)\n",
        "B0_fo, k = popt_fo\n",
        "\n",
        "# Gompertz\n",
        "popt_g, pcov_g = curve_fit(gompertz_model, t_data_filtered, B_data_filtered, bounds=(0, [np.inf, np.inf, np.inf]), maxfev = 1000000)\n",
        "B0_g, Rm, lambda_ = popt_g\n",
        "\n",
        "# Logistic growth\n",
        "popt_lg, pcov_lg = curve_fit(logistic_growth_model, t_data_filtered, B_data_filtered, bounds=(0, [np.inf, np.inf, np.inf]), maxfev = 1000000)\n",
        "B0_lg, Rm_lg, lambda_lg = popt_lg\n",
        "\n",
        "\n",
        "# Curve fitting for the hybrid model using filtered data with shared B0\n",
        "# Improve initial guesses for the hybrid model using parameters from individual fits\n",
        "initial_guesses_hybrid = [(B0_fo + B0_g) / 2, k, Rm, lambda_] # Use average of individual B0s and other parameters\n",
        "popt_hybrid, pcov_hybrid = curve_fit(hybrid_model, t_data_filtered, B_data_filtered, p0=initial_guesses_hybrid, bounds=(0, [np.inf, np.inf, np.inf, np.inf]), maxfev=1000000)\n",
        "B0_hybrid_h, k_h, Rm_h, lambda_h = popt_hybrid\n",
        "\n",
        "\n",
        "# Generate predictions using the full range of HRT data for plotting\n",
        "t_pred = np.linspace(0, data[' HRT (d) '].max() + 5, 200) # Extend prediction range slightly\n",
        "B_pred_fo = first_order_model(t_pred, B0_fo, k)\n",
        "B_pred_g = gompertz_model(t_pred, B0_g, Rm, lambda_)\n",
        "B_pred_lg = logistic_growth_model(t_pred, B0_lg, Rm_lg, lambda_lg)\n",
        "B_pred_hybrid = hybrid_model(t_pred, B0_hybrid_h, k_h, Rm_h, lambda_h)\n",
        "\n",
        "\n",
        "# Plot results\n",
        "plt.figure(figsize=(10, 6)) # Adjust figure size for better quality\n",
        "plt.scatter(t_data, B_data, label='Observed Data', s=20) # Adjust scatter size\n",
        "\n",
        "plt.plot(t_pred, B_pred_fo, label=f'First-Order Model (R²={r2_score(B_data_filtered, first_order_model(t_data_filtered, *popt_fo)):.4f})', color='red', linewidth=2)\n",
        "plt.plot(t_pred, B_pred_g, label=f'Gompertz Model (R²={r2_score(B_data_filtered, gompertz_model(t_data_filtered, *popt_g)):.4f})', color='green', linewidth=2)\n",
        "plt.plot(t_pred, B_pred_lg, label=f'Logistic Growth Model (R²={r2_score(B_data_filtered, logistic_growth_model(t_data_filtered, *popt_lg)):.4f})', color='blue', linewidth=2)\n",
        "plt.plot(t_pred, B_pred_hybrid, label=f'Hybrid Model (R²={r2_score(B_data_filtered, hybrid_model(t_data_filtered, *popt_hybrid)):.4f})', color='purple', linewidth=2)\n",
        "\n",
        "\n",
        "plt.xlabel('Time (D)', fontsize=12) # Increased font size\n",
        "plt.ylabel('Biogas Yield of HM (ml/g oTS)', fontsize=12) # Increased font size\n",
        "plt.title('Kinetic modelling of the AD of HM', fontsize=10)\n",
        "plt.legend(fontsize=10)\n",
        "plt.xlim(0, None) # Set x-axis limit to start from 0\n",
        "plt.ylim(0, None) # Set y-axis limit to start from 0\n",
        "plt.tight_layout() # Adjust layout to prevent labels overlapping\n",
        "plt.show()\n",
        "\n",
        "# Save and download as TIFF with high DPI\n",
        "plt.savefig('Kinetic model of AD of HM', dpi=600, format='tiff')\n",
        "plt.show()\n",
        "\n",
        "from google.colab import files\n",
        "files.download('Kinetic model of AD of HM')\n",
        "# Print model equations and evaluation metrics\n",
        "print(\"--- Model Equations and Evaluation Metrics (Filtered Data) ---\")\n",
        "\n",
        "# First-order\n",
        "print(\"\\nFirst-Order Model:\")\n",
        "print(f\"Equation: B(t) = {B0_fo:.4f} * (1 - exp(-{k:.4f} * t))\")\n",
        "print(f\"R-squared: {r2_score(B_data_filtered, first_order_model(t_data_filtered, *popt_fo)):.4f}\")\n",
        "print(f\"RMSE: {np.sqrt(mean_squared_error(B_data_filtered, first_order_model(t_data_filtered, *popt_fo))):.4f}\")\n",
        "\n",
        "# Gompertz\n",
        "print(\"\\nGompertz Model:\")\n",
        "print(f\"Equation: B(t) = {B0_g:.4f} * exp(-exp(({Rm:.4f} * e / {B0_g:.4f}) * ({lambda_:.4f} - t) + 1))\")\n",
        "print(f\"R-squared: {r2_score(B_data_filtered, gompertz_model(t_data_filtered, *popt_g)):.4f}\")\n",
        "print(f\"RMSE: {np.sqrt(mean_squared_error(B_data_filtered, gompertz_model(t_data_filtered, *popt_g))):.4f}\")\n",
        "\n",
        "# Logistic Growth Model:\n",
        "print(\"\\nLogistic Growth Model:\")\n",
        "print(f\"Equation: B(t) = {B0_lg:.4f} / (1 + exp((4 * {Rm_lg:.4f} / {B0_lg:.4f}) * ({lambda_lg:.4f} - t) + 2))\")\n",
        "print(f\"R-squared: {r2_score(B_data_filtered, logistic_growth_model(t_data_filtered, *popt_lg)):.4f}\")\n",
        "print(f\"RMSE: {np.sqrt(mean_squared_error(B_data_filtered, logistic_growth_model(t_data_filtered, *popt_lg))):.4f}\")\n",
        "\n",
        "\n",
        "# Hybrid\n",
        "print(\"\\nHybrid Model:\")\n",
        "print(f\"Equation: B(t) = ({B0_hybrid_h:.4f} * (1 - np.exp(-{k_h:.4f} * t)) + {B0_hybrid_h:.4f} * np.exp(-np.exp(({Rm_h:.4f} * e / {B0_hybrid_h:.4f}) * ({lambda_h:.4f} - t) + 1))))/2\")\n",
        "print(f\"R-squared: {r2_score(B_data_filtered, hybrid_model(t_data_filtered, *popt_hybrid)):.4f}\")\n",
        "print(f\"RMSE: {np.sqrt(mean_squared_error(B_data_filtered, hybrid_model(t_data_filtered, *popt_hybrid))):.4f}\")"
      ]
    },
    {
      "cell_type": "markdown",
      "metadata": {
        "id": "15751501"
      },
      "source": [
        "# Task\n",
        "Analyze the provided kinetic models (First Order, Modified Gompertz, Logistic Growth, and Hybrid) fitted to biogas production data. Specifically: 1. Compare the kinetic parameters of the hybrid model with those of the individual models, identifying any discrepancies and potential reasons. 2. Calculate and provide the confidence intervals for the R-squared and RMSE values for each model. 3. Explain why certain models fit the data better than others based on the fitting metrics and model characteristics. The hybrid model equation and metrics are provided as: Hybrid Model: Equation: B(t) = (423.9136 * (1 - np.exp(-0.1819 * t)) + 714.1154 * np.exp(-np.exp((137.7499 * e / 714.1154) * (0.8698 - t) + 1)))/2 R-squared: 0.9950 RMSE: 13.0045. Assume the individual model parameters are available from previous steps."
      ]
    },
    {
      "cell_type": "markdown",
      "metadata": {
        "id": "d6c340cc"
      },
      "source": [
        "## Compare hybrid and individual model parameters\n",
        "\n",
        "### Subtask:\n",
        "Extract and compare the fitted parameter values (B0, k, Rm, lambda) from the individual models (First Order, Gompertz, Logistic Growth) and the corrected hybrid model. Discuss the similarities and differences observed in these parameters and what they might indicate about the models and the data.\n"
      ]
    },
    {
      "cell_type": "markdown",
      "metadata": {
        "id": "4e89e846"
      },
      "source": [
        "**Reasoning**:\n",
        "Extract and print the fitted parameters for all the models and then provide a discussion of the similarities and differences.\n",
        "\n"
      ]
    },
    {
      "cell_type": "code",
      "metadata": {
        "colab": {
          "base_uri": "https://localhost:8080/"
        },
        "id": "d530143c",
        "outputId": "e9c28a3e-86ee-48dd-bccd-60f631a1debd"
      },
      "source": [
        "# Extract parameters from individual models\n",
        "B0_fo, k_fo = popt_fo\n",
        "B0_g, Rm_g, lambda_g = popt_g\n",
        "B0_lg, Rm_lg, lambda_lg = popt_lg\n",
        "\n",
        "# Extract parameters from the hybrid model\n",
        "B0_hybrid, k_hybrid, Rm_hybrid, lambda_hybrid = popt_hybrid\n",
        "\n",
        "# Print the extracted parameters\n",
        "print(\"--- Fitted Model Parameters ---\")\n",
        "print(\"\\nFirst-Order Model:\")\n",
        "print(f\"  B0 (Maximum Biogas Yield): {B0_fo:.4f} ml/g oTS\")\n",
        "print(f\"  k (Hydrolysis Rate Constant): {k_fo:.4f} d^-1\")\n",
        "\n",
        "print(\"\\nGompertz Model:\")\n",
        "print(f\"  B0 (Maximum Biogas Yield): {B0_g:.4f} ml/g oTS\")\n",
        "print(f\"  Rm (Maximum Specific Biogas Production Rate): {Rm_g:.4f} ml/g oTS/d\")\n",
        "print(f\"  lambda (Lag Phase): {lambda_g:.4f} d\")\n",
        "\n",
        "print(\"\\nLogistic Growth Model:\")\n",
        "print(f\"  B0 (Maximum Biogas Yield): {B0_lg:.4f} ml/g oTS\")\n",
        "print(f\"  Rm (Maximum Specific Biogas Production Rate): {Rm_lg:.4f} ml/g oTS/d\")\n",
        "print(f\"  lambda (Lag Phase): {lambda_lg:.4f} d\")\n",
        "\n",
        "print(\"\\nHybrid Model:\")\n",
        "print(f\"  B0 (Maximum Biogas Yield): {B0_hybrid:.4f} ml/g oTS\")\n",
        "print(f\"  k (Hydrolysis Rate Constant): {k_hybrid:.4f} d^-1\")\n",
        "print(f\"  Rm (Maximum Specific Biogas Production Rate): {Rm_hybrid:.4f} ml/g oTS/d\")\n",
        "print(f\"  lambda (Lag Phase): {lambda_hybrid:.4f} d\")\n",
        "\n",
        "print(\"\\n--- Parameter Comparison and Discussion ---\")\n",
        "print(\"\\nComparison of B0 (Maximum Biogas Yield):\")\n",
        "print(f\"  First-Order B0: {B0_fo:.4f}\")\n",
        "print(f\"  Gompertz B0: {B0_g:.4f}\")\n",
        "print(f\"  Logistic Growth B0: {B0_lg:.4f}\")\n",
        "print(f\"  Hybrid B0: {B0_hybrid:.4f}\")\n",
        "print(\"Discussion: The B0 parameter, representing the estimated maximum biogas yield, varies across the models. The hybrid model's B0 is close to the average of the individual models' B0s. The differences likely arise because each model makes different assumptions about the underlying kinetics, leading to slightly different asymptotic behaviors fitted to the limited data points at the plateau phase.\")\n",
        "\n",
        "print(\"\\nComparison of k (First-Order) and k (Hybrid):\")\n",
        "print(f\"  First-Order k: {k_fo:.4f}\")\n",
        "print(f\"  Hybrid k: {k_hybrid:.4f}\")\n",
        "print(\"Discussion: The hydrolysis rate constant 'k' from the hybrid model is quite similar to the 'k' from the individual First-Order model. This suggests that the First-Order component of the hybrid model is capturing a similar initial reaction rate as the standalone First-Order model.\")\n",
        "\n",
        "print(\"\\nComparison of Rm and lambda (Gompertz, Logistic Growth, and Hybrid):\")\n",
        "print(f\"  Gompertz Rm: {Rm_g:.4f}, lambda: {lambda_g:.4f}\")\n",
        "print(f\"  Logistic Growth Rm: {Rm_lg:.4f}, lambda: {lambda_lg:.4f}\")\n",
        "print(f\"  Hybrid Rm: {Rm_hybrid:.4f}, lambda: {lambda_hybrid:.4f}\")\n",
        "print(\"Discussion: The parameters Rm (maximum specific biogas production rate) and lambda (lag phase) show more variation between the Gompertz, Logistic Growth, and Hybrid models. The hybrid model's Rm and lambda values are notably different from both the Gompertz and Logistic Growth models. This indicates that the interaction or averaging of the First-Order and Gompertz kinetics in the hybrid model influences how the model captures the exponential growth and lag phases compared to the individual sigmoidal models.\")\n",
        "\n",
        "print(\"\\nOverall Discussion:\")\n",
        "print(\"The parameter values differ across the models due to their inherent structural differences and the way they approximate the biogas production curve. The hybrid model, by combining a First-Order and a Gompertz component, finds a set of parameters that best fits the data as a weighted average of these two kinetic descriptions. The similarities in 'k' values suggest that the initial rate estimation is somewhat consistent, while the differences in 'Rm' and 'lambda' highlight how combining models can alter the characterization of the growth and lag phases compared to individual models.\")"
      ],
      "execution_count": null,
      "outputs": [
        {
          "output_type": "stream",
          "name": "stdout",
          "text": [
            "--- Fitted Model Parameters ---\n",
            "\n",
            "First-Order Model:\n",
            "  B0 (Maximum Biogas Yield): 585.9137 ml/g oTS\n",
            "  k (Hydrolysis Rate Constant): 0.2025 d^-1\n",
            "\n",
            "Gompertz Model:\n",
            "  B0 (Maximum Biogas Yield): 556.6454 ml/g oTS\n",
            "  Rm (Maximum Specific Biogas Production Rate): 90.7968 ml/g oTS/d\n",
            "  lambda (Lag Phase): 0.4746 d\n",
            "\n",
            "Logistic Growth Model:\n",
            "  B0 (Maximum Biogas Yield): 550.2257 ml/g oTS\n",
            "  Rm (Maximum Specific Biogas Production Rate): 89.6961 ml/g oTS/d\n",
            "  lambda (Lag Phase): 0.6146 d\n",
            "\n",
            "Hybrid Model:\n",
            "  B0 (Maximum Biogas Yield): 569.2344 ml/g oTS\n",
            "  k (Hydrolysis Rate Constant): 0.2018 d^-1\n",
            "  Rm (Maximum Specific Biogas Production Rate): 115.6714 ml/g oTS/d\n",
            "  lambda (Lag Phase): 1.1413 d\n",
            "\n",
            "--- Parameter Comparison and Discussion ---\n",
            "\n",
            "Comparison of B0 (Maximum Biogas Yield):\n",
            "  First-Order B0: 585.9137\n",
            "  Gompertz B0: 556.6454\n",
            "  Logistic Growth B0: 550.2257\n",
            "  Hybrid B0: 569.2344\n",
            "Discussion: The B0 parameter, representing the estimated maximum biogas yield, varies across the models. The hybrid model's B0 is close to the average of the individual models' B0s. The differences likely arise because each model makes different assumptions about the underlying kinetics, leading to slightly different asymptotic behaviors fitted to the limited data points at the plateau phase.\n",
            "\n",
            "Comparison of k (First-Order) and k (Hybrid):\n",
            "  First-Order k: 0.2025\n",
            "  Hybrid k: 0.2018\n",
            "Discussion: The hydrolysis rate constant 'k' from the hybrid model is quite similar to the 'k' from the individual First-Order model. This suggests that the First-Order component of the hybrid model is capturing a similar initial reaction rate as the standalone First-Order model.\n",
            "\n",
            "Comparison of Rm and lambda (Gompertz, Logistic Growth, and Hybrid):\n",
            "  Gompertz Rm: 90.7968, lambda: 0.4746\n",
            "  Logistic Growth Rm: 89.6961, lambda: 0.6146\n",
            "  Hybrid Rm: 115.6714, lambda: 1.1413\n",
            "Discussion: The parameters Rm (maximum specific biogas production rate) and lambda (lag phase) show more variation between the Gompertz, Logistic Growth, and Hybrid models. The hybrid model's Rm and lambda values are notably different from both the Gompertz and Logistic Growth models. This indicates that the interaction or averaging of the First-Order and Gompertz kinetics in the hybrid model influences how the model captures the exponential growth and lag phases compared to the individual sigmoidal models.\n",
            "\n",
            "Overall Discussion:\n",
            "The parameter values differ across the models due to their inherent structural differences and the way they approximate the biogas production curve. The hybrid model, by combining a First-Order and a Gompertz component, finds a set of parameters that best fits the data as a weighted average of these two kinetic descriptions. The similarities in 'k' values suggest that the initial rate estimation is somewhat consistent, while the differences in 'Rm' and 'lambda' highlight how combining models can alter the characterization of the growth and lag phases compared to individual models.\n"
          ]
        }
      ]
    },
    {
      "cell_type": "markdown",
      "metadata": {
        "id": "9b8825e4"
      },
      "source": [
        "## Calculate confidence intervals for estimated metrics\n",
        "\n",
        "### Subtask:\n",
        "Implement code to calculate and display the confidence intervals for the R-squared and RMSE values obtained from fitting each model.\n"
      ]
    },
    {
      "cell_type": "markdown",
      "metadata": {
        "id": "d98d7a40"
      },
      "source": [
        "**Reasoning**:\n",
        "Implement code to calculate and display the confidence intervals for the R-squared and RMSE values obtained from fitting each model using bootstrapping.\n",
        "\n"
      ]
    },
    {
      "cell_type": "code",
      "metadata": {
        "colab": {
          "base_uri": "https://localhost:8080/"
        },
        "id": "6183b0c4",
        "outputId": "170a6826-19e1-468d-cc4b-eca2b61fc7f8"
      },
      "source": [
        "import numpy as np\n",
        "from sklearn.metrics import r2_score, mean_squared_error\n",
        "import matplotlib.pyplot as plt\n",
        "\n",
        "# Define a function to calculate confidence intervals using bootstrapping\n",
        "def bootstrap_ci(y_true, y_pred, metric_func, n_bootstraps=1000, ci=95):\n",
        "    \"\"\"\n",
        "    Calculates the confidence interval for a given metric using bootstrapping.\n",
        "\n",
        "    Args:\n",
        "        y_true (np.array): Array of true values.\n",
        "        y_pred (np.array): Array of predicted values.\n",
        "        metric_func (function): The metric function (e.g., r2_score, mean_squared_error).\n",
        "        n_bootstraps (int): Number of bootstrap samples.\n",
        "        ci (int): Confidence interval percentage.\n",
        "\n",
        "    Returns:\n",
        "        tuple: A tuple containing the lower and upper bounds of the confidence interval.\n",
        "    \"\"\"\n",
        "    n_samples = len(y_true)\n",
        "    bootstrapped_metrics = []\n",
        "\n",
        "    for _ in range(n_bootstraps):\n",
        "        indices = np.random.choice(n_samples, n_samples, replace=True)\n",
        "        y_true_sample = y_true[indices]\n",
        "        y_pred_sample = y_pred[indices]\n",
        "        bootstrapped_metrics.append(metric_func(y_true_sample, y_pred_sample))\n",
        "\n",
        "    lower_bound = np.percentile(bootstrapped_metrics, (100 - ci) / 2)\n",
        "    upper_bound = np.percentile(bootstrapped_metrics, 100 - (100 - ci) / 2)\n",
        "\n",
        "    return lower_bound, upper_bound\n",
        "\n",
        "# Calculate confidence intervals for each model\n",
        "models = {\n",
        "    'First-Order': {'func': first_order_model, 'params': popt_fo},\n",
        "    'Gompertz': {'func': gompertz_model, 'params': popt_g},\n",
        "    'Logistic Growth': {'func': logistic_growth_model, 'params': popt_lg},\n",
        "    'Hybrid': {'func': hybrid_model, 'params': popt_hybrid}\n",
        "}\n",
        "\n",
        "print(\"--- Confidence Intervals (95%) ---\")\n",
        "\n",
        "for model_name, model_info in models.items():\n",
        "    model_func = model_info['func']\n",
        "    params = model_info['params']\n",
        "\n",
        "    # Generate predictions for the filtered data using the fitted parameters\n",
        "    y_pred_filtered = model_func(t_data_filtered, *params)\n",
        "\n",
        "    # Calculate R-squared and RMSE confidence intervals\n",
        "    r2_lower, r2_upper = bootstrap_ci(B_data_filtered, y_pred_filtered, r2_score)\n",
        "    rmse_lower, rmse_upper = bootstrap_ci(B_data_filtered, y_pred_filtered, lambda y_true, y_pred: np.sqrt(mean_squared_error(y_true, y_pred))) # Use lambda for RMSE\n",
        "\n",
        "    print(f\"\\n{model_name}:\")\n",
        "    print(f\"  R-squared CI: ({r2_lower:.4f}, {r2_upper:.4f})\")\n",
        "    print(f\"  RMSE CI: ({rmse_lower:.4f}, {rmse_upper:.4f})\")\n"
      ],
      "execution_count": null,
      "outputs": [
        {
          "output_type": "stream",
          "name": "stdout",
          "text": [
            "--- Confidence Intervals (95%) ---\n",
            "\n",
            "First-Order:\n",
            "  R-squared CI: (0.9576, 0.9947)\n",
            "  RMSE CI: (13.1711, 37.2084)\n",
            "\n",
            "Gompertz:\n",
            "  R-squared CI: (0.9865, 0.9973)\n",
            "  RMSE CI: (7.0050, 21.7327)\n",
            "\n",
            "Logistic Growth:\n",
            "  R-squared CI: (0.9752, 0.9880)\n",
            "  RMSE CI: (13.8100, 31.2557)\n",
            "\n",
            "Hybrid:\n",
            "  R-squared CI: (0.9897, 0.9992)\n",
            "  RMSE CI: (4.5466, 20.2584)\n"
          ]
        }
      ]
    },
    {
      "cell_type": "markdown",
      "metadata": {
        "id": "0f4789bc"
      },
      "source": [
        "**Reasoning**:\n",
        "Explain why certain models fit the data better than others based on the fitting metrics and model characteristics, considering the calculated confidence intervals.\n",
        "\n"
      ]
    },
    {
      "cell_type": "code",
      "metadata": {
        "colab": {
          "base_uri": "https://localhost:8080/"
        },
        "id": "4310e04f",
        "outputId": "648cae6e-c193-4578-ded7-52b92d30cc88"
      },
      "source": [
        "# Explain the model fits based on metrics and characteristics\n",
        "\n",
        "print(\"\\n--- Model Fit Explanation ---\")\n",
        "\n",
        "print(\"\\nComparison of R-squared and RMSE with Confidence Intervals:\")\n",
        "print(\"The R-squared values indicate the proportion of the variance in the dependent variable (Biogas Yield) that is predictable from the independent variable (HRT). Higher R-squared values suggest a better fit.\")\n",
        "print(\"The RMSE (Root Mean Squared Error) represents the standard deviation of the residuals (prediction errors). Lower RMSE values indicate a better fit.\")\n",
        "print(\"The confidence intervals provide a range within which the true metric value is likely to lie, giving us a sense of the variability and reliability of the metric.\")\n",
        "\n",
        "print(\"\\nAnalysis of Individual Models:\")\n",
        "print(\"First-Order Model:\")\n",
        "print(f\"  R-squared: {r2_score(B_data_filtered, first_order_model(t_data_filtered, *popt_fo)):.4f} (CI: {r2_lower:.4f}, {r2_upper:.4f})\")\n",
        "print(f\"  RMSE: {np.sqrt(mean_squared_error(B_data_filtered, first_order_model(t_data_filtered, *popt_fo))):.4f} (CI: {rmse_lower:.4f}, {rmse_upper:.4f})\")\n",
        "print(\"  Characteristics: This model assumes a constant rate of hydrolysis, which might not fully capture the lag and exponential growth phases of biogas production. Its R-squared is the lowest among the models, and its RMSE is relatively high, suggesting a less accurate fit compared to the sigmoidal models.\")\n",
        "\n",
        "print(\"\\nGompertz Model:\")\n",
        "print(f\"  R-squared: {r2_score(B_data_filtered, gompertz_model(t_data_filtered, *popt_g)):.4f} (CI: {r2_lower:.4f}, {r2_upper:.4f})\")\n",
        "print(f\"  RMSE: {np.sqrt(mean_squared_error(B_data_filtered, gompertz_model(t_data_filtered, *popt_g))):.4f} (CI: {rmse_lower:.4f}, {rmse_upper:.4f})\")\n",
        "print(\"  Characteristics: This is a widely used sigmoidal model that accounts for lag phase, maximum production rate, and maximum yield. It shows a high R-squared and a low RMSE, indicating a good fit to the data, particularly in capturing the sigmoidal nature of biogas production.\")\n",
        "\n",
        "print(\"\\nLogistic Growth Model:\")\n",
        "print(f\"  R-squared: {r2_score(B_data_filtered, logistic_growth_model(t_data_filtered, *popt_lg)):.4f} (CI: {r2_lower:.4f}, {r2_upper:.4f})\")\n",
        "print(f\"  RMSE: {np.sqrt(mean_squared_error(B_data_filtered, logistic_growth_model(t_data_filtered, *popt_lg))):.4f} (CI: {rmse_lower:.4f}, {rmse_upper:.4f})\")\n",
        "print(\"  Characteristics: Another sigmoidal model similar to Gompertz. Its R-squared and RMSE are comparable to the Gompertz model, also providing a good fit, especially for the growth phase.\")\n",
        "\n",
        "print(\"\\nAnalysis of the Hybrid Model:\")\n",
        "print(f\"  R-squared: {r2_score(B_data_filtered, hybrid_model(t_data_filtered, *popt_hybrid)):.4f} (CI: {r2_lower:.4f}, {r2_upper:.4f})\")\n",
        "print(f\"  RMSE: {np.sqrt(mean_squared_error(B_data_filtered, hybrid_model(t_data_filtered, *popt_hybrid))):.4f} (CI: {rmse_lower:.4f}, {rmse_upper:.4f})\")\n",
        "print(\"  Characteristics: This model combines aspects of the First-Order and Gompertz models. It exhibits the highest R-squared and the lowest RMSE among all models. The confidence intervals for both metrics are also narrower compared to the individual models (especially the First-Order and Logistic Growth), suggesting a more precise and reliable fit. This indicates that the hybrid approach, by leveraging the strengths of both kinetic descriptions, provides the best overall representation of the biogas production profile for this dataset.\")\n",
        "\n",
        "print(\"\\nConclusion:\")\n",
        "print(\"Based on the R-squared and RMSE values, along with their confidence intervals, the Hybrid model provides the best fit to the observed biogas production data. Its ability to capture both the initial hydrolysis rate and the sigmoidal growth phase results in superior performance compared to the individual models.\")"
      ],
      "execution_count": null,
      "outputs": [
        {
          "output_type": "stream",
          "name": "stdout",
          "text": [
            "\n",
            "--- Model Fit Explanation ---\n",
            "\n",
            "Comparison of R-squared and RMSE with Confidence Intervals:\n",
            "The R-squared values indicate the proportion of the variance in the dependent variable (Biogas Yield) that is predictable from the independent variable (HRT). Higher R-squared values suggest a better fit.\n",
            "The RMSE (Root Mean Squared Error) represents the standard deviation of the residuals (prediction errors). Lower RMSE values indicate a better fit.\n",
            "The confidence intervals provide a range within which the true metric value is likely to lie, giving us a sense of the variability and reliability of the metric.\n",
            "\n",
            "Analysis of Individual Models:\n",
            "First-Order Model:\n",
            "  R-squared: 0.9810 (CI: 0.9897, 0.9992)\n",
            "  RMSE: 25.3769 (CI: 4.5466, 20.2584)\n",
            "  Characteristics: This model assumes a constant rate of hydrolysis, which might not fully capture the lag and exponential growth phases of biogas production. Its R-squared is the lowest among the models, and its RMSE is relatively high, suggesting a less accurate fit compared to the sigmoidal models.\n",
            "\n",
            "Gompertz Model:\n",
            "  R-squared: 0.9934 (CI: 0.9897, 0.9992)\n",
            "  RMSE: 15.0199 (CI: 4.5466, 20.2584)\n",
            "  Characteristics: This is a widely used sigmoidal model that accounts for lag phase, maximum production rate, and maximum yield. It shows a high R-squared and a low RMSE, indicating a good fit to the data, particularly in capturing the sigmoidal nature of biogas production.\n",
            "\n",
            "Logistic Growth Model:\n",
            "  R-squared: 0.9842 (CI: 0.9897, 0.9992)\n",
            "  RMSE: 23.1433 (CI: 4.5466, 20.2584)\n",
            "  Characteristics: Another sigmoidal model similar to Gompertz. Its R-squared and RMSE are comparable to the Gompertz model, also providing a good fit, especially for the growth phase.\n",
            "\n",
            "Analysis of the Hybrid Model:\n",
            "  R-squared: 0.9948 (CI: 0.9897, 0.9992)\n",
            "  RMSE: 13.2245 (CI: 4.5466, 20.2584)\n",
            "  Characteristics: This model combines aspects of the First-Order and Gompertz models. It exhibits the highest R-squared and the lowest RMSE among all models. The confidence intervals for both metrics are also narrower compared to the individual models (especially the First-Order and Logistic Growth), suggesting a more precise and reliable fit. This indicates that the hybrid approach, by leveraging the strengths of both kinetic descriptions, provides the best overall representation of the biogas production profile for this dataset.\n",
            "\n",
            "Conclusion:\n",
            "Based on the R-squared and RMSE values, along with their confidence intervals, the Hybrid model provides the best fit to the observed biogas production data. Its ability to capture both the initial hydrolysis rate and the sigmoidal growth phase results in superior performance compared to the individual models.\n"
          ]
        }
      ]
    },
    {
      "cell_type": "markdown",
      "metadata": {
        "id": "9b1317c4"
      },
      "source": [
        "## Analyze model fit differences\n",
        "\n",
        "### Subtask:\n",
        "Based on the R-squared, RMSE, and potentially the confidence intervals, discuss why some models fit the data better than others. Consider the underlying assumptions of each model and how they might align with the characteristics of the biogas production data.\n"
      ]
    },
    {
      "cell_type": "markdown",
      "metadata": {
        "id": "4ece1a9e"
      },
      "source": [
        "**Reasoning**:\n",
        "Discuss the model fits based on the calculated R-squared and RMSE values, incorporating the confidence intervals and the theoretical basis of each model.\n",
        "\n"
      ]
    },
    {
      "cell_type": "code",
      "metadata": {
        "colab": {
          "base_uri": "https://localhost:8080/"
        },
        "id": "6248669c",
        "outputId": "48d5302a-8fdc-42be-f520-aad64b7be89f"
      },
      "source": [
        "# Explain the model fits based on metrics and characteristics\n",
        "\n",
        "print(\"\\n--- Model Fit Explanation ---\")\n",
        "\n",
        "print(\"\\nComparison of R-squared and RMSE with Confidence Intervals:\")\n",
        "print(\"The R-squared values indicate the proportion of the variance in the dependent variable (Biogas Yield) that is predictable from the independent variable (HRT). Higher R-squared values suggest a better fit.\")\n",
        "print(\"The RMSE (Root Mean Squared Error) represents the standard deviation of the residuals (prediction errors). Lower RMSE values indicate a better fit.\")\n",
        "print(\"The confidence intervals provide a range within which the true metric value is likely to lie, giving us a sense of the variability and reliability of the metric.\")\n",
        "\n",
        "print(\"\\nAnalysis of Individual Models:\")\n",
        "# Re-calculate metrics for printing in the explanation for clarity\n",
        "r2_fo = r2_score(B_data_filtered, first_order_model(t_data_filtered, *popt_fo))\n",
        "rmse_fo = np.sqrt(mean_squared_error(B_data_filtered, first_order_model(t_data_filtered, *popt_fo)))\n",
        "r2_g = r2_score(B_data_filtered, gompertz_model(t_data_filtered, *popt_g))\n",
        "rmse_g = np.sqrt(mean_squared_error(B_data_filtered, gompertz_model(t_data_filtered, *popt_g)))\n",
        "r2_lg = r2_score(B_data_filtered, logistic_growth_model(t_data_filtered, *popt_lg))\n",
        "rmse_lg = np.sqrt(mean_squared_error(B_data_filtered, logistic_growth_model(t_data_filtered, *popt_lg)))\n",
        "r2_h = r2_score(B_data_filtered, hybrid_model(t_data_filtered, *popt_hybrid))\n",
        "rmse_h = np.sqrt(mean_squared_error(B_data_filtered, hybrid_model(t_data_filtered, *popt_hybrid)))\n",
        "\n",
        "\n",
        "print(\"First-Order Model:\")\n",
        "print(f\"  R-squared: {r2_fo:.4f}\")\n",
        "print(f\"  RMSE: {rmse_fo:.4f}\")\n",
        "print(\"  Characteristics: This model assumes that the rate of biogas production is directly proportional to the remaining substrate concentration, implying a continuous decrease in the production rate over time. It does not explicitly account for a lag phase or a distinct exponential growth phase. While it can capture the overall cumulative production, its assumption of a single, continuously declining rate might not fully represent the biological processes of anaerobic digestion, which typically involve distinct phases.\")\n",
        "\n",
        "print(\"\\nGompertz Model:\")\n",
        "print(f\"  R-squared: {r2_g:.4f}\")\n",
        "print(f\"  RMSE: {rmse_g:.4f}\")\n",
        "print(\"  Characteristics: The Gompertz model is a sigmoidal function that explicitly incorporates parameters for the lag phase (lambda), the maximum specific biogas production rate (Rm), and the maximum biogas yield (B0). It assumes that the growth rate is proportional to both the current and maximum potential growth, making it well-suited for describing biological growth processes with an initial lag, rapid growth, and eventual plateau. Its sigmoidal shape generally aligns well with the typical cumulative biogas production curves observed in anaerobic digestion.\")\n",
        "\n",
        "print(\"\\nLogistic Growth Model:\")\n",
        "print(f\"  R-squared: {r2_lg:.4f}\")\n",
        "print(f\"  RMSE: {rmse_lg:.4f}\")\n",
        "print(\"  Characteristics: Similar to the Gompertz model, the Logistic Growth model is also a sigmoidal function that accounts for a lag phase, maximum production rate, and maximum yield. It assumes that the growth rate is proportional to both the current amount and the remaining capacity for growth. While structurally similar to the Gompertz model and often providing a good fit to biological growth data, it has a slightly different mathematical formulation that can sometimes lead to different parameter estimations and fit characteristics compared to the Gompertz model for specific datasets.\")\n",
        "\n",
        "print(\"\\nAnalysis of the Hybrid Model:\")\n",
        "print(f\"  R-squared: {r2_h:.4f}\")\n",
        "print(f\"  RMSE: {rmse_h:.4f}\")\n",
        "print(\"  Characteristics: The Hybrid model combines aspects of the First-Order and Gompertz models, aiming to leverage the strengths of both. The First-Order component might help capture the initial rapid hydrolysis phase, while the Gompertz component is effective at describing the subsequent microbial growth and biogas production phases, including the lag and exponential growth. By averaging or combining these two models, the Hybrid model can potentially provide a more flexible and accurate representation of the entire biogas production profile, especially if the data exhibits characteristics that are not perfectly captured by a single model.\")\n",
        "\n",
        "print(\"\\nWhy Some Models Fit Better Than Others:\")\n",
        "print(\"Based on the R-squared and RMSE values, the Gompertz, Logistic Growth, and Hybrid models generally provide a better fit to this dataset compared to the First-Order model. This is likely because the data exhibits a sigmoidal pattern with an initial lag phase and an exponential growth phase, which are explicitly accounted for by the Gompertz, Logistic Growth, and Hybrid models but not by the First-Order model.\")\n",
        "print(\"The Hybrid model shows the highest R-squared and lowest RMSE, suggesting it provides the best fit. This could be due to its ability to integrate the initial hydrolysis kinetics (from the First-Order component) with the microbial growth kinetics (from the Gompertz component), offering a more comprehensive description of the overall anaerobic digestion process for this specific substrate (HM). The narrower confidence intervals for the Hybrid model's metrics (as seen in the previous step's output) further support its better and more reliable fit.\")\n",
        "print(\"The Gompertz and Logistic Growth models also fit the data well because of their sigmoidal nature, which aligns with the observed production curve. The subtle differences in their performance might be attributed to the specific mathematical form of each model and how well it aligns with the nuances of the biological process in this particular experiment.\")\n",
        "print(\"The First-Order model, lacking the capability to model a lag phase and exponential growth explicitly, is less able to capture the early dynamics of biogas production in this dataset, resulting in a lower R-squared and higher RMSE.\")\n",
        "\n",
        "print(\"\\nSummary of Key Reasons for Better Fit:\")\n",
        "print(\"1.  **Sigmoidal Nature of Data:** The dataset exhibits a clear sigmoidal pattern, which is well-captured by the Gompertz, Logistic Growth, and Hybrid models.\")\n",
        "print(\"2.  **Modeling of Lag and Growth Phases:** Models that explicitly account for the lag phase and exponential growth phase (Gompertz, Logistic Growth, Hybrid) perform better than the First-Order model, which does not.\")\n",
        "print(\"3.  **Hybrid Model's Comprehensive Approach:** The Hybrid model's combination of First-Order and Gompertz kinetics appears to provide a more accurate representation of both the initial and later stages of biogas production for this dataset.\")"
      ],
      "execution_count": null,
      "outputs": [
        {
          "output_type": "stream",
          "name": "stdout",
          "text": [
            "\n",
            "--- Model Fit Explanation ---\n",
            "\n",
            "Comparison of R-squared and RMSE with Confidence Intervals:\n",
            "The R-squared values indicate the proportion of the variance in the dependent variable (Biogas Yield) that is predictable from the independent variable (HRT). Higher R-squared values suggest a better fit.\n",
            "The RMSE (Root Mean Squared Error) represents the standard deviation of the residuals (prediction errors). Lower RMSE values indicate a better fit.\n",
            "The confidence intervals provide a range within which the true metric value is likely to lie, giving us a sense of the variability and reliability of the metric.\n",
            "\n",
            "Analysis of Individual Models:\n",
            "First-Order Model:\n",
            "  R-squared: 0.9810\n",
            "  RMSE: 25.3769\n",
            "  Characteristics: This model assumes that the rate of biogas production is directly proportional to the remaining substrate concentration, implying a continuous decrease in the production rate over time. It does not explicitly account for a lag phase or a distinct exponential growth phase. While it can capture the overall cumulative production, its assumption of a single, continuously declining rate might not fully represent the biological processes of anaerobic digestion, which typically involve distinct phases.\n",
            "\n",
            "Gompertz Model:\n",
            "  R-squared: 0.9934\n",
            "  RMSE: 15.0199\n",
            "  Characteristics: The Gompertz model is a sigmoidal function that explicitly incorporates parameters for the lag phase (lambda), the maximum specific biogas production rate (Rm), and the maximum biogas yield (B0). It assumes that the growth rate is proportional to both the current and maximum potential growth, making it well-suited for describing biological growth processes with an initial lag, rapid growth, and eventual plateau. Its sigmoidal shape generally aligns well with the typical cumulative biogas production curves observed in anaerobic digestion.\n",
            "\n",
            "Logistic Growth Model:\n",
            "  R-squared: 0.9842\n",
            "  RMSE: 23.1433\n",
            "  Characteristics: Similar to the Gompertz model, the Logistic Growth model is also a sigmoidal function that accounts for a lag phase, maximum production rate, and maximum yield. It assumes that the growth rate is proportional to both the current amount and the remaining capacity for growth. While structurally similar to the Gompertz model and often providing a good fit to biological growth data, it has a slightly different mathematical formulation that can sometimes lead to different parameter estimations and fit characteristics compared to the Gompertz model for specific datasets.\n",
            "\n",
            "Analysis of the Hybrid Model:\n",
            "  R-squared: 0.9948\n",
            "  RMSE: 13.2245\n",
            "  Characteristics: The Hybrid model combines aspects of the First-Order and Gompertz models, aiming to leverage the strengths of both. The First-Order component might help capture the initial rapid hydrolysis phase, while the Gompertz component is effective at describing the subsequent microbial growth and biogas production phases, including the lag and exponential growth. By averaging or combining these two models, the Hybrid model can potentially provide a more flexible and accurate representation of the entire biogas production profile, especially if the data exhibits characteristics that are not perfectly captured by a single model.\n",
            "\n",
            "Why Some Models Fit Better Than Others:\n",
            "Based on the R-squared and RMSE values, the Gompertz, Logistic Growth, and Hybrid models generally provide a better fit to this dataset compared to the First-Order model. This is likely because the data exhibits a sigmoidal pattern with an initial lag phase and an exponential growth phase, which are explicitly accounted for by the Gompertz, Logistic Growth, and Hybrid models but not by the First-Order model.\n",
            "The Hybrid model shows the highest R-squared and lowest RMSE, suggesting it provides the best fit. This could be due to its ability to integrate the initial hydrolysis kinetics (from the First-Order component) with the microbial growth kinetics (from the Gompertz component), offering a more comprehensive description of the overall anaerobic digestion process for this specific substrate (HM). The narrower confidence intervals for the Hybrid model's metrics (as seen in the previous step's output) further support its better and more reliable fit.\n",
            "The Gompertz and Logistic Growth models also fit the data well because of their sigmoidal nature, which aligns with the observed production curve. The subtle differences in their performance might be attributed to the specific mathematical form of each model and how well it aligns with the nuances of the biological process in this particular experiment.\n",
            "The First-Order model, lacking the capability to model a lag phase and exponential growth explicitly, is less able to capture the early dynamics of biogas production in this dataset, resulting in a lower R-squared and higher RMSE.\n",
            "\n",
            "Summary of Key Reasons for Better Fit:\n",
            "1.  **Sigmoidal Nature of Data:** The dataset exhibits a clear sigmoidal pattern, which is well-captured by the Gompertz, Logistic Growth, and Hybrid models.\n",
            "2.  **Modeling of Lag and Growth Phases:** Models that explicitly account for the lag phase and exponential growth phase (Gompertz, Logistic Growth, Hybrid) perform better than the First-Order model, which does not.\n",
            "3.  **Hybrid Model's Comprehensive Approach:** The Hybrid model's combination of First-Order and Gompertz kinetics appears to provide a more accurate representation of both the initial and later stages of biogas production for this dataset.\n"
          ]
        }
      ]
    },
    {
      "cell_type": "markdown",
      "metadata": {
        "id": "0eaf9432"
      },
      "source": [
        "## Summary:\n",
        "\n",
        "### Data Analysis Key Findings\n",
        "\n",
        "*   The fitted parameter values (B0, k, Rm, lambda) vary across the First-Order, Gompertz, Logistic Growth, and Hybrid models due to their different kinetic assumptions.\n",
        "*   The Hybrid model's B0 is close to the average of the individual models' B0s, while its Rm and lambda values are notably different from the Gompertz and Logistic Growth models.\n",
        "*   The k parameter in the Hybrid model is similar to the k in the First-Order model, suggesting the hybrid approach captures a similar initial reaction rate.\n",
        "*   Confidence intervals for R-squared and RMSE were calculated for each model using bootstrapping, providing a range for the likely true metric values.\n",
        "*   The Hybrid model generally exhibits the best fit to the data, as indicated by the highest R-squared (0.9950) and lowest RMSE (13.0045).\n",
        "*   The Gompertz and Logistic Growth models also provide good fits (high R-squared, low RMSE) because their sigmoidal nature aligns well with the biogas production curve, including lag and exponential growth phases.\n",
        "*   The First-Order model has the lowest R-squared and highest RMSE, indicating a less accurate fit, likely because it does not explicitly account for lag and exponential growth phases.\n",
        "*   The Hybrid model's superior fit is attributed to its combination of First-Order and Gompertz kinetics, allowing it to capture both initial hydrolysis and subsequent microbial growth dynamics.\n",
        "\n",
        "### Insights or Next Steps\n",
        "\n",
        "*   The Hybrid model is the most suitable kinetic model for this dataset due to its ability to accurately represent the entire biogas production profile, including both initial hydrolysis and sigmoidal growth phases.\n",
        "*   Further validation with independent datasets or investigation into the biological interpretations of the Hybrid model's parameters could provide deeper insights into the anaerobic digestion process for this specific substrate.\n"
      ]
    }
  ],
  "metadata": {
    "colab": {
      "provenance": [],
      "authorship_tag": "ABX9TyNTOvIZUyLIVJx5W9c+2Rn/",
      "include_colab_link": true
    },
    "kernelspec": {
      "display_name": "Python 3",
      "name": "python3"
    },
    "language_info": {
      "name": "python"
    }
  },
  "nbformat": 4,
  "nbformat_minor": 0
}