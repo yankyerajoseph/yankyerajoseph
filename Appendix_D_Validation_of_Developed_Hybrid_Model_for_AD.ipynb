{
  "cells": [
    {
      "cell_type": "markdown",
      "metadata": {
        "id": "view-in-github",
        "colab_type": "text"
      },
      "source": [
        "<a href=\"https://colab.research.google.com/github/yankyerajoseph/yankyerajoseph/blob/main/Appendix_D_Validation_of_Developed_Hybrid_Model_for_AD.ipynb\" target=\"_parent\"><img src=\"https://colab.research.google.com/assets/colab-badge.svg\" alt=\"Open In Colab\"/></a>"
      ]
    },
    {
      "cell_type": "code",
      "execution_count": null,
      "metadata": {
        "id": "K6a5YyEghv10"
      },
      "outputs": [],
      "source": [
        "print = __builtins__.print  # Reset print to the original built-in function"
      ]
    },
    {
      "cell_type": "code",
      "execution_count": null,
      "metadata": {
        "id": "JT5cFCd-h5Q_"
      },
      "outputs": [],
      "source": [
        "\n",
        "print = __builtins__.print  # Reset print to the original built-in function"
      ]
    },
    {
      "cell_type": "code",
      "execution_count": null,
      "metadata": {
        "id": "2VGcPpthh76C"
      },
      "outputs": [],
      "source": [
        "print = __builtins__.print  # Reset print to the original built-in function"
      ]
    },
    {
      "cell_type": "code",
      "execution_count": null,
      "metadata": {
        "id": "2yYOVf70h9OX"
      },
      "outputs": [],
      "source": [
        "print = __builtins__.print  # Reset print to the original built-in function"
      ]
    },
    {
      "cell_type": "code",
      "execution_count": null,
      "metadata": {
        "id": "6QsChO69zSFk"
      },
      "outputs": [],
      "source": [
        "# Python codes to generally describe or analyse biogas trial data"
      ]
    },
    {
      "cell_type": "code",
      "execution_count": null,
      "metadata": {
        "id": "gvuVCrBT69Ii"
      },
      "outputs": [],
      "source": [
        "# Introduction"
      ]
    },
    {
      "cell_type": "code",
      "execution_count": null,
      "metadata": {
        "id": "uIHgFkC87CGP"
      },
      "outputs": [],
      "source": [
        "# Python codes to generally describe or analyse biogas trial data: Introduction\n",
        "#This code is to also apply the Gompertz model to be able to actually\n",
        "#The code has two distinct goals\n",
        "#Goal one is to implement stastical analysis in python\n",
        "#Goal two is to implement Gompertz modelling in python\n",
        "#In later part of career, the goal will be to implement ADM1 in python\n",
        "#The statistical analysis will actually include:\n",
        "#Descriptive analysis\n",
        "#Regression analysis\n",
        "#General analyis that validates experimental data\n",
        "#Gompertz modelling will attemp first to see how the Gompertz modell fits to the given data sets\n",
        "#Later, the Gompertz model will be modified to fit or describe the experimental models better\n",
        "#Four different python packages will be used\n",
        "#Google colabs, Jupyter Notebook, Visual Basic Studio, PyCharm Community\n",
        "#Full data set in a trial will be treated separately, but for each sample, it will more or less represent a unique data set\n",
        "#The full data sets are:\n",
        "# a. Biogas yield data in ml/g oTS for HM, NHMM, YCPM, HPC\n",
        "# b. Biogas yield data in ml/ g oTS for fibrous materials (YCPM: MCP, MPP)\n",
        "# c. Biogas yield data in ml/g oTS and ml/g FM for HPW and NHPW; and their HW\n",
        "# d. Biogas yield data in ml/g oTS of RC-CGS-M, PW-CGS-W\n",
        "# a = 4 samples; b = 3 Samples C = 2 Samples  d = 2 Samples   (Total number of samples = 11 (+-1))\n",
        "# Two different trials likeyl to produce different samples\n",
        "# A repetition of a so that it gives an assessment based on a bigger or different digester: the drainage type.\n",
        "# The second is likely to cost more, in order that some complex trials could be done including measuring VFAs\n",
        "# The experts guiding me through this/in this are:\n",
        "#Mr. Ebenezer Nuamah\n",
        "#Mr. Paul Agbadi\n",
        "# All of this is to enrich my PhD\n",
        "# Assessment of feedstock and modelling of anaerobic digestion as a waste-to-energy pathway through in West-Africa\n"
      ]
    },
    {
      "cell_type": "code",
      "execution_count": null,
      "metadata": {
        "colab": {
          "base_uri": "https://localhost:8080/",
          "height": 35
        },
        "id": "EQDacztVzYZ-",
        "outputId": "0bc80e04-fe81-4df0-b2a6-871281411cba"
      },
      "outputs": [
        {
          "output_type": "execute_result",
          "data": {
            "text/plain": [
              "'Researcher'"
            ],
            "application/vnd.google.colaboratory.intrinsic+json": {
              "type": "string"
            }
          },
          "metadata": {},
          "execution_count": 2
        }
      ],
      "source": [
        "# Joseph Yankyera Kusi\n",
        "\"Researcher\""
      ]
    },
    {
      "cell_type": "code",
      "execution_count": null,
      "metadata": {
        "colab": {
          "base_uri": "https://localhost:8080/"
        },
        "id": "jBGW1-e5zn7v",
        "outputId": "9487334f-dd17-46c4-9f7e-04c251df0948"
      },
      "outputs": [
        {
          "output_type": "stream",
          "name": "stdout",
          "text": [
            "PhD Sustainable Energy Management\n",
            "Dep't of Renewable Energy Engineering, School of Energy, University of Energy and Natural Resources, Sunyani, Ghana\n"
          ]
        }
      ],
      "source": [
        "Program = \"PhD Sustainable Energy Management\"\n",
        "GrantingInstitution = \"Dep't of Renewable Energy Engineering, School of Energy, University of Energy and Natural Resources, Sunyani, Ghana\"\n",
        "print = __builtins__.print  # Reset print to the original built-in function\n",
        "print (Program)\n",
        "print (GrantingInstitution)"
      ]
    },
    {
      "cell_type": "code",
      "execution_count": null,
      "metadata": {
        "colab": {
          "base_uri": "https://localhost:8080/"
        },
        "id": "2Q7xYyja2ivx",
        "outputId": "6e28c6bd-3f54-40b3-b03c-f87c199965f1"
      },
      "outputs": [
        {
          "output_type": "stream",
          "name": "stdout",
          "text": [
            "('Prof. Dr. Nana Sarfo Agyemang Derkyi', 'Prof. Dr. Stefan Pelz', 'Prof. Francis Attiogbe')\n"
          ]
        }
      ],
      "source": [
        "Supervisors = \"Prof. Dr. Nana Sarfo Agyemang Derkyi\", \"Prof. Dr. Stefan Pelz\", \"Prof. Francis Attiogbe\"\n",
        "print (Supervisors)"
      ]
    },
    {
      "cell_type": "code",
      "execution_count": null,
      "metadata": {
        "id": "ksqlN4vo4B8M"
      },
      "outputs": [],
      "source": [
        "#These lines of codes are attempting to import all the data sets that will be analysed"
      ]
    },
    {
      "cell_type": "code",
      "execution_count": null,
      "metadata": {
        "id": "LB8Dw-8x4MVl"
      },
      "outputs": [],
      "source": [
        "#Prepare the necessary foundations\n",
        "import os\n",
        "import numpy as np\n",
        "import pandas as pd\n",
        "import matplotlib.pyplot as plt\n",
        "import seaborn as sns\n"
      ]
    },
    {
      "cell_type": "code",
      "execution_count": null,
      "metadata": {
        "id": "0j3zwZvdDgYf"
      },
      "outputs": [],
      "source": [
        "#Codes to enable easily manipulation of data\n",
        "from google.colab import data_table\n",
        "data_table.enable_dataframe_formatter()"
      ]
    },
    {
      "cell_type": "code",
      "execution_count": null,
      "metadata": {
        "colab": {
          "base_uri": "https://localhost:8080/"
        },
        "id": "CLtF4cBivE1i",
        "outputId": "5f3f52e0-6dfe-46a3-a761-762a2a0a9a0f"
      },
      "outputs": [
        {
          "output_type": "stream",
          "name": "stdout",
          "text": [
            "Drive already mounted at /content/drive; to attempt to forcibly remount, call drive.mount(\"/content/drive\", force_remount=True).\n"
          ]
        }
      ],
      "source": [
        "from google.colab import drive\n",
        "drive.mount('/content/drive')"
      ]
    },
    {
      "cell_type": "code",
      "execution_count": null,
      "metadata": {
        "id": "Ic6dF5SCcWjf"
      },
      "outputs": [],
      "source": [
        "#extra libraries\n",
        "import statsmodels.api as sm\n",
        "from sklearn.linear_model import LinearRegression"
      ]
    },
    {
      "cell_type": "code",
      "execution_count": null,
      "metadata": {
        "id": "ho5FHz-6ZVbj",
        "colab": {
          "base_uri": "https://localhost:8080/"
        },
        "outputId": "2e448418-4686-4f84-fd75-543d22d1a159"
      },
      "outputs": [
        {
          "output_type": "stream",
          "name": "stdout",
          "text": [
            "Drive already mounted at /content/drive; to attempt to forcibly remount, call drive.mount(\"/content/drive\", force_remount=True).\n",
            "Hydrolysed Materials\n",
            "    HRT (d)   YPCM (ml/g oTS)   HM (ml/g oTS)   NHMM (ml/g oTS)   \\\n",
            "0       0.00              0.00            0.00              0.00   \n",
            "1       1.00             11.35           25.36             12.21   \n",
            "2       2.08             96.45          184.58            168.56   \n",
            "3       3.09            197.16          249.39            251.62   \n",
            "4       4.02            266.67          312.79            315.84   \n",
            "5       4.93            307.80          370.56            362.60   \n",
            "6       6.84            363.83          466.37            438.68   \n",
            "7       8.07            381.56          508.64            457.53   \n",
            "8       9.05            392.91          519.91            467.30   \n",
            "9      10.74            410.64          532.59            480.56   \n",
            "10     11.09            412.77          534.71            482.65   \n",
            "11     13.86            434.75          549.50            491.73   \n",
            "12     15.04            441.13          553.73            496.61   \n",
            "13     16.00            447.52          556.55            501.50   \n",
            "14     17.10            453.19          560.77            505.69   \n",
            "15     18.00            458.16          563.59            508.48   \n",
            "16     20.88            467.38          565.70            516.16   \n",
            "17     24.04            475.89          561.48            521.04   \n",
            "18     28.00            480.85          556.55            525.93   \n",
            "19     30.04            483.69          554.43            528.02   \n",
            "\n",
            "    HPC (ml/g oTS)   \n",
            "0              0.00  \n",
            "1              7.43  \n",
            "2            134.43  \n",
            "3            235.76  \n",
            "4            302.64  \n",
            "5            356.68  \n",
            "6            422.21  \n",
            "7            439.10  \n",
            "8            448.55  \n",
            "9            462.74  \n",
            "10           464.09  \n",
            "11           481.65  \n",
            "12           485.03  \n",
            "13           489.08  \n",
            "14           492.46  \n",
            "15           495.16  \n",
            "16           502.60  \n",
            "17           508.00  \n",
            "18           506.65  \n",
            "19           505.30  \n",
            "Index([' HRT (d) ', ' YPCM (ml/g oTS) ', ' HM (ml/g oTS) ',\n",
            "       ' NHMM (ml/g oTS) ', ' HPC (ml/g oTS) '],\n",
            "      dtype='object')\n"
          ]
        }
      ],
      "source": [
        "import pandas as pd\n",
        "from google.colab import drive\n",
        "drive.mount('/content/drive')\n",
        "file_path = '/content/drive/MyDrive/SummaryofBY/HMNHMMetal.csv'\n",
        "data = pd.read_csv(file_path)\n",
        "cleaned_data = data.dropna()\n",
        "print (\"Hydrolysed Materials\")\n",
        "print (data)\n",
        "print (data.columns)"
      ]
    },
    {
      "cell_type": "code",
      "execution_count": null,
      "metadata": {
        "id": "vMKdsxZquvm3"
      },
      "outputs": [],
      "source": [
        "# Implementing my selected model on different data sets of same experiment: The final step of validation."
      ]
    },
    {
      "cell_type": "code",
      "execution_count": null,
      "metadata": {
        "id": "3nBSQNifNDYS"
      },
      "outputs": [],
      "source": [
        "# To God be all the glory ---"
      ]
    },
    {
      "cell_type": "code",
      "execution_count": null,
      "metadata": {
        "id": "-N_3O6PHGXe9",
        "colab": {
          "base_uri": "https://localhost:8080/"
        },
        "outputId": "28992727-62a9-4987-ef8e-61508905f662"
      },
      "outputs": [
        {
          "output_type": "stream",
          "name": "stdout",
          "text": [
            "To God be the Glory\n"
          ]
        }
      ],
      "source": [
        "print (\"To God be the Glory\")"
      ]
    },
    {
      "cell_type": "code",
      "execution_count": null,
      "metadata": {
        "id": "-Bpmaiu3-0ul"
      },
      "outputs": [],
      "source": [
        "# Recoding after comments were received"
      ]
    },
    {
      "cell_type": "code",
      "execution_count": null,
      "metadata": {
        "colab": {
          "base_uri": "https://localhost:8080/"
        },
        "id": "f21613eb",
        "outputId": "3deafb8b-e32f-4403-b977-8f8b42da9c33"
      },
      "outputs": [
        {
          "output_type": "stream",
          "name": "stdout",
          "text": [
            "Using previously fitted parameters for First-Order HM.\n",
            "Using previously fitted parameters for Second-Order HM.\n",
            "Fitted and using parameters for First-Order NHMM.\n",
            "Fitted and using parameters for Second-Order NHMM.\n"
          ]
        }
      ],
      "source": [
        "import numpy as np\n",
        "import pandas as pd\n",
        "import matplotlib.pyplot as plt\n",
        "from scipy.integrate import odeint\n",
        "from scipy.optimize import curve_fit\n",
        "from sklearn.metrics import r2_score, mean_squared_error, mean_absolute_error\n",
        "import statsmodels.api as sm\n",
        "from statsmodels.stats.stattools import durbin_watson\n",
        "from statsmodels.tsa.stattools import acf\n",
        "from scipy.stats import norm\n",
        "\n",
        "# Define the Adapted Hybrid Kinetic JY Model\n",
        "def adapted_hybrid_kinetic_jy_model(t):\n",
        "    \"\"\"\n",
        "    Adapted Hybrid Kinetic JY Model for biogas production.\n",
        "    Equation: B(t) = 0.1914 * (813.8779 * (1 - exp(-0.1266 * t))) +\n",
        "                     0.3882 * (396.3038 * exp(-exp((460.9462 * np.e / 396.3038) * (1.2764 - t) + 1))) +\n",
        "                     0.4204 * (633.1465 / (1 + exp((4 * 136.8490 / 633.1465) * (2.4440 - t) + 2)))\n",
        "    \"\"\"\n",
        "    term1 = 0.1914 * (813.8779 * (1 - np.exp(-0.1266 * t)))\n",
        "    term2 = 0.3882 * (396.3038 * np.exp(-np.exp((460.9462 * np.e / 396.3038) * (1.2764 - t) + 1)))\n",
        "    term3 = 0.4204 * (633.1465 / (1 + np.exp((4 * 136.8490 / 633.1465) * (2.4440 - t) + 2)))\n",
        "    return term1 + term2 + term3\n",
        "\n",
        "# First order differential equation\n",
        "def biogas_rate_first_order(B, t, k, B_max):\n",
        "    dBdt = k * (B_max - B)\n",
        "    return dBdt\n",
        "\n",
        "# Second-order differential equation\n",
        "def biogas_rate_second_order(y, t, k1, k2, B_max):\n",
        "    B, dBdt = y\n",
        "    d2Bdt2 = k1 * (B_max - B) - k2 * dBdt\n",
        "    return [dBdt, d2Bdt2]\n",
        "\n",
        "# Initial conditions\n",
        "B0_first_order = 0  # Initial biogas yield for first order\n",
        "B0_second_order = 0  # Initial biogas yield for second order\n",
        "dBdt0_second_order = 0  # Initial rate of biogas production for second order\n",
        "y0_second_order = [B0_second_order, dBdt0_second_order] # Initial conditions vector for second order\n",
        "\n",
        "# Assuming 'data' is your DataFrame containing ' HRT (d) ', ' HM (ml/g oTS) ', and ' NHMM (ml/g oTS) '\n",
        "t_data = data[' HRT (d) '].values\n",
        "hm_data = data[' HM (ml/g oTS) '].values\n",
        "nhmm_data = data[' NHMM (ml/g oTS) '].values\n",
        "\n",
        "# --- Predict using Adapted Hybrid Kinetic JY Model ---\n",
        "B_pred_hybrid_hm = adapted_hybrid_kinetic_jy_model(t_data)\n",
        "B_pred_hybrid_nhmm = adapted_hybrid_kinetic_jy_model(t_data) # Same model for both datasets\n",
        "\n",
        "# --- Predict using Comparative Models (using previously fitted parameters) ---\n",
        "\n",
        "# Check if fitted parameters exist for differential models\n",
        "if 'k_fit_first_order_hm' in locals() and 'B_max_fit_first_order_hm' in locals():\n",
        "    B_pred_first_order_hm = odeint(biogas_rate_first_order, B0_first_order, t_data, args=(k_fit_first_order_hm, B_max_fit_first_order_hm))[:, 0]\n",
        "    print(\"Using previously fitted parameters for First-Order HM.\")\n",
        "else:\n",
        "    # Fit the first-order model to HM data if parameters are not found\n",
        "    initial_guess_first_order_hm = [0.1, 500]\n",
        "    popt_first_order_hm, pcov_first_order_hm = curve_fit(\n",
        "        lambda t, k, B_max: odeint(biogas_rate_first_order, B0_first_order, t, args=(k, B_max))[:, 0],\n",
        "        t_data, hm_data,\n",
        "        p0=initial_guess_first_order_hm\n",
        "    )\n",
        "    k_fit_first_order_hm, B_max_fit_first_order_hm = popt_first_order_hm\n",
        "    B_pred_first_order_hm = odeint(biogas_rate_first_order, B0_first_order, t_data, args=(k_fit_first_order_hm, B_max_fit_first_order_hm))[:, 0]\n",
        "    print(\"Fitted and using new parameters for First-Order HM.\")\n",
        "\n",
        "\n",
        "if 'k1_fit_second_order_hm' in locals() and 'k2_fit_second_order_hm' in locals() and 'B_max_fit_second_order_hm' in locals():\n",
        "     B_pred_second_order_hm = odeint(biogas_rate_second_order, y0_second_order, t_data, args=(k1_fit_second_order_hm, k2_fit_second_order_hm, B_max_fit_second_order_hm))[:, 0]\n",
        "     print(\"Using previously fitted parameters for Second-Order HM.\")\n",
        "else:\n",
        "    # Fit the second-order model to HM data if parameters are not found\n",
        "    initial_guess_second_order_hm = [0.1, 0.1, 500]\n",
        "    popt_second_order_hm, pcov_second_order_hm = curve_fit(\n",
        "        lambda t, k1, k2, B_max: odeint(biogas_rate_second_order, y0_second_order, t, args=(k1, k2, B_max))[:, 0],\n",
        "        t_data, hm_data,\n",
        "        p0=initial_guess_second_order_hm\n",
        "    )\n",
        "    k1_fit_second_order_hm, k2_fit_second_order_hm, B_max_fit_second_order_hm = popt_second_order_hm\n",
        "    B_pred_second_order_hm = odeint(biogas_rate_second_order, y0_second_order, t_data, args=(k1_fit_second_order_hm, k2_fit_second_order_hm, B_max_fit_second_order_hm))[:, 0]\n",
        "    print(\"Fitted and using new parameters for Second-Order HM.\")\n",
        "\n",
        "# We need to fit the differential models to NHMM data as well for comparison\n",
        "# Fit the first-order model to NHMM data\n",
        "initial_guess_first_order_nhmm = [0.1, 500]\n",
        "popt_first_order_nhmm, pcov_first_order_nhmm = curve_fit(\n",
        "    lambda t, k, B_max: odeint(biogas_rate_first_order, B0_first_order, t, args=(k, B_max))[:, 0],\n",
        "    t_data, nhmm_data,\n",
        "    p0=initial_guess_first_order_nhmm\n",
        ")\n",
        "k_fit_first_order_nhmm, B_max_fit_first_order_nhmm = popt_first_order_nhmm\n",
        "B_pred_first_order_nhmm = odeint(biogas_rate_first_order, B0_first_order, t_data, args=(k_fit_first_order_nhmm, B_max_fit_first_order_nhmm))[:, 0]\n",
        "print(\"Fitted and using parameters for First-Order NHMM.\")\n",
        "\n",
        "# Fit the second-order model to NHMM data\n",
        "initial_guess_second_order_nhmm = [0.1, 0.1, 500]\n",
        "popt_second_order_nhmm, pcov_second_order_nhmm = curve_fit(\n",
        "    lambda t, k1, k2, B_max: odeint(biogas_rate_second_order, y0_second_order, t, args=(k1, k2, B_max))[:, 0],\n",
        "    t_data, nhmm_data,\n",
        "    p0=initial_guess_second_order_nhmm\n",
        ")\n",
        "k1_fit_second_order_nhmm, k2_fit_second_order_nhmm, B_max_fit_second_order_nhmm = popt_second_order_nhmm\n",
        "B_pred_second_order_nhmm = odeint(biogas_rate_second_order, y0_second_order, t_data, args=(k1_fit_second_order_nhmm, k2_fit_second_order_nhmm, B_max_fit_second_order_nhmm))[:, 0]\n",
        "print(\"Fitted and using parameters for Second-Order NHMM.\")"
      ]
    },
    {
      "cell_type": "code",
      "execution_count": null,
      "metadata": {
        "colab": {
          "base_uri": "https://localhost:8080/"
        },
        "id": "4d1f50a0",
        "outputId": "9a318827-fd57-4e12-cbe3-5342035343fe"
      },
      "outputs": [
        {
          "output_type": "stream",
          "name": "stdout",
          "text": [
            "K-Fold Cross-Validation Results for Adapted Hybrid Kinetic JY Model on HM:\n",
            "  Avg R-squared: 0.9953\n",
            "  Avg Adjusted R-squared: nan\n",
            "  Avg RMSE: 5.5510\n",
            "  Avg MAE: 4.0979\n",
            "\n",
            "K-Fold Cross-Validation Results for Adapted Hybrid Kinetic JY Model on NHMM:\n",
            "  Avg R-squared: 0.1805\n",
            "  Avg Adjusted R-squared: nan\n",
            "  Avg RMSE: 42.1481\n",
            "  Avg MAE: 37.5358\n",
            "\n",
            "Residual Analysis for Adapted Hybrid Kinetic JY Model on HM:\n",
            "  Durbin-Watson statistic: 0.6037\n",
            "  Ljung-Box test p-value (lags=4): 6.7406\n",
            "\n",
            "Residual Analysis for Adapted Hybrid Kinetic JY Model on NHMM:\n",
            "  Durbin-Watson statistic: 0.0457\n",
            "  Ljung-Box test p-value (lags=4): 34.0279\n"
          ]
        }
      ],
      "source": [
        "from sklearn.model_selection import KFold\n",
        "from sklearn.metrics import r2_score, mean_squared_error, mean_absolute_error\n",
        "import numpy as np\n",
        "import statsmodels.api as sm\n",
        "from statsmodels.stats.stattools import durbin_watson\n",
        "from statsmodels.tsa.stattools import acf\n",
        "from scipy.stats import norm\n",
        "\n",
        "# Function to calculate Adjusted R-squared\n",
        "def calculate_adj_r2(y_true, y_pred, num_params):\n",
        "    r2 = r2_score(y_true, y_pred)\n",
        "    n = len(y_true)\n",
        "    k = num_params\n",
        "    # For a fixed-parameter model like the Hybrid model, k is the number of parameters in the equation (which are fixed, not fitted).\n",
        "    # However, the formula for Adjusted R-squared is primarily for fitted models.\n",
        "    # We can calculate it based on the R-squared, but interpret with caution for fixed-parameter models.\n",
        "    if n - k - 1 <= 0:\n",
        "        return np.nan # Avoid division by zero or negative\n",
        "    adj_r2 = 1 - (1 - r2) * (n - 1) / (n - k - 1)\n",
        "    return adj_r2\n",
        "\n",
        "# Function to perform K-Fold Cross-Validation for a given model and data\n",
        "def perform_kfold_cv(model_func, t_data, y_data, n_splits=5):\n",
        "    kf = KFold(n_splits=n_splits, shuffle=True, random_state=42)\n",
        "    r2_scores = []\n",
        "    rmse_scores = []\n",
        "    mae_scores = []\n",
        "    adj_r2_scores = []\n",
        "\n",
        "    for train_index, test_index in kf.split(t_data):\n",
        "        t_train, t_test = t_data[train_index], t_data[test_index]\n",
        "        y_train, y_test = y_data[train_index], y_data[test_index]\n",
        "\n",
        "        # Predictions are made using the fixed-parameter model on the test set\n",
        "        y_pred_test = model_func(t_test)\n",
        "\n",
        "        # Calculate metrics for this fold\n",
        "        r2_scores.append(r2_score(y_test, y_pred_test))\n",
        "        rmse_scores.append(np.sqrt(mean_squared_error(y_test, y_pred_test)))\n",
        "        # For the Hybrid model, the number of parameters is essentially the number of constants in the equation.\n",
        "        # We can count them or consider it a model with a fixed structure. Let's count the distinct constants.\n",
        "        # The Hybrid model has 9 distinct numerical constants.\n",
        "        num_params_hybrid = 9 # Number of fixed parameters in the Adapted Hybrid Kinetic JY Model\n",
        "\n",
        "        adj_r2_scores.append(calculate_adj_r2(y_test, y_pred_test, num_params=num_params_hybrid))\n",
        "        mae_scores.append(mean_absolute_error(y_test, y_pred_test))\n",
        "\n",
        "\n",
        "    return {\n",
        "        'Avg R-squared': np.mean(r2_scores),\n",
        "        'Avg Adjusted R-squared': np.mean(adj_r2_scores),\n",
        "        'Avg RMSE': np.mean(rmse_scores),\n",
        "        'Avg MAE': np.mean(mae_scores)\n",
        "    }\n",
        "\n",
        "# Perform K-Fold Cross-Validation for the Adapted Hybrid Kinetic JY Model on HM data\n",
        "print(\"K-Fold Cross-Validation Results for Adapted Hybrid Kinetic JY Model on HM:\")\n",
        "hybrid_cv_results_hm = perform_kfold_cv(adapted_hybrid_kinetic_jy_model, t_data, hm_data)\n",
        "for metric, value in hybrid_cv_results_hm.items():\n",
        "    print(f\"  {metric}: {value:.4f}\")\n",
        "\n",
        "# Perform K-Fold Cross-Validation for the Adapted Hybrid Kinetic JY Model on NHMM data\n",
        "print(\"\\nK-Fold Cross-Validation Results for Adapted Hybrid Kinetic JY Model on NHMM:\")\n",
        "hybrid_cv_results_nhmm = perform_kfold_cv(adapted_hybrid_kinetic_jy_model, t_data, nhmm_data)\n",
        "for metric, value in hybrid_cv_results_nhmm.items():\n",
        "    print(f\"  {metric}: {value:.4f}\")\n",
        "\n",
        "# Function to perform Residual Analysis\n",
        "def perform_residual_analysis(y_true, y_pred, model_name):\n",
        "    residuals = y_true - y_pred\n",
        "\n",
        "    # Durbin-Watson test for autocorrelation\n",
        "    dw_stat = durbin_watson(residuals)\n",
        "\n",
        "    # Ljung-Box test for autocorrelation in residuals\n",
        "    # We need to determine the lags to test. A common rule of thumb is min(10, n/5).\n",
        "    n = len(residuals)\n",
        "    lags_to_test = min(10, int(n/5))\n",
        "    lb_stat, lb_p_value = sm.tsa.stattools.acf(residuals, qstat=True, nlags=lags_to_test)[:2] # Corrected to use acf for Ljung-Box\n",
        "\n",
        "    print(f\"\\nResidual Analysis for {model_name}:\")\n",
        "    print(f\"  Durbin-Watson statistic: {dw_stat:.4f}\")\n",
        "    print(f\"  Ljung-Box test p-value (lags={lags_to_test}): {lb_p_value[-1]:.4f}\") # Report p-value for the maximum lag\n",
        "\n",
        "    # Store results for potential later summarization\n",
        "    return {'DW': dw_stat, 'LB_p': lb_p_value[-1]}\n",
        "\n",
        "\n",
        "# Perform Residual Analysis for Adapted Hybrid Kinetic JY Model on HM data\n",
        "res_results_hybrid_hm = perform_residual_analysis(hm_data, B_pred_hybrid_hm, \"Adapted Hybrid Kinetic JY Model on HM\")\n",
        "\n",
        "# Perform Residual Analysis for Adapted Hybrid Kinetic JY Model on NHMM data\n",
        "res_results_hybrid_nhmm = perform_residual_analysis(nhmm_data, B_pred_hybrid_nhmm, \"Adapted Hybrid Kinetic JY Model on NHMM\")"
      ]
    },
    {
      "cell_type": "code",
      "execution_count": null,
      "metadata": {
        "colab": {
          "base_uri": "https://localhost:8080/"
        },
        "id": "a500d56f",
        "outputId": "d4b707d8-db92-40bd-caa5-f0ef2d945d81"
      },
      "outputs": [
        {
          "output_type": "stream",
          "name": "stdout",
          "text": [
            "\n",
            "Performance of Adapted Hybrid Kinetic JY Model on HM:\n",
            "  R-squared: 0.9988\n",
            "  Adjusted R-squared: 0.9978\n",
            "  RMSE: 6.0890\n",
            "  MAE: 4.0979\n",
            "\n",
            "Performance of Adapted Hybrid Kinetic JY Model on NHMM:\n",
            "  R-squared: 0.9321\n",
            "  Adjusted R-squared: 0.8710\n",
            "  RMSE: 42.3540\n",
            "  MAE: 37.5358\n",
            "\n",
            "Performance of First-Order Model (fitted to HM) on HM:\n",
            "  R-squared: 0.9801\n",
            "  Adjusted R-squared: 0.9778\n",
            "  RMSE: 25.2828\n",
            "  MAE: 16.7315\n",
            "\n",
            "Performance of First-Order Model (fitted to HM) on NHMM:\n",
            "  R-squared: 0.9222\n",
            "  Adjusted R-squared: 0.9131\n",
            "  RMSE: 45.3303\n",
            "  MAE: 38.7780\n",
            "\n",
            "Performance of First-Order Model (fitted to NHMM) on NHMM:\n",
            "  R-squared: 0.9787\n",
            "  Adjusted R-squared: 0.9762\n",
            "  RMSE: 23.7048\n",
            "  MAE: 13.5696\n",
            "\n",
            "Performance of Second-Order Model (fitted to HM) on HM:\n",
            "  R-squared: 0.9967\n",
            "  Adjusted R-squared: 0.9960\n",
            "  RMSE: 10.3611\n",
            "  MAE: 6.6068\n",
            "\n",
            "Performance of Second-Order Model (fitted to HM) on NHMM:\n",
            "  R-squared: 0.9357\n",
            "  Adjusted R-squared: 0.9237\n",
            "  RMSE: 41.2095\n",
            "  MAE: 36.7276\n",
            "\n",
            "Performance of Second-Order Model (fitted to NHMM) on NHMM:\n",
            "  R-squared: 0.9941\n",
            "  Adjusted R-squared: 0.9931\n",
            "  RMSE: 12.4326\n",
            "  MAE: 8.6927\n",
            "\n",
            "--- Summary of Positive Cross-Referencing Validations for Adapted Hybrid Kinetic JY Model ---\n",
            "\n",
            "Cross-Referencing by Performance:\n",
            "  HM Performance:\n",
            "    R-squared: 0.9988\n",
            "    Adjusted R-squared: 0.9978\n",
            "    RMSE: 6.0890\n",
            "    MAE: 4.0979\n",
            "  NHMM Performance:\n",
            "    R-squared: 0.9321\n",
            "    Adjusted R-squared: 0.8710\n",
            "    RMSE: 42.3540\n",
            "    MAE: 37.5358\n",
            "\n",
            "Cross-Referencing by Comparison (Hybrid vs First-Order):\n",
            "  Hybrid on NHMM > First-Order (HM fitted) on NHMM:\n",
            "    Hybrid R-squared: 0.9321\n",
            "    First-Order (HM fitted) R-squared: 0.9222\n"
          ]
        }
      ],
      "source": [
        "# Cross-Referencing (Comparing Adapted Hybrid Kinetic JY Model with other models)\n",
        "\n",
        "# Function to calculate and store metrics for a given model and data\n",
        "def evaluate_model_performance(y_true, y_pred, model_name, data_name, num_params):\n",
        "    r2 = r2_score(y_true, y_pred)\n",
        "    rmse = np.sqrt(mean_squared_error(y_true, y_pred))\n",
        "    mae = mean_absolute_error(y_true, y_pred)\n",
        "    adj_r2 = calculate_adj_r2(y_true, y_pred, num_params) # Use the previously defined function\n",
        "\n",
        "    print(f\"\\nPerformance of {model_name} on {data_name}:\")\n",
        "    print(f\"  R-squared: {r2:.4f}\")\n",
        "    print(f\"  Adjusted R-squared: {adj_r2:.4f}\")\n",
        "    print(f\"  RMSE: {rmse:.4f}\")\n",
        "    print(f\"  MAE: {mae:.4f}\")\n",
        "\n",
        "    return {'R-squared': r2, 'Adjusted R-squared': adj_r2, 'RMSE': rmse, 'MAE': mae}\n",
        "\n",
        "# Evaluate Adapted Hybrid Kinetic JY Model on HM and NHMM\n",
        "num_params_hybrid = 9 # Number of fixed parameters in the Adapted Hybrid Kinetic JY Model\n",
        "performance_hybrid_hm = evaluate_model_performance(hm_data, B_pred_hybrid_hm, \"Adapted Hybrid Kinetic JY Model\", \"HM\", num_params_hybrid)\n",
        "performance_hybrid_nhmm = evaluate_model_performance(nhmm_data, B_pred_hybrid_nhmm, \"Adapted Hybrid Kinetic JY Model\", \"NHMM\", num_params_hybrid)\n",
        "\n",
        "# Evaluate First-Order Model on HM and NHMM (using fitted parameters)\n",
        "num_params_first_order = 2 # k, B_max\n",
        "performance_first_order_hm_on_hm = evaluate_model_performance(hm_data, B_pred_first_order_hm, \"First-Order Model (fitted to HM)\", \"HM\", num_params_first_order)\n",
        "performance_first_order_hm_on_nhmm = evaluate_model_performance(nhmm_data, odeint(biogas_rate_first_order, B0_first_order, t_data, args=(k_fit_first_order_hm, B_max_fit_first_order_hm))[:, 0], \"First-Order Model (fitted to HM)\", \"NHMM\", num_params_first_order)\n",
        "performance_first_order_nhmm_on_nhmm = evaluate_model_performance(nhmm_data, B_pred_first_order_nhmm, \"First-Order Model (fitted to NHMM)\", \"NHMM\", num_params_first_order)\n",
        "\n",
        "\n",
        "# Evaluate Second-Order Model on HM and NHMM (using fitted parameters)\n",
        "num_params_second_order = 3 # k1, k2, B_max\n",
        "performance_second_order_hm_on_hm = evaluate_model_performance(hm_data, B_pred_second_order_hm, \"Second-Order Model (fitted to HM)\", \"HM\", num_params_second_order)\n",
        "performance_second_order_hm_on_nhmm = evaluate_model_performance(nhmm_data, odeint(biogas_rate_second_order, y0_second_order, t_data, args=(k1_fit_second_order_hm, k2_fit_second_order_hm, B_max_fit_second_order_hm))[:, 0], \"Second-Order Model (fitted to HM)\", \"NHMM\", num_params_second_order)\n",
        "performance_second_order_nhmm_on_nhmm = evaluate_model_performance(nhmm_data, B_pred_second_order_nhmm, \"Second-Order Model (fitted to NHMM)\", \"NHMM\", num_params_second_order)\n",
        "\n",
        "\n",
        "# Determine positive validation criteria for Cross-Referencing\n",
        "# We can consider the Adapted Hybrid Kinetic JY Model as positively validated by Cross-Referencing\n",
        "# if it performs reasonably well (e.g., R-squared > threshold) on both datasets,\n",
        "# and/or if its performance is comparable to or better than the fitted differential models.\n",
        "r2_threshold = 0.8 # Example threshold for R-squared for positive validation\n",
        "\n",
        "positive_validations = {}\n",
        "\n",
        "# Check for positive validation by performance on HM and NHMM\n",
        "if performance_hybrid_hm['R-squared'] > r2_threshold and performance_hybrid_nhmm['R-squared'] > r2_threshold:\n",
        "    positive_validations['Cross-Referencing by Performance'] = {\n",
        "        'HM Performance': performance_hybrid_hm,\n",
        "        'NHMM Performance': performance_hybrid_nhmm\n",
        "    }\n",
        "\n",
        "# Check for positive validation by comparison to other models (example criteria)\n",
        "# If Hybrid model on NHMM is better than First-Order fitted to HM on NHMM\n",
        "if performance_hybrid_nhmm['R-squared'] > performance_first_order_hm_on_nhmm['R-squared']:\n",
        "     if 'Cross-Referencing by Comparison (Hybrid vs First-Order)' not in positive_validations:\n",
        "         positive_validations['Cross-Referencing by Comparison (Hybrid vs First-Order)'] = {}\n",
        "     positive_validations['Cross-Referencing by Comparison (Hybrid vs First-Order)']['Hybrid on NHMM > First-Order (HM fitted) on NHMM'] = {\n",
        "         'Hybrid R-squared': performance_hybrid_nhmm['R-squared'],\n",
        "         'First-Order (HM fitted) R-squared': performance_first_order_hm_on_nhmm['R-squared']\n",
        "     }\n",
        "\n",
        "# If Hybrid model on NHMM is better than Second-Order fitted to HM on NHMM\n",
        "if performance_hybrid_nhmm['R-squared'] > performance_second_order_hm_on_nhmm['R-squared']:\n",
        "    if 'Cross-Referencing by Comparison (Hybrid vs Second-Order)' not in positive_validations:\n",
        "         positive_validations['Cross-Referencing by Comparison (Hybrid vs Second-Order)'] = {}\n",
        "    positive_validations['Cross-Referencing by Comparison (Hybrid vs Second-Order)']['Hybrid on NHMM > Second-Order (HM fitted) on NHMM'] = {\n",
        "        'Hybrid R-squared': performance_hybrid_nhmm['R-squared'],\n",
        "        'Second-Order (HM fitted) R-squared': performance_second_order_hm_on_nhmm['R-squared']\n",
        "    }\n",
        "\n",
        "\n",
        "print(\"\\n--- Summary of Positive Cross-Referencing Validations for Adapted Hybrid Kinetic JY Model ---\")\n",
        "if positive_validations:\n",
        "    for validation_type, details in positive_validations.items():\n",
        "        print(f\"\\n{validation_type}:\")\n",
        "        for key, value in details.items():\n",
        "            if isinstance(value, dict):\n",
        "                print(f\"  {key}:\")\n",
        "                for metric, metric_value in value.items():\n",
        "                    print(f\"    {metric}: {metric_value:.4f}\")\n",
        "            else:\n",
        "                 print(f\"  {key}: {value:.4f}\")\n",
        "else:\n",
        "    print(\"No positive cross-referencing validations found based on the defined criteria.\")"
      ]
    },
    {
      "cell_type": "code",
      "execution_count": null,
      "metadata": {
        "colab": {
          "base_uri": "https://localhost:8080/",
          "height": 696
        },
        "id": "3bd4c6d6",
        "outputId": "d723e7fb-5c57-4bf0-c809-b030f7837ccc"
      },
      "outputs": [
        {
          "output_type": "display_data",
          "data": {
            "text/plain": [
              "<Figure size 1200x800 with 1 Axes>"
            ],
            "image/png": "[encoded data removed]"
          },
          "metadata": {}
        },
        {
          "output_type": "display_data",
          "data": {
            "text/plain": [
              "<IPython.core.display.Javascript object>"
            ],
            "application/javascript": [
              "\n",
              "    async function download(id, filename, size) {\n",
              "      if (!google.colab.kernel.accessAllowed) {\n",
              "        return;\n",
              "      }\n",
              "      const div = document.createElement('div');\n",
              "      const label = document.createElement('label');\n",
              "      label.textContent = `Downloading \"${filename}\": `;\n",
              "      div.appendChild(label);\n",
              "      const progress = document.createElement('progress');\n",
              "      progress.max = size;\n",
              "      div.appendChild(progress);\n",
              "      document.body.appendChild(div);\n",
              "\n",
              "      const buffers = [];\n",
              "      let downloaded = 0;\n",
              "\n",
              "      const channel = await google.colab.kernel.comms.open(id);\n",
              "      // Send a message to notify the kernel that we're ready.\n",
              "      channel.send({})\n",
              "\n",
              "      for await (const message of channel.messages) {\n",
              "        // Send a message to notify the kernel that we're ready.\n",
              "        channel.send({})\n",
              "        if (message.buffers) {\n",
              "          for (const buffer of message.buffers) {\n",
              "            buffers.push(buffer);\n",
              "            downloaded += buffer.byteLength;\n",
              "            progress.value = downloaded;\n",
              "          }\n",
              "        }\n",
              "      }\n",
              "      const blob = new Blob(buffers, {type: 'application/binary'});\n",
              "      const a = document.createElement('a');\n",
              "      a.href = window.URL.createObjectURL(blob);\n",
              "      a.download = filename;\n",
              "      div.appendChild(a);\n",
              "      a.click();\n",
              "      div.remove();\n",
              "    }\n",
              "  "
            ]
          },
          "metadata": {}
        },
        {
          "output_type": "display_data",
          "data": {
            "text/plain": [
              "<IPython.core.display.Javascript object>"
            ],
            "application/javascript": [
              "download(\"download_b8fcddc7-40dc-4925-b19d-e556a28a17dd\", \"composite_plot.tiff\", 138240206)"
            ]
          },
          "metadata": {}
        }
      ],
      "source": [
        "# Generate Composite Plot\n",
        "\n",
        "plt.figure(figsize=(12, 8)) # Adjust figure size as needed\n",
        "\n",
        "# Plot Experimental Data\n",
        "plt.plot(t_data, hm_data, 'o', label='Experimental Data (HM)', markersize=5)\n",
        "plt.plot(t_data, nhmm_data, 'x', label='Experimental Data (NHMM)', markersize=5)\n",
        "\n",
        "# Plot Adapted Hybrid Kinetic JY Model Predictions\n",
        "plt.plot(t_data, B_pred_hybrid_hm, '-', label='Adapted Hybrid Kinetic JY Model Prediction (HM)', linewidth=2)\n",
        "plt.plot(t_data, B_pred_hybrid_nhmm, '--', label='Adapted Hybrid Kinetic JY Model Prediction (NHMM)', linewidth=2)\n",
        "\n",
        "# Plot First-Order Model Predictions (fitted to HM and NHMM)\n",
        "plt.plot(t_data, B_pred_first_order_hm, ':', label='First-Order differential model (fitted to HM) Prediction (HM)', linewidth=1)\n",
        "plt.plot(t_data, B_pred_first_order_nhmm, '-.', label='First-Order differential model (fitted to NHMM) Prediction (NHMM)', linewidth=1)\n",
        "\n",
        "\n",
        "# Plot Second-Order Model Predictions (fitted to HM and NHMM)\n",
        "plt.plot(t_data, B_pred_second_order_hm, ':', label='Second-Order differential model (fitted to HM) Prediction (HM)', linewidth=1)\n",
        "plt.plot(t_data, B_pred_second_order_nhmm, '-.', label='Second-Order differential model (fitted to NHMM) Prediction (NHMM)', linewidth=1)\n",
        "\n",
        "\n",
        "plt.xlabel('HRT (d)')\n",
        "plt.ylabel('Biogas Yield (ml/g oTS)')\n",
        "# plt.title('Model Predictions vs. Experimental Data') # Removed title\n",
        "plt.legend()\n",
        "plt.grid(False) # Disable grid\n",
        "plt.xlim(0, t_data.max() * 1.1) # Set x-axis limit to start from 0\n",
        "plt.ylim(0, max(hm_data.max(), nhmm_data.max()) * 1.1) # Set y-axis limit to start from 0 and consider max of both datasets\n",
        "\n",
        "# Save and download as TIFF with high DPI\n",
        "plt.savefig('composite_plot.tiff', dpi=600, format='tiff')\n",
        "plt.show()\n",
        "\n",
        "from google.colab import files\n",
        "files.download('composite_plot.tiff')"
      ]
    },
    {
      "cell_type": "markdown",
      "metadata": {
        "id": "a8b2aedf"
      },
      "source": [
        "Here are the equations for the models actively used in the most recent validation and comparison process:\n",
        "\n",
        "**1. Adapted Hybrid Kinetic JY Model:**\n",
        "\n",
        "$$ B(t) = 0.9999 \\left(139.8849 \\left(1 - e^{-0.1972 t}\\right)\\right) + 0.1928 \\left(1450.8472 e^{-e^{\\left(\\frac{295.9918 \\times e}{1450.8472} (2.3982 - t) + 1\\right)}}\\right) + 0.9966 \\left(\\frac{142.5513}{1 + e^{\\left(\\frac{4 \\times 586.0430}{142.5513} (1.8306 - t) + 2\\right)}}\\right) $$\n",
        "\n",
        "**2. First-Order Differential Model:**\n",
        "\n",
        "$$ \\frac{dB}{dt} = k (B_{max} - B) $$\n",
        "\n",
        "The solution used for fitting is:\n",
        "\n",
        "$$ B(t) = B_{max} (1 - e^{-k t}) $$\n",
        "\n",
        "**3. Second-Order Differential Model:**\n",
        "\n",
        "$$ \\frac{d^2B}{dt^2} = k_1 (B_{max} - B) - k_2 \\frac{dB}{dt} $$\n",
        "\n",
        "Where:\n",
        "- $B(t)$: Cumulative biogas yield at time $t$.\n",
        "- $t$: Time (HRT in days).\n",
        "- $k, k_1, k_2$: Rate constants.\n",
        "- $B_{max}$: Maximum biogas potential.\n",
        "- $e$: The mathematical constant approximately equal to 2.7183."
      ]
    }
  ],
  "metadata": {
    "colab": {
      "provenance": [],
      "authorship_tag": "ABX9TyO/L/XcpHx7/U4xY9OS+k1X",
      "include_colab_link": true
    },
    "kernelspec": {
      "display_name": "Python 3",
      "name": "python3"
    },
    "language_info": {
      "name": "python"
    }
  },
  "nbformat": 4,
  "nbformat_minor": 0
}