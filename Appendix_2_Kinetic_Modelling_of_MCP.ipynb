{
  "nbformat": 4,
  "nbformat_minor": 0,
  "metadata": {
    "colab": {
      "provenance": [],
      "authorship_tag": "ABX9TyNpGwm5G2BXYnCa2mNnSyp0",
      "include_colab_link": true
    },
    "kernelspec": {
      "name": "python3",
      "display_name": "Python 3"
    },
    "language_info": {
      "name": "python"
    }
  },
  "cells": [
    {
      "cell_type": "markdown",
      "metadata": {
        "id": "view-in-github",
        "colab_type": "text"
      },
      "source": [
        "<a href=\"https://colab.research.google.com/github/yankyerajoseph/yankyerajoseph/blob/main/Appendix_2_Kinetic_Modelling_of_MCP.ipynb\" target=\"_parent\"><img src=\"https://colab.research.google.com/assets/colab-badge.svg\" alt=\"Open In Colab\"/></a>"
      ]
    },
    {
      "cell_type": "code",
      "source": [
        "import numpy as np\n",
        "import matplotlib.pyplot as plt\n",
        "from scipy.optimize import curve_fit\n",
        "import pandas as pd\n",
        "from google.colab import files\n",
        "\n",
        "#Read csv data relating to b. Biogas yield data in ml/ g oTS for fibrous materials (YCPM: MCP, MPP)\n",
        "import pandas as pd\n",
        "from google.colab import drive\n",
        "drive.mount('/content/drive')\n",
        "file_path = '/content/drive/MyDrive/SummaryofBY/DSFibrous.csv'\n",
        "cleaned_data = data.dropna()\n",
        "print (\"Biogas yield of three variants of fibrous waste in ml/g oTS: YCPM: Milled mixture of Yam, Cassava, Plantain Peels, MCP: Milled Cassava Peels, MPP: Milled Plantain Peels\")\n"
      ],
      "metadata": {
        "colab": {
          "base_uri": "https://localhost:8080/"
        },
        "id": "MSQr1VuCTi6F",
        "outputId": "65a01c0d-ace5-4b23-a1f5-420deb2ef28c"
      },
      "execution_count": null,
      "outputs": [
        {
          "output_type": "stream",
          "name": "stdout",
          "text": [
            "Drive already mounted at /content/drive; to attempt to forcibly remount, call drive.mount(\"/content/drive\", force_remount=True).\n",
            "Biogas yield of three variants of fibrous waste in ml/g oTS: YCPM: Milled mixture of Yam, Cassava, Plantain Peels, MCP: Milled Cassava Peels, MPP: Milled Plantain Peels\n"
          ]
        }
      ]
    },
    {
      "cell_type": "code",
      "execution_count": null,
      "metadata": {
        "colab": {
          "base_uri": "https://localhost:8080/"
        },
        "id": "ARSnTRHsTT65",
        "outputId": "f4440101-e1c3-4ca2-a1d1-86bbeb288c81"
      },
      "outputs": [
        {
          "output_type": "stream",
          "name": "stdout",
          "text": [
            "Fitted parameters for Logistic model: [216.95071615   1.54886921   1.31356359]\n",
            "Standard errors for Logistic model: [2.45398775 0.18594555 0.06724995]\n",
            "95% Confidence intervals for Logistic model: (array([211.90647209,   1.16665267,   1.17532933]), array([221.9949602 ,   1.93108576,   1.45179785]))\n"
          ]
        }
      ],
      "source": [
        "from scipy.stats import t\n",
        "from scipy.optimize import curve_fit # Import curve_fit\n",
        "\n",
        "# Define the logistic model function\n",
        "def logistic_model(t, P0, um, lambd):\n",
        "  \"\"\"\n",
        "  Logistic growth model for biogas production.\n",
        "\n",
        "  Args:\n",
        "    t: Time (days).\n",
        "    P0: Maximum biogas potential (ml/g oTS).\n",
        "    um: Maximum specific biogas production rate (day⁻¹).\n",
        "    lambd: Lag phase period (days).\n",
        "\n",
        "  Returns:\n",
        "    Cumulative biogas production at time t.\n",
        "  \"\"\"\n",
        "  return P0 / (1 + np.exp(um * (lambd - t)))\n",
        "\n",
        "\n",
        "# Extract and filter data for the first 40 days HRT for MCP\n",
        "time_data = data['HRT (d)'].values\n",
        "biogas_data_mcp = data['Biogas Yield of MCP (ml/g oTS)'].values\n",
        "\n",
        "mask_40 = time_data <= 40\n",
        "time_data_40 = time_data[mask_40]\n",
        "biogas_data_mcp_40 = biogas_data_mcp[mask_40]\n",
        "\n",
        "\n",
        "# Define initial guesses for Logistic model parameters\n",
        "# Based on visual inspection of the 40-day MCP data\n",
        "max_biogas_40 = biogas_data_mcp_40.max() # Use max for 40 days\n",
        "P0_init_logistic = max_biogas_40 * 1.1 # Slightly higher than max observed\n",
        "um_init_logistic = 0.5 # Rate constant\n",
        "lambda_init_logistic = 1.0 # Lag phase\n",
        "\n",
        "# Fit the logistic_model\n",
        "params_logistic, covariance_logistic = curve_fit(\n",
        "    logistic_model,\n",
        "    time_data_40,\n",
        "    biogas_data_mcp_40,\n",
        "    p0=[P0_init_logistic, um_init_logistic, lambda_init_logistic],\n",
        "    maxfev=50000\n",
        ")\n",
        "\n",
        "# Calculate standard errors for Logistic model\n",
        "perr_logistic = np.sqrt(np.diag(covariance_logistic))\n",
        "\n",
        "# Calculate 95% confidence intervals for Logistic model\n",
        "alpha = 0.05  # 95% confidence level (already defined)\n",
        "n_40 = len(time_data_40) # Number of data points (using 40-day data length)\n",
        "p_logistic = len(params_logistic) # Number of parameters\n",
        "dof_logistic = n_40 - p_logistic # Degrees of freedom\n",
        "t_crit_logistic = np.abs(t.ppf(alpha/2, dof_logistic)) # t-critical value\n",
        "\n",
        "ci_logistic = (params_logistic - t_crit_logistic * perr_logistic, params_logistic + t_crit_logistic * perr_logistic)\n",
        "\n",
        "\n",
        "print(\"Fitted parameters for Logistic model:\", params_logistic)\n",
        "print(\"Standard errors for Logistic model:\", perr_logistic)\n",
        "print(\"95% Confidence intervals for Logistic model:\", ci_logistic)"
      ]
    },
    {
      "cell_type": "code",
      "source": [
        "# Assume 'data' DataFrame is already loaded and contains 'HRT (d)' and 'Biogas Yield of MCP (ml/g oTS)'\n",
        "\n",
        "time_data = data['HRT (d)'].values\n",
        "biogas_data_mcp = data['Biogas Yield of MCP (ml/g oTS)'].values\n",
        "\n",
        "mask_19 = time_data <= 19\n",
        "time_data_19 = time_data[mask_19]\n",
        "biogas_data_mcp_19 = biogas_data_mcp[mask_19]\n",
        "\n",
        "print(\"Time data for MCP (<= 19 days):\")\n",
        "print(time_data_19)\n",
        "print(\"\\nBiogas data for MCP (<= 19 days):\")\n",
        "print(biogas_data_mcp_19)"
      ],
      "metadata": {
        "colab": {
          "base_uri": "https://localhost:8080/"
        },
        "id": "xnqjpac5T_pZ",
        "outputId": "cc92c92f-ebf5-4da5-d9d4-0b47e8f91f55"
      },
      "execution_count": null,
      "outputs": [
        {
          "output_type": "stream",
          "name": "stdout",
          "text": [
            "Time data for MCP (<= 19 days):\n",
            "[ 0.    0.79  0.95  1.08  1.65  1.88  2.7   3.69  3.89  4.83  5.75  6.78\n",
            "  8.05 10.04 11.94 12.99 13.88 15.08 17.79]\n",
            "\n",
            "Biogas data for MCP (<= 19 days):\n",
            "[  0.    43.71  87.17 112.05 149.06 152.54 170.72 191.61 202.06 206.05\n",
            " 212.76 217.01 219.98 222.43 222.04 221.66 221.66 221.27 220.62]\n"
          ]
        }
      ]
    },
    {
      "cell_type": "code",
      "source": [
        "from scipy.optimize import curve_fit\n",
        "from scipy.stats import t\n",
        "import numpy as np\n",
        "\n",
        "# Define the new Hybrid model (50% First-order + 50% Modified Gompertz)\n",
        "def hybrid_50_50_model(t, P0_fo, k_fo, P0_mg, um_mg, lambda_mg):\n",
        "  \"\"\"\n",
        "  Hybrid kinetic model combining 50% First-order and 50% Modified Gompertz.\n",
        "\n",
        "  Args:\n",
        "    t: Time (days).\n",
        "    P0_fo: Maximum biogas potential for First-order part (ml/g oTS).\n",
        "    k_fo: Rate constant for First-order part (day⁻¹).\n",
        "    P0_mg: Maximum biogas potential for Modified Gompertz part (ml/g oTS).\n",
        "    um_mg: Maximum specific biogas production rate for Modified Gompertz part (mL/g oTS/day).\n",
        "    lambda_mg: Lag phase period for Modified Gompertz part (days).\n",
        "\n",
        "  Returns:\n",
        "    Cumulative biogas production at time t.\n",
        "  \"\"\"\n",
        "  # First-order model component\n",
        "  biogas_fo = P0_fo * (1 - np.exp(-k_fo * t))\n",
        "\n",
        "  # Modified Gompertz model component\n",
        "  # Ensure the exponential term inside the outer exp is handled for small or negative values of (t - lambda_mg)\n",
        "  exponent_mg = um_mg * np.e / P0_mg * (lambda_mg - t)\n",
        "  biogas_mg = P0_mg * np.exp(-np.exp(exponent_mg + 1)) # Adding 1 to match the standard form some places use\n",
        "\n",
        "  # Combine the two components with a 50/50 weighting\n",
        "  return 0.5 * biogas_fo + 0.5 * biogas_mg\n",
        "\n",
        "\n",
        "# Assume time_data_19 and biogas_data_mcp_19 are already defined\n",
        "\n",
        "# Define initial guesses for the new Hybrid model parameters\n",
        "# The new hybrid model has 5 parameters: P0_fo, k_fo, P0_mg, um_mg, lambda_mg\n",
        "# We can base initial guesses on the previous fits of the individual models to the 40-day data,\n",
        "# adjusting for the 19-day range if necessary.\n",
        "\n",
        "# Initial guesses for First-order part\n",
        "P0_init_fo_hybrid = biogas_data_mcp_19.max() * 0.5 # Half of max biogas for the first part\n",
        "k_init_fo_hybrid = 0.5 # Rate constant\n",
        "\n",
        "# Initial guesses for Modified Gompertz part\n",
        "P0_init_mg_hybrid = biogas_data_mcp_19.max() * 0.5 # Half of max biogas for the second part\n",
        "um_init_mg_hybrid = 30 # Max specific rate\n",
        "lambda_init_mg_hybrid = 0.2 # Lag phase\n",
        "\n",
        "initial_guesses_hybrid_50_50 = [P0_init_fo_hybrid, k_init_fo_hybrid, P0_init_mg_hybrid, um_init_mg_hybrid, lambda_init_mg_hybrid]\n",
        "\n",
        "\n",
        "# Fit the hybrid_50_50_model\n",
        "params_hybrid_50_50, covariance_hybrid_50_50 = curve_fit(\n",
        "    hybrid_50_50_model,\n",
        "    time_data_19,\n",
        "    biogas_data_mcp_19,\n",
        "    p0=initial_guesses_hybrid_50_50,\n",
        "    maxfev=50000\n",
        ")\n",
        "\n",
        "# Calculate standard errors for the new Hybrid model\n",
        "perr_hybrid_50_50 = np.sqrt(np.diag(covariance_hybrid_50_50))\n",
        "\n",
        "# Calculate 95% confidence intervals for the new Hybrid model\n",
        "alpha = 0.05  # 95% confidence level (already defined)\n",
        "n_19 = len(time_data_19) # Number of data points (using 19-day data length)\n",
        "p_hybrid_50_50 = len(params_hybrid_50_50) # Number of parameters\n",
        "dof_hybrid_50_50 = n_19 - p_hybrid_50_50 # Degrees of freedom\n",
        "\n",
        "# Ensure degrees of freedom are non-negative\n",
        "if dof_hybrid_50_50 < 0:\n",
        "    print(\"Warning: Degrees of freedom is negative. Confidence intervals may not be meaningful.\")\n",
        "    t_crit_hybrid_50_50 = np.nan # Cannot calculate t-critical\n",
        "    ci_hybrid_50_50 = (np.full_like(params_hybrid_50_50, np.nan), np.full_like(params_hybrid_50_50, np.nan))\n",
        "else:\n",
        "    t_crit_hybrid_50_50 = np.abs(t.ppf(alpha/2, dof_hybrid_50_50)) # t-critical value\n",
        "    ci_hybrid_50_50 = (params_hybrid_50_50 - t_crit_hybrid_50_50 * perr_hybrid_50_50, params_hybrid_50_50 + t_crit_hybrid_50_50 * perr_hybrid_50_50)\n",
        "\n",
        "\n",
        "print(\"Fitted parameters for new Hybrid (50/50) model:\", params_hybrid_50_50)\n",
        "print(\"Standard errors for new Hybrid (50/50) model:\", perr_hybrid_50_50)\n",
        "print(\"95% Confidence intervals for new Hybrid (50/50) model:\", ci_hybrid_50_50)"
      ],
      "metadata": {
        "colab": {
          "base_uri": "https://localhost:8080/"
        },
        "id": "FOeZ853hUD3N",
        "outputId": "259c812b-fd55-40c1-bd77-41a1a7c075fe"
      },
      "execution_count": null,
      "outputs": [
        {
          "output_type": "stream",
          "name": "stdout",
          "text": [
            "Fitted parameters for new Hybrid (50/50) model: [3.12249572e+02 4.39199596e-01 1.34269058e+02 5.09146068e+02\n",
            " 8.23578102e-01]\n",
            "Standard errors for new Hybrid (50/50) model: [1.61712215e+01 2.41374588e-02 1.66530082e+01 1.08198472e+02\n",
            " 4.56035501e-02]\n",
            "95% Confidence intervals for new Hybrid (50/50) model: (array([277.5657511 ,   0.3874299 ,  98.55190772, 277.08342422,\n",
            "         0.72576821]), array([3.46933392e+02, 4.90969297e-01, 1.69986208e+02, 7.41208711e+02,\n",
            "       9.21387989e-01]))\n"
          ]
        }
      ]
    },
    {
      "cell_type": "code",
      "source": [
        "import matplotlib.pyplot as plt\n",
        "import numpy as np\n",
        "\n",
        "# Assume time_data_19, biogas_data_mcp_19 are already defined\n",
        "# Assume params_fo_19, params_mg_19, params_hybrid_19, params_logistic_19, params_hybrid_50_50 are already defined\n",
        "# Assume model functions are already defined (first_order_model, modified_gompertz_model, hybrid_model, logistic_model, hybrid_50_50_model)\n",
        "\n",
        "# Generate time points for plotting the fitted curves (up to 19 days)\n",
        "time_model_19 = np.linspace(0, 19, 600)\n",
        "\n",
        "# Calculate biogas production values for each model using parameters fitted to 19-day data\n",
        "biogas_model_fo_19 = first_order_model(time_model_19, *params_fo_19)\n",
        "biogas_model_mg_19 = modified_gompertz_model(time_model_19, *params_mg_19)\n",
        "# biogas_model_hybrid_19 = hybrid_model(time_model_19, *params_hybrid_19) # Removed Two-Phase Exponential\n",
        "biogas_model_logistic_19 = logistic_model(time_model_19, *params_logistic_19)\n",
        "biogas_model_hybrid_50_50 = hybrid_50_50_model(time_model_19, *params_hybrid_50_50)\n",
        "\n",
        "\n",
        "# Create the plot\n",
        "plt.figure(figsize=(12, 8))\n",
        "\n",
        "# Plot experimental data (up to 19 days)\n",
        "plt.plot(time_data_19, biogas_data_mcp_19, 'o', label=\"Experimental Data\", color='darkgreen', alpha=0.6)\n",
        "\n",
        "# Plot fitted curves for all models\n",
        "plt.plot(time_model_19, biogas_model_fo_19, '-', label=f\"First-order Model\", color='red', linewidth=2)\n",
        "plt.plot(time_model_19, biogas_model_mg_19, '-', label=f\"Modified Gompertz Model\", color='blue', linewidth=2)\n",
        "# plt.plot(time_model_19, biogas_model_hybrid_19, '-', label=f\"Two-Phase Exponential Model\", color='purple', linewidth=2) # Removed Two-Phase Exponential plot\n",
        "plt.plot(time_model_19, biogas_model_logistic_19, '-', label=f\"Logistic Growth Model\", color='orange', linewidth=2) # Label changed to Logistic Growth Model\n",
        "plt.plot(time_model_19, biogas_model_hybrid_50_50, '-', label=f\"Hybrid Model\", color='cyan', linewidth=2) # Label changed to Hybrid (FO + MG)\n",
        "\n",
        "\n",
        "# Add labels\n",
        "plt.xlabel(\"Time (D)\")\n",
        "plt.ylabel(\"Biogas Yield (mL/g oTS)\")\n",
        "plt.legend(loc='lower right')\n",
        "plt.grid(False)\n",
        "\n",
        "# Set axis limits to start from origin and limit to 19 days\n",
        "plt.xlim(0, 19)\n",
        "plt.ylim(0)\n",
        "\n",
        "# Save plot as TIFF BEFORE showing it\n",
        "plt.savefig('MCP_kinetic_models_19days_revised.tif', dpi=600, format='tif') # Changed filename to indicate revision\n",
        "\n",
        "plt.show()"
      ],
      "metadata": {
        "colab": {
          "base_uri": "https://localhost:8080/",
          "height": 696
        },
        "id": "4_mhgCyqUJ_O",
        "outputId": "ce238255-9b1b-4cba-ab0b-f7f312cf7eb4"
      },
      "execution_count": null,
      "outputs": [
        {
          "output_type": "display_data",
          "data": {
            "text/plain": [
              "<Figure size 1200x800 with 1 Axes>"
            ],
            "image/png": "[encoded data removed]"
          },
          "metadata": {}
        }
      ]
    },
    {
      "cell_type": "code",
      "metadata": {
        "id": "a863f7cd"
      },
      "source": [
        "# Define the First-order model function\n",
        "def first_order_model(t, P0, k):\n",
        "    \"\"\"\n",
        "    First-order kinetic model for biogas production.\n",
        "\n",
        "    Args:\n",
        "      t: Time (days).\n",
        "      P0: Maximum biogas potential (ml/g oTS).\n",
        "      k: Rate constant (day⁻¹).\n",
        "\n",
        "    Returns:\n",
        "      Cumulative biogas production at time t.\n",
        "    \"\"\"\n",
        "    return P0 * (1 - np.exp(-k * t))\n",
        "\n",
        "# Define the Modified Gompertz model function\n",
        "def modified_gompertz_model(t, P0, um, lambd):\n",
        "    \"\"\"\n",
        "    Modified Gompertz kinetic model for biogas production.\n",
        "\n",
        "    Args:\n",
        "      t: Time (days).\n",
        "      P0: Maximum biogas potential (ml/g oTS).\n",
        "      um: Maximum specific biogas production rate (ml/g oTS/day).\n",
        "      lambd: Lag phase period (days).\n",
        "\n",
        "    Returns:\n",
        "      Cumulative biogas production at time t.\n",
        "    \"\"\"\n",
        "    # Avoid issues with log(0) or division by zero by adding a small epsilon\n",
        "    return P0 * np.exp(-np.exp(um * np.e / (P0 + 1e-9) * (lambd - t) + 1))\n",
        "\n",
        "\n",
        "# Define the Logistic model function\n",
        "def logistic_model(t, P0, um, lambd):\n",
        "  \"\"\"\n",
        "  Logistic growth model for biogas production.\n",
        "\n",
        "  Args:\n",
        "    t: Time (days).\n",
        "    P0: Maximum biogas potential (ml/g oTS).\n",
        "    um: Maximum specific biogas production rate (day⁻¹).\n",
        "    lambd: Lag phase period (days).\n",
        "\n",
        "  Returns:\n",
        "    Cumulative biogas production at time t.\n",
        "  \"\"\"\n",
        "  return P0 / (1 + np.exp(um * (lambd - t)))"
      ],
      "execution_count": null,
      "outputs": []
    },
    {
      "cell_type": "code",
      "metadata": {
        "id": "b064cad4"
      },
      "source": [
        "# Assume time_data_19 and biogas_data_mcp_19 are already defined\n",
        "\n",
        "# Fit the First-order model to 19-day data\n",
        "# Initial guesses for First-order model\n",
        "P0_init_fo = biogas_data_mcp_19.max()\n",
        "k_init_fo = 0.1\n",
        "params_fo_19, covariance_fo_19 = curve_fit(first_order_model, time_data_19, biogas_data_mcp_19, p0=[P0_init_fo, k_init_fo], maxfev=50000)\n",
        "\n",
        "# Fit the Modified Gompertz model to 19-day data\n",
        "# Initial guesses for Modified Gompertz model\n",
        "P0_init_mg = biogas_data_mcp_19.max()\n",
        "um_init_mg = 10\n",
        "lambda_init_mg = 0.5\n",
        "params_mg_19, covariance_mg_19 = curve_fit(modified_gompertz_model, time_data_19, biogas_data_mcp_19, p0=[P0_init_mg, um_init_mg, lambda_init_mg], maxfev=50000)\n",
        "\n",
        "# Fit the Logistic model to 19-day data\n",
        "# Initial guesses for Logistic model\n",
        "P0_init_logistic = biogas_data_mcp_19.max() * 1.1\n",
        "um_init_logistic = 0.5\n",
        "lambda_init_logistic = 1.0\n",
        "params_logistic_19, covariance_logistic_19 = curve_fit(logistic_model, time_data_19, biogas_data_mcp_19, p0=[P0_init_logistic, um_init_logistic, lambda_init_logistic], maxfev=50000)\n",
        "\n",
        "# Note: params_hybrid_19 and covariance_hybrid_19 are for the Two-Phase Exponential Model\n",
        "# The Two-Phase Exponential Model is not being plotted in cell 4_mhgCyqUJ_O\n",
        "# If you need to fit the Two-Phase Exponential Model to 19-day data, you'll need to define that function and fit it here as well."
      ],
      "execution_count": null,
      "outputs": []
    },
    {
      "cell_type": "code",
      "source": [
        "from google.colab import files\n",
        "\n",
        "# Assuming the latest plot saved is 'MCP_kinetic_models_19days_revised.tif'\n",
        "file_name = 'MCP_kinetic_models_19days_revised.tif'\n",
        "\n",
        "try:\n",
        "    files.download(file_name)\n",
        "    print(f\"Downloaded: {file_name}\")\n",
        "except FileNotFoundError:\n",
        "    print(f\"Error: File not found - {file_name}. Please ensure the cell that generates this file has been executed.\")\n",
        "except Exception as e:\n",
        "    print(f\"An error occurred while downloading {file_name}: {e}\")"
      ],
      "metadata": {
        "colab": {
          "base_uri": "https://localhost:8080/",
          "height": 34
        },
        "id": "-b0B9eXjUN-y",
        "outputId": "a6c7367c-4bbe-4d10-b301-32e2c2a9b118"
      },
      "execution_count": null,
      "outputs": [
        {
          "output_type": "display_data",
          "data": {
            "text/plain": [
              "<IPython.core.display.Javascript object>"
            ],
            "application/javascript": [
              "\n",
              "    async function download(id, filename, size) {\n",
              "      if (!google.colab.kernel.accessAllowed) {\n",
              "        return;\n",
              "      }\n",
              "      const div = document.createElement('div');\n",
              "      const label = document.createElement('label');\n",
              "      label.textContent = `Downloading \"${filename}\": `;\n",
              "      div.appendChild(label);\n",
              "      const progress = document.createElement('progress');\n",
              "      progress.max = size;\n",
              "      div.appendChild(progress);\n",
              "      document.body.appendChild(div);\n",
              "\n",
              "      const buffers = [];\n",
              "      let downloaded = 0;\n",
              "\n",
              "      const channel = await google.colab.kernel.comms.open(id);\n",
              "      // Send a message to notify the kernel that we're ready.\n",
              "      channel.send({})\n",
              "\n",
              "      for await (const message of channel.messages) {\n",
              "        // Send a message to notify the kernel that we're ready.\n",
              "        channel.send({})\n",
              "        if (message.buffers) {\n",
              "          for (const buffer of message.buffers) {\n",
              "            buffers.push(buffer);\n",
              "            downloaded += buffer.byteLength;\n",
              "            progress.value = downloaded;\n",
              "          }\n",
              "        }\n",
              "      }\n",
              "      const blob = new Blob(buffers, {type: 'application/binary'});\n",
              "      const a = document.createElement('a');\n",
              "      a.href = window.URL.createObjectURL(blob);\n",
              "      a.download = filename;\n",
              "      div.appendChild(a);\n",
              "      a.click();\n",
              "      div.remove();\n",
              "    }\n",
              "  "
            ]
          },
          "metadata": {}
        },
        {
          "output_type": "display_data",
          "data": {
            "text/plain": [
              "<IPython.core.display.Javascript object>"
            ],
            "application/javascript": [
              "download(\"download_064dc6b0-5a0f-461c-a0b2-ef630c36eeb7\", \"MCP_kinetic_models_19days_revised.tif\", 138240206)"
            ]
          },
          "metadata": {}
        },
        {
          "output_type": "stream",
          "name": "stdout",
          "text": [
            "Downloaded: MCP_kinetic_models_19days_revised.tif\n"
          ]
        }
      ]
    },
    {
      "cell_type": "code",
      "source": [
        "from sklearn.metrics import r2_score, mean_squared_error # Import necessary evaluation metrics\n",
        "\n",
        "# Evaluate the new Hybrid model (50% First-order + 50% Modified Gompertz)\n",
        "biogas_model_eval_hybrid_50_50 = hybrid_50_50_model(time_data_19, *params_hybrid_50_50) # Use 19-day data for evaluation\n",
        "r2_hybrid_50_50 = r2_score(biogas_data_mcp_19, biogas_model_eval_hybrid_50_50) # Use 19-day data for evaluation\n",
        "rmse_hybrid_50_50 = np.sqrt(mean_squared_error(biogas_data_mcp_19, biogas_model_eval_hybrid_50_50))\n",
        "\n",
        "print(f\"New Hybrid Model (50/50) (19 days) - R-squared: {r2_hybrid_50_50:.4f}, RMSE: {rmse_hybrid_50_50:.4f}\")\n",
        "\n",
        "# Print fitted equations for all models (19 days)\n",
        "print(\"\\nFitted Model Equations (19 days HRT):\")\n",
        "\n",
        "# First-order model equation\n",
        "print(f\"First-order Model: B(t) = {params_fo_19[0]:.2f} * (1 - exp(-{params_fo_19[1]:.2f} * t))\")\n",
        "\n",
        "# Modified Gompertz model equation\n",
        "print(f\"Modified Gompertz Model: B(t) = {params_mg_19[0]:.2f} * exp(-exp({params_mg_19[1]:.2f} * np.e / {params_mg_19[0]:.2f} * ({params_mg_19[2]:.2f} - t) + 1))\")\n",
        "\n",
        "# Hybrid model equation (Two-Phase Exponential) - Using parameters fitted to 19-day data\n",
        "# Removed as per plot update\n",
        "# print(f\"Two-Phase Exponential Model: B(t) = {params_hybrid_19[0]:.2f} * (1 - exp(-{params_hybrid_19[2]:.2f} * (t - {params_hybrid_19[4]:.2f}))) * (t >= {params_hybrid_19[4]:.2f}) + {params_hybrid_19[1]:.2f} * (1 - exp(-{params_hybrid_19[3]:.2f} * (t - {params_hybrid_19[5]:.2f}))) * (t >= {params_hybrid_19[5]:.2f})\")\n",
        "\n",
        "# Logistic model equation\n",
        "print(f\"Logistic Growth Model: B(t) = {params_logistic_19[0]:.2f} / (1 + exp({params_logistic_19[1]:.2f} * ({params_logistic_19[2]:.2f} - t)))\")\n",
        "\n",
        "# New Hybrid model equation (50% First-order + 50% Modified Gompertz)\n",
        "print(f\"Hybrid Model: B(t) = 0.5 * ({params_hybrid_50_50[0]:.2f} * (1 - exp(-{params_hybrid_50_50[1]:.2f} * t))) + 0.5 * ({params_hybrid_50_50[2]:.2f} * exp(-exp({params_hybrid_50_50[3]:.2f} * np.e / {params_hybrid_50_50[2]:.2f} * ({params_hybrid_50_50[4]:.2f} - t) + 1)))\")\n"
      ],
      "metadata": {
        "colab": {
          "base_uri": "https://localhost:8080/"
        },
        "id": "UmS8r6tGURPp",
        "outputId": "4a1cbf0e-40de-479a-bfcb-d60d7d2f9b09"
      },
      "execution_count": null,
      "outputs": [
        {
          "output_type": "stream",
          "name": "stdout",
          "text": [
            "New Hybrid Model (50/50) (19 days) - R-squared: 0.9984, RMSE: 2.5867\n",
            "\n",
            "Fitted Model Equations (19 days HRT):\n",
            "First-order Model: B(t) = 222.33 * (1 - exp(-0.56 * t))\n",
            "Modified Gompertz Model: B(t) = 216.57 * exp(-exp(88.54 * np.e / 216.57 * (0.04 - t) + 1))\n",
            "Logistic Growth Model: B(t) = 214.56 / (1 + exp(1.62 * (1.29 - t)))\n",
            "Hybrid Model: B(t) = 0.5 * (312.25 * (1 - exp(-0.44 * t))) + 0.5 * (134.27 * exp(-exp(509.15 * np.e / 134.27 * (0.82 - t) + 1)))\n"
          ]
        }
      ]
    },
    {
      "cell_type": "code",
      "metadata": {
        "colab": {
          "base_uri": "https://localhost:8080/"
        },
        "id": "5854f4c3",
        "outputId": "de21f107-1b24-4a08-ae27-605b4957ff2b"
      },
      "source": [
        "from sklearn.metrics import r2_score, mean_squared_error\n",
        "\n",
        "# Assume time_data_19 and biogas_data_mcp_19 are already defined\n",
        "# Assume params_fo_19, params_mg_19, params_logistic_19, params_hybrid_50_50, params_hybrid_19 are already defined\n",
        "# Assume model functions are already defined (first_order_model, modified_gompertz_model, logistic_model, hybrid_50_50_model, hybrid_model)\n",
        "\n",
        "\n",
        "print(\"Model Evaluation Metrics (19 days HRT for MCP):\")\n",
        "\n",
        "# Evaluate First-order model (19 days)\n",
        "biogas_model_eval_fo_19 = first_order_model(time_data_19, *params_fo_19)\n",
        "r2_fo_19 = r2_score(biogas_data_mcp_19, biogas_model_eval_fo_19)\n",
        "rmse_fo_19 = np.sqrt(mean_squared_error(biogas_data_mcp_19, biogas_model_eval_fo_19))\n",
        "print(f\"First-order Model - R-squared: {r2_fo_19:.4f}, RMSE: {rmse_fo_19:.4f}\")\n",
        "\n",
        "# Evaluate Modified Gompertz model (19 days)\n",
        "biogas_model_eval_mg_19 = modified_gompertz_model(time_data_19, *params_mg_19)\n",
        "r2_mg_19 = r2_score(biogas_data_mcp_19, biogas_model_eval_mg_19)\n",
        "rmse_mg_19 = np.sqrt(mean_squared_error(biogas_data_mcp_19, biogas_model_eval_mg_19))\n",
        "print(f\"Modified Gompertz Model - R-squared: {r2_mg_19:.4f}, RMSE: {rmse_mg_19:.4f}\")\n",
        "\n",
        "# Evaluate Logistic model (19 days)\n",
        "biogas_model_eval_logistic_19 = logistic_model(time_data_19, *params_logistic_19)\n",
        "r2_logistic_19 = r2_score(biogas_data_mcp_19, biogas_model_eval_logistic_19)\n",
        "rmse_logistic_19 = np.sqrt(mean_squared_error(biogas_data_mcp_19, biogas_model_eval_logistic_19))\n",
        "print(f\"Logistic Growth Model - R-squared: {r2_logistic_19:.4f}, RMSE: {rmse_logistic_19:.4f}\")\n",
        "\n",
        "# Evaluate Hybrid (50/50) model (19 days)\n",
        "biogas_model_eval_hybrid_50_50_19 = hybrid_50_50_model(time_data_19, *params_hybrid_50_50)\n",
        "r2_hybrid_50_50_19 = r2_score(biogas_data_mcp_19, biogas_model_eval_hybrid_50_50_19)\n",
        "rmse_hybrid_50_50_19 = np.sqrt(mean_squared_error(biogas_data_mcp_19, biogas_model_eval_hybrid_50_50_19))\n",
        "print(f\"Hybrid Model (50/50) - R-squared: {r2_hybrid_50_50_19:.4f}, RMSE: {rmse_hybrid_50_50_19:.4f}\")\n",
        "\n",
        "# Evaluate Hybrid (Two-Phase Exponential) model (19 days)\n",
        "biogas_model_eval_hybrid_19 = hybrid_model(time_data_19, *params_hybrid_19)\n",
        "r2_hybrid_19 = r2_score(biogas_data_mcp_19, biogas_model_eval_hybrid_19)\n",
        "rmse_hybrid_19 = np.sqrt(mean_squared_error(biogas_data_mcp_19, biogas_model_eval_hybrid_19))\n",
        "print(f\"Hybrid (Two-Phase Exponential) Model - R-squared: {r2_hybrid_19:.4f}, RMSE: {rmse_hybrid_19:.4f}\")"
      ],
      "execution_count": null,
      "outputs": [
        {
          "output_type": "stream",
          "name": "stdout",
          "text": [
            "Model Evaluation Metrics (19 days HRT for MCP):\n",
            "First-order Model - R-squared: 0.9783, RMSE: 9.6116\n",
            "Modified Gompertz Model - R-squared: 0.9746, RMSE: 10.4003\n",
            "Logistic Growth Model - R-squared: 0.9604, RMSE: 12.9808\n",
            "Hybrid Model (50/50) - R-squared: 0.9984, RMSE: 2.5867\n",
            "Hybrid (Two-Phase Exponential) Model - R-squared: 0.9918, RMSE: 5.8935\n"
          ]
        }
      ]
    }
  ]
}